{
 "cells": [
  {
   "cell_type": "markdown",
   "metadata": {
    "collapsed": true
   },
   "source": [
    "# Image Classification\n",
    "In this project, you'll classify images from the [CIFAR-10 dataset](https://www.cs.toronto.edu/~kriz/cifar.html).  The dataset consists of airplanes, dogs, cats, and other objects. You'll preprocess the images, then train a convolutional neural network on all the samples. The images need to be normalized and the labels need to be one-hot encoded.  You'll get to apply what you learned and build a convolutional, max pooling, dropout, and fully connected layers.  At the end, you'll get to see your neural network's predictions on the sample images.\n",
    "## Get the Data\n",
    "Run the following cell to download the [CIFAR-10 dataset for python](https://www.cs.toronto.edu/~kriz/cifar-10-python.tar.gz)."
   ]
  },
  {
   "cell_type": "code",
   "execution_count": 3,
   "metadata": {},
   "outputs": [
    {
     "name": "stdout",
     "output_type": "stream",
     "text": [
      "All files found!\n"
     ]
    }
   ],
   "source": [
    "\"\"\"\n",
    "DON'T MODIFY ANYTHING IN THIS CELL THAT IS BELOW THIS LINE\n",
    "\"\"\"\n",
    "from urllib.request import urlretrieve\n",
    "from os.path import isfile, isdir\n",
    "from tqdm import tqdm\n",
    "import problem_unittests as tests\n",
    "import tarfile\n",
    "\n",
    "cifar10_dataset_folder_path = 'cifar-10-batches-py'\n",
    "\n",
    "# Use Floyd's cifar-10 dataset if present\n",
    "floyd_cifar10_location = '/input/cifar-10/python.tar.gz'\n",
    "if isfile(floyd_cifar10_location):\n",
    "    tar_gz_path = floyd_cifar10_location\n",
    "else:\n",
    "    tar_gz_path = 'cifar-10-python.tar.gz'\n",
    "\n",
    "class DLProgress(tqdm):\n",
    "    last_block = 0\n",
    "\n",
    "    def hook(self, block_num=1, block_size=1, total_size=None):\n",
    "        self.total = total_size\n",
    "        self.update((block_num - self.last_block) * block_size)\n",
    "        self.last_block = block_num\n",
    "\n",
    "if not isfile(tar_gz_path):\n",
    "    with DLProgress(unit='B', unit_scale=True, miniters=1, desc='CIFAR-10 Dataset') as pbar:\n",
    "        urlretrieve(\n",
    "            'https://www.cs.toronto.edu/~kriz/cifar-10-python.tar.gz',\n",
    "            tar_gz_path,\n",
    "            pbar.hook)\n",
    "\n",
    "if not isdir(cifar10_dataset_folder_path):\n",
    "    with tarfile.open(tar_gz_path) as tar:\n",
    "        tar.extractall()\n",
    "        tar.close()\n",
    "\n",
    "\n",
    "tests.test_folder_path(cifar10_dataset_folder_path)"
   ]
  },
  {
   "cell_type": "markdown",
   "metadata": {},
   "source": [
    "## Explore the Data\n",
    "The dataset is broken into batches to prevent your machine from running out of memory.  The CIFAR-10 dataset consists of 5 batches, named `data_batch_1`, `data_batch_2`, etc.. Each batch contains the labels and images that are one of the following:\n",
    "* airplane\n",
    "* automobile\n",
    "* bird\n",
    "* cat\n",
    "* deer\n",
    "* dog\n",
    "* frog\n",
    "* horse\n",
    "* ship\n",
    "* truck\n",
    "\n",
    "Understanding a dataset is part of making predictions on the data.  Play around with the code cell below by changing the `batch_id` and `sample_id`. The `batch_id` is the id for a batch (1-5). The `sample_id` is the id for a image and label pair in the batch.\n",
    "\n",
    "Ask yourself \"What are all possible labels?\", \"What is the range of values for the image data?\", \"Are the labels in order or random?\".  Answers to questions like these will help you preprocess the data and end up with better predictions."
   ]
  },
  {
   "cell_type": "code",
   "execution_count": 2,
   "metadata": {},
   "outputs": [
    {
     "name": "stdout",
     "output_type": "stream",
     "text": [
      "\n",
      "Stats of batch 5:\n",
      "Samples: 10000\n",
      "Label Counts: {0: 1014, 1: 1014, 2: 952, 3: 1016, 4: 997, 5: 1025, 6: 980, 7: 977, 8: 1003, 9: 1022}\n",
      "First 20 Labels: [1, 8, 5, 1, 5, 7, 4, 3, 8, 2, 7, 2, 0, 1, 5, 9, 6, 2, 0, 8]\n",
      "\n",
      "Example of Image 205:\n",
      "Image - Min Value: 7 Max Value: 225\n",
      "Image - Shape: (32, 32, 3)\n",
      "Label - Label Id: 5 Name: dog\n"
     ]
    },
    {
     "data": {
      "image/png": "[encoded data removed]",
      "text/plain": [
       "<matplotlib.figure.Figure at 0x1b647d6af28>"
      ]
     },
     "metadata": {
      "image/png": {
       "height": 250,
       "width": 253
      }
     },
     "output_type": "display_data"
    }
   ],
   "source": [
    "%matplotlib inline\n",
    "%config InlineBackend.figure_format = 'retina'\n",
    "\n",
    "import helper\n",
    "import numpy as np\n",
    "\n",
    "# Explore the dataset\n",
    "batch_id = 5\n",
    "sample_id = 205\n",
    "helper.display_stats(cifar10_dataset_folder_path, batch_id, sample_id)"
   ]
  },
  {
   "cell_type": "markdown",
   "metadata": {},
   "source": [
    "## Implement Preprocess Functions\n",
    "### Normalize\n",
    "In the cell below, implement the `normalize` function to take in image data, `x`, and return it as a normalized Numpy array. The values should be in the range of 0 to 1, inclusive.  The return object should be the same shape as `x`."
   ]
  },
  {
   "cell_type": "code",
   "execution_count": 3,
   "metadata": {},
   "outputs": [
    {
     "name": "stdout",
     "output_type": "stream",
     "text": [
      "Tests Passed\n"
     ]
    }
   ],
   "source": [
    "def normalize(x):\n",
    "    \"\"\"\n",
    "    Normalize a list of sample image data in the range of 0 to 1\n",
    "    : x: List of image data.  The image shape is (32, 32, 3)\n",
    "    : return: Numpy array of normalize data\n",
    "    \"\"\"\n",
    "    # TODO: Implement Function\n",
    "    min_n = 0\n",
    "    max_n = 1\n",
    "    \n",
    "    return min_n + ((x- 0) * (max_n - min_n)) / (255 - 0)\n",
    "\n",
    "\n",
    "\"\"\"\n",
    "DON'T MODIFY ANYTHING IN THIS CELL THAT IS BELOW THIS LINE\n",
    "\"\"\"\n",
    "tests.test_normalize(normalize)"
   ]
  },
  {
   "cell_type": "markdown",
   "metadata": {},
   "source": [
    "### One-hot encode\n",
    "Just like the previous code cell, you'll be implementing a function for preprocessing.  This time, you'll implement the `one_hot_encode` function. The input, `x`, are a list of labels.  Implement the function to return the list of labels as One-Hot encoded Numpy array.  The possible values for labels are 0 to 9. The one-hot encoding function should return the same encoding for each value between each call to `one_hot_encode`.  Make sure to save the map of encodings outside the function.\n",
    "\n",
    "Hint: Don't reinvent the wheel."
   ]
  },
  {
   "cell_type": "code",
   "execution_count": 4,
   "metadata": {},
   "outputs": [
    {
     "name": "stdout",
     "output_type": "stream",
     "text": [
      "Tests Passed\n"
     ]
    }
   ],
   "source": [
    "def one_hot_encode(x):\n",
    "    \"\"\"\n",
    "    One hot encode a list of sample labels. Return a one-hot encoded vector for each label.\n",
    "    : x: List of sample Labels\n",
    "    : return: Numpy array of one-hot encoded labels\n",
    "    \"\"\"\n",
    "    #TODO: Implement Encoder Function\n",
    "    nb_classes = 10\n",
    "    one_hot_targets = np.eye(nb_classes)[x]\n",
    "    return one_hot_targets\n",
    "    \n",
    "\n",
    "\"\"\"\n",
    "DON'T MODIFY ANYTHING IN THIS CELL THAT IS BELOW THIS LINE\n",
    "\"\"\"\n",
    "tests.test_one_hot_encode(one_hot_encode)"
   ]
  },
  {
   "cell_type": "markdown",
   "metadata": {},
   "source": [
    "### Randomize Data\n",
    "As you saw from exploring the data above, the order of the samples are randomized.  It doesn't hurt to randomize it again, but you don't need to for this dataset."
   ]
  },
  {
   "cell_type": "markdown",
   "metadata": {},
   "source": [
    "## Preprocess all the data and save it\n",
    "Running the code cell below will preprocess all the CIFAR-10 data and save it to file. The code below also uses 10% of the training data for validation."
   ]
  },
  {
   "cell_type": "code",
   "execution_count": 5,
   "metadata": {
    "collapsed": true
   },
   "outputs": [],
   "source": [
    "\"\"\"\n",
    "DON'T MODIFY ANYTHING IN THIS CELL\n",
    "\"\"\"\n",
    "# Preprocess Training, Validation, and Testing Data\n",
    "helper.preprocess_and_save_data(cifar10_dataset_folder_path, normalize, one_hot_encode)"
   ]
  },
  {
   "cell_type": "markdown",
   "metadata": {},
   "source": [
    "# Check Point\n",
    "This is your first checkpoint.  If you ever decide to come back to this notebook or have to restart the notebook, you can start from here.  The preprocessed data has been saved to disk."
   ]
  },
  {
   "cell_type": "code",
   "execution_count": 4,
   "metadata": {
    "collapsed": true
   },
   "outputs": [],
   "source": [
    "\"\"\"\n",
    "DON'T MODIFY ANYTHING IN THIS CELL\n",
    "\"\"\"\n",
    "import pickle\n",
    "import problem_unittests as tests\n",
    "import helper\n",
    "\n",
    "# Load the Preprocessed Validation data\n",
    "valid_features, valid_labels = pickle.load(open('preprocess_validation.p', mode='rb'))"
   ]
  },
  {
   "cell_type": "markdown",
   "metadata": {},
   "source": [
    "## Build the network\n",
    "For the neural network, you'll build each layer into a function.  Most of the code you've seen has been outside of functions. To test your code more thoroughly, we require that you put each layer in a function.  This allows us to give you better feedback and test for simple mistakes using our unittests before you submit your project.\n",
    "\n",
    ">**Note:** If you're finding it hard to dedicate enough time for this course each week, we've provided a small shortcut to this part of the project. In the next couple of problems, you'll have the option to use classes from the [TensorFlow Layers](https://www.tensorflow.org/api_docs/python/tf/layers) or [TensorFlow Layers (contrib)](https://www.tensorflow.org/api_guides/python/contrib.layers) packages to build each layer, except the layers you build in the \"Convolutional and Max Pooling Layer\" section.  TF Layers is similar to Keras's and TFLearn's abstraction to layers, so it's easy to pickup.\n",
    "\n",
    ">However, if you would like to get the most out of this course, try to solve all the problems _without_ using anything from the TF Layers packages. You **can** still use classes from other packages that happen to have the same name as ones you find in TF Layers! For example, instead of using the TF Layers version of the `conv2d` class, [tf.layers.conv2d](https://www.tensorflow.org/api_docs/python/tf/layers/conv2d), you would want to use the TF Neural Network version of `conv2d`, [tf.nn.conv2d](https://www.tensorflow.org/api_docs/python/tf/nn/conv2d). \n",
    "\n",
    "Let's begin!\n",
    "\n",
    "### Input\n",
    "The neural network needs to read the image data, one-hot encoded labels, and dropout keep probability. Implement the following functions\n",
    "* Implement `neural_net_image_input`\n",
    " * Return a [TF Placeholder](https://www.tensorflow.org/api_docs/python/tf/placeholder)\n",
    " * Set the shape using `image_shape` with batch size set to `None`.\n",
    " * Name the TensorFlow placeholder \"x\" using the TensorFlow `name` parameter in the [TF Placeholder](https://www.tensorflow.org/api_docs/python/tf/placeholder).\n",
    "* Implement `neural_net_label_input`\n",
    " * Return a [TF Placeholder](https://www.tensorflow.org/api_docs/python/tf/placeholder)\n",
    " * Set the shape using `n_classes` with batch size set to `None`.\n",
    " * Name the TensorFlow placeholder \"y\" using the TensorFlow `name` parameter in the [TF Placeholder](https://www.tensorflow.org/api_docs/python/tf/placeholder).\n",
    "* Implement `neural_net_keep_prob_input`\n",
    " * Return a [TF Placeholder](https://www.tensorflow.org/api_docs/python/tf/placeholder) for dropout keep probability.\n",
    " * Name the TensorFlow placeholder \"keep_prob\" using the TensorFlow `name` parameter in the [TF Placeholder](https://www.tensorflow.org/api_docs/python/tf/placeholder).\n",
    "\n",
    "These names will be used at the end of the project to load your saved model.\n",
    "\n",
    "Note: `None` for shapes in TensorFlow allow for a dynamic size."
   ]
  },
  {
   "cell_type": "code",
   "execution_count": 5,
   "metadata": {},
   "outputs": [
    {
     "name": "stdout",
     "output_type": "stream",
     "text": [
      "Image Input Tests Passed.\n",
      "Label Input Tests Passed.\n",
      "Keep Prob Tests Passed.\n"
     ]
    }
   ],
   "source": [
    "import tensorflow as tf\n",
    "\n",
    "def neural_net_image_input(image_shape):\n",
    "    \"\"\"\n",
    "    Return a Tensor for a batch of image input\n",
    "    : image_shape: Shape of the images\n",
    "    : return: Tensor for image input.\n",
    "    \"\"\"\n",
    "    # TODO: Implement Function\n",
    "    return tf.placeholder(tf.float32, [None, image_shape[0], image_shape[1], image_shape[2]], name='x')\n",
    "\n",
    "\n",
    "def neural_net_label_input(n_classes):\n",
    "    \"\"\"\n",
    "    Return a Tensor for a batch of label input\n",
    "    : n_classes: Number of classes\n",
    "    : return: Tensor for label input.\n",
    "    \"\"\"\n",
    "    # TODO: Implement Function\n",
    "    return tf.placeholder(tf.int32, [None, n_classes], name='y')\n",
    "\n",
    "\n",
    "def neural_net_keep_prob_input():\n",
    "    \"\"\"\n",
    "    Return a Tensor for keep probability\n",
    "    : return: Tensor for keep probability.\n",
    "    \"\"\"\n",
    "    # TODO: Implement Function\n",
    "    return tf.placeholder(tf.float32, name='keep_prob')\n",
    "\n",
    "\n",
    "\"\"\"\n",
    "DON'T MODIFY ANYTHING IN THIS CELL THAT IS BELOW THIS LINE\n",
    "\"\"\"\n",
    "tf.reset_default_graph()\n",
    "tests.test_nn_image_inputs(neural_net_image_input)\n",
    "tests.test_nn_label_inputs(neural_net_label_input)\n",
    "tests.test_nn_keep_prob_inputs(neural_net_keep_prob_input)"
   ]
  },
  {
   "cell_type": "markdown",
   "metadata": {},
   "source": [
    "### Convolution and Max Pooling Layer\n",
    "Convolution layers have a lot of success with images. For this code cell, you should implement the function `conv2d_maxpool` to apply convolution then max pooling:\n",
    "* Create the weight and bias using `conv_ksize`, `conv_num_outputs` and the shape of `x_tensor`.\n",
    "* Apply a convolution to `x_tensor` using weight and `conv_strides`.\n",
    " * We recommend you use same padding, but you're welcome to use any padding.\n",
    "* Add bias\n",
    "* Add a nonlinear activation to the convolution.\n",
    "* Apply Max Pooling using `pool_ksize` and `pool_strides`.\n",
    " * We recommend you use same padding, but you're welcome to use any padding.\n",
    "\n",
    "**Note:** You **can't** use [TensorFlow Layers](https://www.tensorflow.org/api_docs/python/tf/layers) or [TensorFlow Layers (contrib)](https://www.tensorflow.org/api_guides/python/contrib.layers) for **this** layer, but you can still use TensorFlow's [Neural Network](https://www.tensorflow.org/api_docs/python/tf/nn) package. You may still use the shortcut option for all the **other** layers."
   ]
  },
  {
   "cell_type": "code",
   "execution_count": 66,
   "metadata": {},
   "outputs": [
    {
     "name": "stdout",
     "output_type": "stream",
     "text": [
      "Tests Passed\n"
     ]
    }
   ],
   "source": [
    "def conv2d_maxpool(x_tensor, conv_num_outputs, conv_ksize, conv_strides, pool_ksize, pool_strides):\n",
    "    \"\"\"\n",
    "    Apply convolution then max pooling to x_tensor\n",
    "    :param x_tensor: TensorFlow Tensor\n",
    "    :param conv_num_outputs: Number of outputs for the convolutional layer\n",
    "    :param conv_ksize: kernal size 2-D Tuple for the convolutional layer\n",
    "    :param conv_strides: Stride 2-D Tuple for convolution\n",
    "    :param pool_ksize: kernal size 2-D Tuple for pool\n",
    "    :param pool_strides: Stride 2-D Tuple for pool\n",
    "    : return: A tensor that represents convolution and max pooling of x_tensor\n",
    "    \"\"\"\n",
    "    # TODO: Implement Function\n",
    "    weights = tf.Variable(tf.truncated_normal((conv_ksize[0], conv_ksize[1],int(x_tensor.shape[3]),conv_num_outputs), stddev=0.1))\n",
    "    bias = tf.Variable(tf.zeros(conv_num_outputs))\n",
    "    \n",
    "    # Create the Model and apply bias terms\n",
    "    conv = tf.nn.conv2d(x_tensor, weights, strides=[1, conv_strides[0], conv_strides[1], 1], padding='SAME')\n",
    "    conv = tf.nn.bias_add(conv, bias)\n",
    "    \n",
    "    # Apply non-linearity\n",
    "    conv = tf.nn.relu(conv)\n",
    "    \n",
    "    # Apply Max-Pooling\n",
    "    conv = tf.nn.max_pool(\n",
    "        conv,\n",
    "        ksize = [1,pool_ksize[0], pool_ksize[1], 1],\n",
    "        strides = [1, pool_strides[0], pool_strides[1], 1],\n",
    "        padding = 'SAME'\n",
    "    )\n",
    "    \n",
    "    # Return finished Model\n",
    "    return conv\n",
    "    \n",
    "\"\"\"\n",
    "DON'T MODIFY ANYTHING IN THIS CELL THAT IS BELOW THIS LINE\n",
    "\"\"\"\n",
    "tests.test_con_pool(conv2d_maxpool)\n"
   ]
  },
  {
   "cell_type": "markdown",
   "metadata": {},
   "source": [
    "### Flatten Layer\n",
    "Implement the `flatten` function to change the dimension of `x_tensor` from a 4-D tensor to a 2-D tensor.  The output should be the shape (*Batch Size*, *Flattened Image Size*). Shortcut option: you can use classes from the [TensorFlow Layers](https://www.tensorflow.org/api_docs/python/tf/layers) or [TensorFlow Layers (contrib)](https://www.tensorflow.org/api_guides/python/contrib.layers) packages for this layer. For more of a challenge, only use other TensorFlow packages."
   ]
  },
  {
   "cell_type": "code",
   "execution_count": 7,
   "metadata": {},
   "outputs": [
    {
     "name": "stdout",
     "output_type": "stream",
     "text": [
      "Tests Passed\n"
     ]
    }
   ],
   "source": [
    "def flatten(x_tensor):\n",
    "    \"\"\"\n",
    "    Flatten x_tensor to (Batch Size, Flattened Image Size)\n",
    "    : x_tensor: A tensor of size (Batch Size, ...), where ... are the image dimensions.\n",
    "    : return: A tensor of size (Batch Size, Flattened Image Size).\n",
    "    \"\"\"\n",
    "    # TODO: Implement Function    \n",
    "    return tf.reshape(x_tensor, [-1, int(x_tensor.shape[1])*int(x_tensor.shape[2])*int(x_tensor.shape[3])])\n",
    "\n",
    "\"\"\"\n",
    "DON'T MODIFY ANYTHING IN THIS CELL THAT IS BELOW THIS LINE\n",
    "\"\"\"\n",
    "tests.test_flatten(flatten)"
   ]
  },
  {
   "cell_type": "markdown",
   "metadata": {},
   "source": [
    "### Fully-Connected Layer\n",
    "Implement the `fully_conn` function to apply a fully connected layer to `x_tensor` with the shape (*Batch Size*, *num_outputs*). Shortcut option: you can use classes from the [TensorFlow Layers](https://www.tensorflow.org/api_docs/python/tf/layers) or [TensorFlow Layers (contrib)](https://www.tensorflow.org/api_guides/python/contrib.layers) packages for this layer. For more of a challenge, only use other TensorFlow packages."
   ]
  },
  {
   "cell_type": "code",
   "execution_count": 8,
   "metadata": {},
   "outputs": [
    {
     "name": "stdout",
     "output_type": "stream",
     "text": [
      "Tests Passed\n"
     ]
    }
   ],
   "source": [
    "def fully_conn(x_tensor, num_outputs):\n",
    "    \"\"\"\n",
    "    Apply a fully connected layer to x_tensor using weight and bias\n",
    "    : x_tensor: A 2-D tensor where the first dimension is batch size.\n",
    "    : num_outputs: The number of output that the new tensor should be.\n",
    "    : return: A 2-D tensor where the second dimension is num_outputs.\n",
    "    \"\"\"\n",
    "    # TODO: Implement Function\n",
    "    # Set initial weights and bias\n",
    "    weights = tf.Variable(tf.truncated_normal([int(x_tensor.shape[1]), num_outputs], stddev=0.05))\n",
    "    bias = tf.Variable(tf.truncated_normal([num_outputs], stddev=0.5))\n",
    "    \n",
    "    # Create Model\n",
    "    model = tf.add(tf.matmul(x_tensor, weights), bias)\n",
    "    \n",
    "    # Return the Model\n",
    "    return tf.nn.relu(model)\n",
    "\n",
    "\n",
    "\"\"\"\n",
    "DON'T MODIFY ANYTHING IN THIS CELL THAT IS BELOW THIS LINE\n",
    "\"\"\"\n",
    "tests.test_fully_conn(fully_conn)"
   ]
  },
  {
   "cell_type": "markdown",
   "metadata": {},
   "source": [
    "### Output Layer\n",
    "Implement the `output` function to apply a fully connected layer to `x_tensor` with the shape (*Batch Size*, *num_outputs*). Shortcut option: you can use classes from the [TensorFlow Layers](https://www.tensorflow.org/api_docs/python/tf/layers) or [TensorFlow Layers (contrib)](https://www.tensorflow.org/api_guides/python/contrib.layers) packages for this layer. For more of a challenge, only use other TensorFlow packages.\n",
    "\n",
    "**Note:** Activation, softmax, or cross entropy should **not** be applied to this."
   ]
  },
  {
   "cell_type": "code",
   "execution_count": 9,
   "metadata": {},
   "outputs": [
    {
     "name": "stdout",
     "output_type": "stream",
     "text": [
      "Tests Passed\n"
     ]
    }
   ],
   "source": [
    "def output(x_tensor, num_outputs):\n",
    "    \"\"\"\n",
    "    Apply a output layer to x_tensor using weight and bias\n",
    "    : x_tensor: A 2-D tensor where the first dimension is batch size.\n",
    "    : num_outputs: The number of output that the new tensor should be.\n",
    "    : return: A 2-D tensor where the second dimension is num_outputs.\n",
    "    \"\"\"\n",
    "    # TODO: Implement Function\n",
    "    weights = tf.Variable(tf.truncated_normal([int(x_tensor.shape[1]), num_outputs]))\n",
    "    bias = tf.Variable(tf.zeros(num_outputs))\n",
    "    \n",
    "    # Apply the fully connected output layer\n",
    "    return tf.add(tf.matmul(x_tensor, weights), bias)\n",
    "    \n",
    "    \n",
    "\n",
    "\n",
    "\"\"\"\n",
    "DON'T MODIFY ANYTHING IN THIS CELL THAT IS BELOW THIS LINE\n",
    "\"\"\"\n",
    "tests.test_output(output)"
   ]
  },
  {
   "cell_type": "markdown",
   "metadata": {},
   "source": [
    "### Create Convolutional Model\n",
    "Implement the function `conv_net` to create a convolutional neural network model. The function takes in a batch of images, `x`, and outputs logits.  Use the layers you created above to create this model:\n",
    "\n",
    "* Apply 1, 2, or 3 Convolution and Max Pool layers\n",
    "* Apply a Flatten Layer\n",
    "* Apply 1, 2, or 3 Fully Connected Layers\n",
    "* Apply an Output Layer\n",
    "* Return the output\n",
    "* Apply [TensorFlow's Dropout](https://www.tensorflow.org/api_docs/python/tf/nn/dropout) to one or more layers in the model using `keep_prob`. "
   ]
  },
  {
   "cell_type": "code",
   "execution_count": 67,
   "metadata": {},
   "outputs": [
    {
     "name": "stdout",
     "output_type": "stream",
     "text": [
      "Neural Network Built!\n"
     ]
    }
   ],
   "source": [
    "def conv_net(x, keep_prob):\n",
    "    \"\"\"\n",
    "    Create a convolutional neural network model\n",
    "    : x: Placeholder tensor that holds image data.\n",
    "    : keep_prob: Placeholder tensor that hold dropout keep probability.\n",
    "    : return: Tensor that represents logits\n",
    "    \"\"\"\n",
    "    # TODO: Apply 1, 2, or 3 Convolution and Max Pool layers\n",
    "    #    Play around with different number of outputs, kernel size and stride\n",
    "    # Function Definition from Above:\n",
    "    #    conv2d_maxpool(x_tensor, conv_num_outputs, conv_ksize, conv_strides, pool_ksize, pool_strides)\n",
    "    conv_layer1 = conv2d_maxpool(x, 64, (5,5), (1,1), (2,2), (2,2))\n",
    "    conv_layer2 = conv2d_maxpool(conv_layer1, 128, (5,5), (1,1), (2,2), (2,2))\n",
    "\n",
    "    # TODO: Apply a Flatten Layer\n",
    "    # Function Definition from Above:\n",
    "    #   flatten(x_tensor)\n",
    "    model = flatten(conv_layer2)\n",
    "    \n",
    "    # TODO: Apply 1, 2, or 3 Fully Connected Layers\n",
    "    #    Play around with different number of outputs\n",
    "    # Function Definition from Above:\n",
    "    #   fully_conn(x_tensor, num_outputs)\n",
    "    hidden_1 = tf.nn.dropout(fully_conn(model, 128), keep_prob)\n",
    "    hidden_2 = tf.nn.dropout(fully_conn(hidden_1, 64), keep_prob)\n",
    "\n",
    "    \n",
    "    \n",
    "    # TODO: Apply an Output Layer\n",
    "    #    Set this to the number of classes\n",
    "    # Function Definition from Above:\n",
    "    #   output(x_tensor, num_outputs)\n",
    "    model = output(hidden_2, 10)\n",
    "    \n",
    "    # TODO: return output\n",
    "    return model\n",
    "\n",
    "\n",
    "\"\"\"\n",
    "DON'T MODIFY ANYTHING IN THIS CELL THAT IS BELOW THIS LINE\n",
    "\"\"\"\n",
    "\n",
    "##############################\n",
    "## Build the Neural Network ##\n",
    "##############################\n",
    "\n",
    "# Remove previous weights, bias, inputs, etc..\n",
    "tf.reset_default_graph()\n",
    "\n",
    "# Inputs\n",
    "x = neural_net_image_input((32, 32, 3))\n",
    "y = neural_net_label_input(10)\n",
    "keep_prob = neural_net_keep_prob_input()\n",
    "\n",
    "# Model\n",
    "logits = conv_net(x, keep_prob)\n",
    "\n",
    "# Name logits Tensor, so that is can be loaded from disk after training\n",
    "logits = tf.identity(logits, name='logits')\n",
    "\n",
    "# Loss and Optimizer\n",
    "cost = tf.reduce_mean(tf.nn.softmax_cross_entropy_with_logits(logits=logits, labels=y))\n",
    "optimizer = tf.train.AdamOptimizer().minimize(cost)\n",
    "\n",
    "# Accuracy\n",
    "correct_pred = tf.equal(tf.argmax(logits, 1), tf.argmax(y, 1))\n",
    "accuracy = tf.reduce_mean(tf.cast(correct_pred, tf.float32), name='accuracy')\n",
    "\n",
    "tests.test_conv_net(conv_net)"
   ]
  },
  {
   "cell_type": "markdown",
   "metadata": {},
   "source": [
    "## Train the Neural Network\n",
    "### Single Optimization\n",
    "Implement the function `train_neural_network` to do a single optimization.  The optimization should use `optimizer` to optimize in `session` with a `feed_dict` of the following:\n",
    "* `x` for image input\n",
    "* `y` for labels\n",
    "* `keep_prob` for keep probability for dropout\n",
    "\n",
    "This function will be called for each batch, so `tf.global_variables_initializer()` has already been called.\n",
    "\n",
    "Note: Nothing needs to be returned. This function is only optimizing the neural network."
   ]
  },
  {
   "cell_type": "code",
   "execution_count": 11,
   "metadata": {},
   "outputs": [
    {
     "name": "stdout",
     "output_type": "stream",
     "text": [
      "Tests Passed\n"
     ]
    }
   ],
   "source": [
    "def train_neural_network(session, optimizer, keep_probability, feature_batch, label_batch):\n",
    "    \"\"\"\n",
    "    Optimize the session on a batch of images and labels\n",
    "    : session: Current TensorFlow session\n",
    "    : optimizer: TensorFlow optimizer function\n",
    "    : keep_probability: keep probability\n",
    "    : feature_batch: Batch of Numpy image data\n",
    "    : label_batch: Batch of Numpy label data\n",
    "    \"\"\"\n",
    "    # TODO: Implement Function\n",
    "    session.run(optimizer, feed_dict={\n",
    "        x: feature_batch,\n",
    "        y: label_batch,\n",
    "        keep_prob: keep_probability\n",
    "    })\n",
    "\n",
    "\n",
    "\"\"\"\n",
    "DON'T MODIFY ANYTHING IN THIS CELL THAT IS BELOW THIS LINE\n",
    "\"\"\"\n",
    "tests.test_train_nn(train_neural_network)"
   ]
  },
  {
   "cell_type": "markdown",
   "metadata": {},
   "source": [
    "### Show Stats\n",
    "Implement the function `print_stats` to print loss and validation accuracy.  Use the global variables `valid_features` and `valid_labels` to calculate validation accuracy.  Use a keep probability of `1.0` to calculate the loss and validation accuracy."
   ]
  },
  {
   "cell_type": "code",
   "execution_count": 12,
   "metadata": {
    "collapsed": true
   },
   "outputs": [],
   "source": [
    "def print_stats(session, feature_batch, label_batch, cost, accuracy):\n",
    "    \"\"\"\n",
    "    Print information about loss and validation accuracy\n",
    "    : session: Current TensorFlow session\n",
    "    : feature_batch: Batch of Numpy image data\n",
    "    : label_batch: Batch of Numpy label data\n",
    "    : cost: TensorFlow cost function\n",
    "    : accuracy: TensorFlow accuracy function\n",
    "    \"\"\"\n",
    "    # TODO: Implement Function\n",
    "    loss = session.run(cost, feed_dict={\n",
    "        x: feature_batch,\n",
    "        y: label_batch,\n",
    "        keep_prob: 1.0\n",
    "    })\n",
    "    \n",
    "    val_acc = sess.run(accuracy, feed_dict={\n",
    "        x: valid_features, \n",
    "        y: valid_labels,\n",
    "        keep_prob: 1.0\n",
    "    })\n",
    "    \n",
    "    print(' Loss: ', loss, ' Acc: ', val_acc)\n",
    "    "
   ]
  },
  {
   "cell_type": "markdown",
   "metadata": {},
   "source": [
    "### Hyperparameters\n",
    "Tune the following parameters:\n",
    "* Set `epochs` to the number of iterations until the network stops learning or start overfitting\n",
    "* Set `batch_size` to the highest number that your machine has memory for.  Most people set them to common sizes of memory:\n",
    " * 64\n",
    " * 128\n",
    " * 256\n",
    " * ...\n",
    "* Set `keep_probability` to the probability of keeping a node using dropout"
   ]
  },
  {
   "cell_type": "code",
   "execution_count": 74,
   "metadata": {
    "collapsed": true
   },
   "outputs": [],
   "source": [
    "# TODO: Tune Parameters\n",
    "epochs = 25\n",
    "batch_size = 1024\n",
    "keep_probability = 0.75"
   ]
  },
  {
   "cell_type": "markdown",
   "metadata": {},
   "source": [
    "### Train on a Single CIFAR-10 Batch\n",
    "Instead of training the neural network on all the CIFAR-10 batches of data, let's use a single batch. This should save time while you iterate on the model to get a better accuracy.  Once the final validation accuracy is 50% or greater, run the model on all the data in the next section."
   ]
  },
  {
   "cell_type": "code",
   "execution_count": 72,
   "metadata": {},
   "outputs": [
    {
     "name": "stdout",
     "output_type": "stream",
     "text": [
      "Checking the Training on a Single Batch...\n",
      "Epoch  1, CIFAR-10 Batch 1:   Loss:  2.33964  Acc:  0.1154\n",
      "Epoch  2, CIFAR-10 Batch 1:   Loss:  2.22548  Acc:  0.1758\n",
      "Epoch  3, CIFAR-10 Batch 1:   Loss:  2.12152  Acc:  0.2192\n",
      "Epoch  4, CIFAR-10 Batch 1:   Loss:  2.09828  Acc:  0.243\n",
      "Epoch  5, CIFAR-10 Batch 1:   Loss:  2.02613  Acc:  0.2744\n",
      "Epoch  6, CIFAR-10 Batch 1:   Loss:  1.90389  Acc:  0.3112\n",
      "Epoch  7, CIFAR-10 Batch 1:   Loss:  1.86821  Acc:  0.3398\n",
      "Epoch  8, CIFAR-10 Batch 1:   Loss:  1.77132  Acc:  0.3864\n",
      "Epoch  9, CIFAR-10 Batch 1:   Loss:  1.70144  Acc:  0.406\n",
      "Epoch 10, CIFAR-10 Batch 1:   Loss:  1.63267  Acc:  0.4202\n",
      "Epoch 11, CIFAR-10 Batch 1:   Loss:  1.57829  Acc:  0.4328\n",
      "Epoch 12, CIFAR-10 Batch 1:   Loss:  1.49259  Acc:  0.4508\n",
      "Epoch 13, CIFAR-10 Batch 1:   Loss:  1.46108  Acc:  0.4516\n",
      "Epoch 14, CIFAR-10 Batch 1:   Loss:  1.40172  Acc:  0.474\n",
      "Epoch 15, CIFAR-10 Batch 1:   Loss:  1.39582  Acc:  0.4524\n",
      "Epoch 16, CIFAR-10 Batch 1:   Loss:  1.31399  Acc:  0.4894\n",
      "Epoch 17, CIFAR-10 Batch 1:   Loss:  1.28955  Acc:  0.4876\n",
      "Epoch 18, CIFAR-10 Batch 1:   Loss:  1.20981  Acc:  0.4904\n",
      "Epoch 19, CIFAR-10 Batch 1:   Loss:  1.18631  Acc:  0.5046\n",
      "Epoch 20, CIFAR-10 Batch 1:   Loss:  1.1536  Acc:  0.5084\n",
      "Epoch 21, CIFAR-10 Batch 1:   Loss:  1.0975  Acc:  0.5148\n",
      "Epoch 22, CIFAR-10 Batch 1:   Loss:  1.08405  Acc:  0.5066\n",
      "Epoch 23, CIFAR-10 Batch 1:   Loss:  1.02964  Acc:  0.5256\n",
      "Epoch 24, CIFAR-10 Batch 1:   Loss:  0.998018  Acc:  0.5318\n",
      "Epoch 25, CIFAR-10 Batch 1:   Loss:  0.927381  Acc:  0.5418\n",
      "Epoch 26, CIFAR-10 Batch 1:   Loss:  0.956817  Acc:  0.5394\n",
      "Epoch 27, CIFAR-10 Batch 1:   Loss:  0.909634  Acc:  0.5368\n",
      "Epoch 28, CIFAR-10 Batch 1:   Loss:  0.83062  Acc:  0.5574\n",
      "Epoch 29, CIFAR-10 Batch 1:   Loss:  0.830336  Acc:  0.547\n",
      "Epoch 30, CIFAR-10 Batch 1:   Loss:  0.797367  Acc:  0.5576\n",
      "Epoch 31, CIFAR-10 Batch 1:   Loss:  0.753795  Acc:  0.5694\n",
      "Epoch 32, CIFAR-10 Batch 1:   Loss:  0.690642  Acc:  0.568\n",
      "Epoch 33, CIFAR-10 Batch 1:   Loss:  0.652094  Acc:  0.5816\n",
      "Epoch 34, CIFAR-10 Batch 1:   Loss:  0.632003  Acc:  0.5686\n",
      "Epoch 35, CIFAR-10 Batch 1:   Loss:  0.591352  Acc:  0.5812\n",
      "Epoch 36, CIFAR-10 Batch 1:   Loss:  0.5892  Acc:  0.5766\n",
      "Epoch 37, CIFAR-10 Batch 1:   Loss:  0.56208  Acc:  0.5712\n",
      "Epoch 38, CIFAR-10 Batch 1:   Loss:  0.539103  Acc:  0.5768\n",
      "Epoch 39, CIFAR-10 Batch 1:   Loss:  0.49627  Acc:  0.5784\n",
      "Epoch 40, CIFAR-10 Batch 1:   Loss:  0.448808  Acc:  0.5844\n",
      "Epoch 41, CIFAR-10 Batch 1:   Loss:  0.445991  Acc:  0.577\n",
      "Epoch 42, CIFAR-10 Batch 1:   Loss:  0.402974  Acc:  0.5802\n",
      "Epoch 43, CIFAR-10 Batch 1:   Loss:  0.402371  Acc:  0.5764\n",
      "Epoch 44, CIFAR-10 Batch 1:   Loss:  0.352577  Acc:  0.5878\n",
      "Epoch 45, CIFAR-10 Batch 1:   Loss:  0.379286  Acc:  0.5788\n",
      "Epoch 46, CIFAR-10 Batch 1:   Loss:  0.339747  Acc:  0.5824\n",
      "Epoch 47, CIFAR-10 Batch 1:   Loss:  0.347367  Acc:  0.5762\n",
      "Epoch 48, CIFAR-10 Batch 1:   Loss:  0.371949  Acc:  0.5676\n",
      "Epoch 49, CIFAR-10 Batch 1:   Loss:  0.317632  Acc:  0.566\n",
      "Epoch 50, CIFAR-10 Batch 1:   Loss:  0.315286  Acc:  0.5776\n",
      "Epoch 51, CIFAR-10 Batch 1:   Loss:  0.262774  Acc:  0.5818\n",
      "Epoch 52, CIFAR-10 Batch 1:   Loss:  0.259511  Acc:  0.5874\n",
      "Epoch 53, CIFAR-10 Batch 1:   Loss:  0.249092  Acc:  0.5834\n",
      "Epoch 54, CIFAR-10 Batch 1:   Loss:  0.254862  Acc:  0.5774\n",
      "Epoch 55, CIFAR-10 Batch 1:   Loss:  0.201012  Acc:  0.5904\n",
      "Epoch 56, CIFAR-10 Batch 1:   Loss:  0.185987  Acc:  0.581\n",
      "Epoch 57, CIFAR-10 Batch 1:   Loss:  0.19399  Acc:  0.5806\n",
      "Epoch 58, CIFAR-10 Batch 1:   Loss:  0.169542  Acc:  0.583\n",
      "Epoch 59, CIFAR-10 Batch 1:   Loss:  0.156644  Acc:  0.5846\n",
      "Epoch 60, CIFAR-10 Batch 1:   Loss:  0.15112  Acc:  0.5866\n"
     ]
    }
   ],
   "source": [
    "\"\"\"\n",
    "DON'T MODIFY ANYTHING IN THIS CELL\n",
    "\"\"\"\n",
    "print('Checking the Training on a Single Batch...')\n",
    "with tf.Session() as sess:\n",
    "    # Initializing the variables\n",
    "    sess.run(tf.global_variables_initializer())\n",
    "    \n",
    "    # Training cycle\n",
    "    for epoch in range(epochs):\n",
    "        batch_i = 1\n",
    "        for batch_features, batch_labels in helper.load_preprocess_training_batch(batch_i, batch_size):\n",
    "            train_neural_network(sess, optimizer, keep_probability, batch_features, batch_labels)\n",
    "        print('Epoch {:>2}, CIFAR-10 Batch {}:  '.format(epoch + 1, batch_i), end='')\n",
    "        print_stats(sess, batch_features, batch_labels, cost, accuracy)"
   ]
  },
  {
   "cell_type": "markdown",
   "metadata": {},
   "source": [
    "### Fully Train the Model\n",
    "Now that you got a good accuracy with a single CIFAR-10 batch, try it with all five batches."
   ]
  },
  {
   "cell_type": "code",
   "execution_count": 77,
   "metadata": {},
   "outputs": [
    {
     "name": "stdout",
     "output_type": "stream",
     "text": [
      "Training...\n",
      "Epoch  1, CIFAR-10 Batch 1:   Loss:  2.74889  Acc:  0.098\n",
      "Epoch  1, CIFAR-10 Batch 2:   Loss:  2.38018  Acc:  0.1446\n",
      "Epoch  1, CIFAR-10 Batch 3:   Loss:  2.22829  Acc:  0.1738\n",
      "Epoch  1, CIFAR-10 Batch 4:   Loss:  2.16488  Acc:  0.2442\n",
      "Epoch  1, CIFAR-10 Batch 5:   Loss:  2.11598  Acc:  0.2508\n",
      "Epoch  2, CIFAR-10 Batch 1:   Loss:  2.06297  Acc:  0.2764\n",
      "Epoch  2, CIFAR-10 Batch 2:   Loss:  1.99359  Acc:  0.3162\n",
      "Epoch  2, CIFAR-10 Batch 3:   Loss:  1.96034  Acc:  0.3204\n",
      "Epoch  2, CIFAR-10 Batch 4:   Loss:  1.8743  Acc:  0.3412\n",
      "Epoch  2, CIFAR-10 Batch 5:   Loss:  1.84977  Acc:  0.3666\n",
      "Epoch  3, CIFAR-10 Batch 1:   Loss:  1.78085  Acc:  0.3932\n",
      "Epoch  3, CIFAR-10 Batch 2:   Loss:  1.6944  Acc:  0.413\n",
      "Epoch  3, CIFAR-10 Batch 3:   Loss:  1.69173  Acc:  0.4158\n",
      "Epoch  3, CIFAR-10 Batch 4:   Loss:  1.58913  Acc:  0.4446\n",
      "Epoch  3, CIFAR-10 Batch 5:   Loss:  1.59234  Acc:  0.442\n",
      "Epoch  4, CIFAR-10 Batch 1:   Loss:  1.55794  Acc:  0.4596\n",
      "Epoch  4, CIFAR-10 Batch 2:   Loss:  1.52323  Acc:  0.4546\n",
      "Epoch  4, CIFAR-10 Batch 3:   Loss:  1.48918  Acc:  0.4652\n",
      "Epoch  4, CIFAR-10 Batch 4:   Loss:  1.4187  Acc:  0.485\n",
      "Epoch  4, CIFAR-10 Batch 5:   Loss:  1.42394  Acc:  0.4964\n",
      "Epoch  5, CIFAR-10 Batch 1:   Loss:  1.46851  Acc:  0.4738\n",
      "Epoch  5, CIFAR-10 Batch 2:   Loss:  1.43529  Acc:  0.4892\n",
      "Epoch  5, CIFAR-10 Batch 3:   Loss:  1.35252  Acc:  0.507\n",
      "Epoch  5, CIFAR-10 Batch 4:   Loss:  1.3192  Acc:  0.5128\n",
      "Epoch  5, CIFAR-10 Batch 5:   Loss:  1.34152  Acc:  0.5176\n",
      "Epoch  6, CIFAR-10 Batch 1:   Loss:  1.30453  Acc:  0.5396\n",
      "Epoch  6, CIFAR-10 Batch 2:   Loss:  1.324  Acc:  0.5254\n",
      "Epoch  6, CIFAR-10 Batch 3:   Loss:  1.24044  Acc:  0.5368\n",
      "Epoch  6, CIFAR-10 Batch 4:   Loss:  1.21297  Acc:  0.5438\n",
      "Epoch  6, CIFAR-10 Batch 5:   Loss:  1.25811  Acc:  0.5362\n",
      "Epoch  7, CIFAR-10 Batch 1:   Loss:  1.26029  Acc:  0.5444\n",
      "Epoch  7, CIFAR-10 Batch 2:   Loss:  1.24013  Acc:  0.5484\n",
      "Epoch  7, CIFAR-10 Batch 3:   Loss:  1.16279  Acc:  0.556\n",
      "Epoch  7, CIFAR-10 Batch 4:   Loss:  1.15109  Acc:  0.5658\n",
      "Epoch  7, CIFAR-10 Batch 5:   Loss:  1.17559  Acc:  0.5514\n",
      "Epoch  8, CIFAR-10 Batch 1:   Loss:  1.15772  Acc:  0.5732\n",
      "Epoch  8, CIFAR-10 Batch 2:   Loss:  1.17309  Acc:  0.5714\n",
      "Epoch  8, CIFAR-10 Batch 3:   Loss:  1.08243  Acc:  0.5768\n",
      "Epoch  8, CIFAR-10 Batch 4:   Loss:  1.10715  Acc:  0.569\n",
      "Epoch  8, CIFAR-10 Batch 5:   Loss:  1.0863  Acc:  0.5874\n",
      "Epoch  9, CIFAR-10 Batch 1:   Loss:  1.08276  Acc:  0.5986\n",
      "Epoch  9, CIFAR-10 Batch 2:   Loss:  1.10086  Acc:  0.5918\n",
      "Epoch  9, CIFAR-10 Batch 3:   Loss:  1.0212  Acc:  0.5852\n",
      "Epoch  9, CIFAR-10 Batch 4:   Loss:  1.03374  Acc:  0.5956\n",
      "Epoch  9, CIFAR-10 Batch 5:   Loss:  1.03416  Acc:  0.5958\n",
      "Epoch 10, CIFAR-10 Batch 1:   Loss:  1.04607  Acc:  0.6046\n",
      "Epoch 10, CIFAR-10 Batch 2:   Loss:  1.05932  Acc:  0.6024\n",
      "Epoch 10, CIFAR-10 Batch 3:   Loss:  0.983606  Acc:  0.5992\n",
      "Epoch 10, CIFAR-10 Batch 4:   Loss:  1.00049  Acc:  0.6046\n",
      "Epoch 10, CIFAR-10 Batch 5:   Loss:  1.01045  Acc:  0.6018\n",
      "Epoch 11, CIFAR-10 Batch 1:   Loss:  0.990794  Acc:  0.6112\n",
      "Epoch 11, CIFAR-10 Batch 2:   Loss:  0.998901  Acc:  0.6092\n",
      "Epoch 11, CIFAR-10 Batch 3:   Loss:  0.931153  Acc:  0.6012\n",
      "Epoch 11, CIFAR-10 Batch 4:   Loss:  0.960362  Acc:  0.601\n",
      "Epoch 11, CIFAR-10 Batch 5:   Loss:  0.999607  Acc:  0.6028\n",
      "Epoch 12, CIFAR-10 Batch 1:   Loss:  0.994862  Acc:  0.618\n",
      "Epoch 12, CIFAR-10 Batch 2:   Loss:  0.954009  Acc:  0.6114\n",
      "Epoch 12, CIFAR-10 Batch 3:   Loss:  0.910848  Acc:  0.6252\n",
      "Epoch 12, CIFAR-10 Batch 4:   Loss:  0.89216  Acc:  0.6188\n",
      "Epoch 12, CIFAR-10 Batch 5:   Loss:  0.890023  Acc:  0.6316\n",
      "Epoch 13, CIFAR-10 Batch 1:   Loss:  0.897444  Acc:  0.625\n",
      "Epoch 13, CIFAR-10 Batch 2:   Loss:  0.910672  Acc:  0.644\n",
      "Epoch 13, CIFAR-10 Batch 3:   Loss:  0.87429  Acc:  0.614\n",
      "Epoch 13, CIFAR-10 Batch 4:   Loss:  0.865821  Acc:  0.6154\n",
      "Epoch 13, CIFAR-10 Batch 5:   Loss:  0.83534  Acc:  0.6388\n",
      "Epoch 14, CIFAR-10 Batch 1:   Loss:  0.864819  Acc:  0.638\n",
      "Epoch 14, CIFAR-10 Batch 2:   Loss:  0.848713  Acc:  0.6404\n",
      "Epoch 14, CIFAR-10 Batch 3:   Loss:  0.845788  Acc:  0.6272\n",
      "Epoch 14, CIFAR-10 Batch 4:   Loss:  0.838091  Acc:  0.6254\n",
      "Epoch 14, CIFAR-10 Batch 5:   Loss:  0.818368  Acc:  0.6402\n",
      "Epoch 15, CIFAR-10 Batch 1:   Loss:  0.832656  Acc:  0.6428\n",
      "Epoch 15, CIFAR-10 Batch 2:   Loss:  0.847645  Acc:  0.6354\n",
      "Epoch 15, CIFAR-10 Batch 3:   Loss:  0.776741  Acc:  0.6442\n",
      "Epoch 15, CIFAR-10 Batch 4:   Loss:  0.762823  Acc:  0.6476\n",
      "Epoch 15, CIFAR-10 Batch 5:   Loss:  0.788973  Acc:  0.6392\n",
      "Epoch 16, CIFAR-10 Batch 1:   Loss:  0.790334  Acc:  0.652\n",
      "Epoch 16, CIFAR-10 Batch 2:   Loss:  0.78421  Acc:  0.653\n",
      "Epoch 16, CIFAR-10 Batch 3:   Loss:  0.766737  Acc:  0.6362\n",
      "Epoch 16, CIFAR-10 Batch 4:   Loss:  0.72234  Acc:  0.6466\n",
      "Epoch 16, CIFAR-10 Batch 5:   Loss:  0.741615  Acc:  0.65\n",
      "Epoch 17, CIFAR-10 Batch 1:   Loss:  0.809834  Acc:  0.6378\n",
      "Epoch 17, CIFAR-10 Batch 2:   Loss:  0.746279  Acc:  0.6558\n",
      "Epoch 17, CIFAR-10 Batch 3:   Loss:  0.762421  Acc:  0.6298\n",
      "Epoch 17, CIFAR-10 Batch 4:   Loss:  0.701113  Acc:  0.6524\n",
      "Epoch 17, CIFAR-10 Batch 5:   Loss:  0.723515  Acc:  0.639\n",
      "Epoch 18, CIFAR-10 Batch 1:   Loss:  0.74709  Acc:  0.659\n",
      "Epoch 18, CIFAR-10 Batch 2:   Loss:  0.735214  Acc:  0.652\n",
      "Epoch 18, CIFAR-10 Batch 3:   Loss:  0.71341  Acc:  0.6518\n",
      "Epoch 18, CIFAR-10 Batch 4:   Loss:  0.668045  Acc:  0.6536\n",
      "Epoch 18, CIFAR-10 Batch 5:   Loss:  0.683748  Acc:  0.6508\n",
      "Epoch 19, CIFAR-10 Batch 1:   Loss:  0.752518  Acc:  0.6324\n",
      "Epoch 19, CIFAR-10 Batch 2:   Loss:  0.734775  Acc:  0.6476\n",
      "Epoch 19, CIFAR-10 Batch 3:   Loss:  0.701268  Acc:  0.6436\n",
      "Epoch 19, CIFAR-10 Batch 4:   Loss:  0.674007  Acc:  0.6532\n",
      "Epoch 19, CIFAR-10 Batch 5:   Loss:  0.668158  Acc:  0.6572\n",
      "Epoch 20, CIFAR-10 Batch 1:   Loss:  0.730773  Acc:  0.6338\n",
      "Epoch 20, CIFAR-10 Batch 2:   Loss:  0.68282  Acc:  0.6602\n",
      "Epoch 20, CIFAR-10 Batch 3:   Loss:  0.68419  Acc:  0.641\n",
      "Epoch 20, CIFAR-10 Batch 4:   Loss:  0.64028  Acc:  0.6576\n",
      "Epoch 20, CIFAR-10 Batch 5:   Loss:  0.625941  Acc:  0.6646\n",
      "Epoch 21, CIFAR-10 Batch 1:   Loss:  0.66422  Acc:  0.6588\n",
      "Epoch 21, CIFAR-10 Batch 2:   Loss:  0.657369  Acc:  0.6656\n",
      "Epoch 21, CIFAR-10 Batch 3:   Loss:  0.637516  Acc:  0.6528\n",
      "Epoch 21, CIFAR-10 Batch 4:   Loss:  0.592781  Acc:  0.6656\n",
      "Epoch 21, CIFAR-10 Batch 5:   Loss:  0.590014  Acc:  0.6664\n",
      "Epoch 22, CIFAR-10 Batch 1:   Loss:  0.627908  Acc:  0.6638\n",
      "Epoch 22, CIFAR-10 Batch 2:   Loss:  0.611112  Acc:  0.6728\n",
      "Epoch 22, CIFAR-10 Batch 3:   Loss:  0.620092  Acc:  0.6474\n",
      "Epoch 22, CIFAR-10 Batch 4:   Loss:  0.57375  Acc:  0.666\n",
      "Epoch 22, CIFAR-10 Batch 5:   Loss:  0.580091  Acc:  0.6662\n",
      "Epoch 23, CIFAR-10 Batch 1:   Loss:  0.611487  Acc:  0.666\n",
      "Epoch 23, CIFAR-10 Batch 2:   Loss:  0.662524  Acc:  0.632\n",
      "Epoch 23, CIFAR-10 Batch 3:   Loss:  0.631275  Acc:  0.6444\n",
      "Epoch 23, CIFAR-10 Batch 4:   Loss:  0.551662  Acc:  0.6684\n",
      "Epoch 23, CIFAR-10 Batch 5:   Loss:  0.543055  Acc:  0.6656\n",
      "Epoch 24, CIFAR-10 Batch 1:   Loss:  0.595361  Acc:  0.6656\n",
      "Epoch 24, CIFAR-10 Batch 2:   Loss:  0.616182  Acc:  0.655\n",
      "Epoch 24, CIFAR-10 Batch 3:   Loss:  0.59574  Acc:  0.6584\n",
      "Epoch 24, CIFAR-10 Batch 4:   Loss:  0.587734  Acc:  0.6518\n",
      "Epoch 24, CIFAR-10 Batch 5:   Loss:  0.562254  Acc:  0.6592\n",
      "Epoch 25, CIFAR-10 Batch 1:   Loss:  0.578176  Acc:  0.674\n",
      "Epoch 25, CIFAR-10 Batch 2:   Loss:  0.585987  Acc:  0.664\n",
      "Epoch 25, CIFAR-10 Batch 3:   Loss:  0.547486  Acc:  0.6658\n",
      "Epoch 25, CIFAR-10 Batch 4:   Loss:  0.568696  Acc:  0.6574\n",
      "Epoch 25, CIFAR-10 Batch 5:   Loss:  0.484981  Acc:  0.6782\n",
      "Epoch 26, CIFAR-10 Batch 1:   Loss:  0.52692  Acc:  0.6844\n",
      "Epoch 26, CIFAR-10 Batch 2:   Loss:  0.51713  Acc:  0.6732\n",
      "Epoch 26, CIFAR-10 Batch 3:   Loss:  0.494888  Acc:  0.6692\n",
      "Epoch 26, CIFAR-10 Batch 4:   Loss:  0.507931  Acc:  0.666\n",
      "Epoch 26, CIFAR-10 Batch 5:   Loss:  0.474802  Acc:  0.6668\n",
      "Epoch 27, CIFAR-10 Batch 1:   Loss:  0.509422  Acc:  0.6664\n",
      "Epoch 27, CIFAR-10 Batch 2:   Loss:  0.493354  Acc:  0.6752\n",
      "Epoch 27, CIFAR-10 Batch 3:   Loss:  0.485847  Acc:  0.6672\n",
      "Epoch 27, CIFAR-10 Batch 4:   Loss:  0.510572  Acc:  0.6618\n",
      "Epoch 27, CIFAR-10 Batch 5:   Loss:  0.439213  Acc:  0.676\n",
      "Epoch 28, CIFAR-10 Batch 1:   Loss:  0.484356  Acc:  0.6776\n",
      "Epoch 28, CIFAR-10 Batch 2:   Loss:  0.460727  Acc:  0.6772\n",
      "Epoch 28, CIFAR-10 Batch 3:   Loss:  0.486398  Acc:  0.6606\n"
     ]
    },
    {
     "name": "stdout",
     "output_type": "stream",
     "text": [
      "Epoch 28, CIFAR-10 Batch 4:   Loss:  0.467921  Acc:  0.6744\n",
      "Epoch 28, CIFAR-10 Batch 5:   Loss:  0.4228  Acc:  0.6708\n",
      "Epoch 29, CIFAR-10 Batch 1:   Loss:  0.477778  Acc:  0.6746\n",
      "Epoch 29, CIFAR-10 Batch 2:   Loss:  0.441462  Acc:  0.6738\n",
      "Epoch 29, CIFAR-10 Batch 3:   Loss:  0.453416  Acc:  0.6716\n",
      "Epoch 29, CIFAR-10 Batch 4:   Loss:  0.454889  Acc:  0.6594\n",
      "Epoch 29, CIFAR-10 Batch 5:   Loss:  0.409259  Acc:  0.6778\n",
      "Epoch 30, CIFAR-10 Batch 1:   Loss:  0.459742  Acc:  0.6814\n",
      "Epoch 30, CIFAR-10 Batch 2:   Loss:  0.435091  Acc:  0.6644\n",
      "Epoch 30, CIFAR-10 Batch 3:   Loss:  0.44819  Acc:  0.6706\n",
      "Epoch 30, CIFAR-10 Batch 4:   Loss:  0.410249  Acc:  0.6786\n",
      "Epoch 30, CIFAR-10 Batch 5:   Loss:  0.395521  Acc:  0.6762\n"
     ]
    }
   ],
   "source": [
    "\"\"\"\n",
    "DON'T MODIFY ANYTHING IN THIS CELL\n",
    "\"\"\"\n",
    "save_model_path = './image_classification'\n",
    "\n",
    "print('Training...')\n",
    "with tf.Session() as sess:\n",
    "    # Initializing the variables\n",
    "    sess.run(tf.global_variables_initializer())\n",
    "    \n",
    "    # Training cycle\n",
    "    for epoch in range(epochs):\n",
    "        # Loop over all batches\n",
    "        n_batches = 5\n",
    "        for batch_i in range(1, n_batches + 1):\n",
    "            for batch_features, batch_labels in helper.load_preprocess_training_batch(batch_i, batch_size):\n",
    "                train_neural_network(sess, optimizer, keep_probability, batch_features, batch_labels)\n",
    "            print('Epoch {:>2}, CIFAR-10 Batch {}:  '.format(epoch + 1, batch_i), end='')\n",
    "            print_stats(sess, batch_features, batch_labels, cost, accuracy)\n",
    "            \n",
    "    # Save Model\n",
    "    saver = tf.train.Saver()\n",
    "    save_path = saver.save(sess, save_model_path)"
   ]
  },
  {
   "cell_type": "markdown",
   "metadata": {},
   "source": [
    "# Checkpoint\n",
    "The model has been saved to disk.\n",
    "## Test Model\n",
    "Test your model against the test dataset.  This will be your final accuracy. You should have an accuracy greater than 50%. If you don't, keep tweaking the model architecture and parameters."
   ]
  },
  {
   "cell_type": "code",
   "execution_count": 78,
   "metadata": {},
   "outputs": [
    {
     "name": "stdout",
     "output_type": "stream",
     "text": [
      "INFO:tensorflow:Restoring parameters from ./image_classification\n",
      "Testing Accuracy: 0.6833984375\n",
      "\n"
     ]
    },
    {
     "data": {
      "image/png": "[encoded data removed]",
      "text/plain": [
       "<matplotlib.figure.Figure at 0x22d67192668>"
      ]
     },
     "metadata": {
      "image/png": {
       "height": 319,
       "width": 355
      }
     },
     "output_type": "display_data"
    }
   ],
   "source": [
    "\"\"\"\n",
    "DON'T MODIFY ANYTHING IN THIS CELL\n",
    "\"\"\"\n",
    "%matplotlib inline\n",
    "%config InlineBackend.figure_format = 'retina'\n",
    "\n",
    "import tensorflow as tf\n",
    "import pickle\n",
    "import helper\n",
    "import random\n",
    "\n",
    "# Set batch size if not already set\n",
    "try:\n",
    "    if batch_size:\n",
    "        pass\n",
    "except NameError:\n",
    "    batch_size = 64\n",
    "\n",
    "save_model_path = './image_classification'\n",
    "n_samples = 4\n",
    "top_n_predictions = 3\n",
    "\n",
    "def test_model():\n",
    "    \"\"\"\n",
    "    Test the saved model against the test dataset\n",
    "    \"\"\"\n",
    "\n",
    "    test_features, test_labels = pickle.load(open('preprocess_test.p', mode='rb'))\n",
    "    loaded_graph = tf.Graph()\n",
    "\n",
    "    with tf.Session(graph=loaded_graph) as sess:\n",
    "        # Load model\n",
    "        loader = tf.train.import_meta_graph(save_model_path + '.meta')\n",
    "        loader.restore(sess, save_model_path)\n",
    "\n",
    "        # Get Tensors from loaded model\n",
    "        loaded_x = loaded_graph.get_tensor_by_name('x:0')\n",
    "        loaded_y = loaded_graph.get_tensor_by_name('y:0')\n",
    "        loaded_keep_prob = loaded_graph.get_tensor_by_name('keep_prob:0')\n",
    "        loaded_logits = loaded_graph.get_tensor_by_name('logits:0')\n",
    "        loaded_acc = loaded_graph.get_tensor_by_name('accuracy:0')\n",
    "        \n",
    "        # Get accuracy in batches for memory limitations\n",
    "        test_batch_acc_total = 0\n",
    "        test_batch_count = 0\n",
    "        \n",
    "        for test_feature_batch, test_label_batch in helper.batch_features_labels(test_features, test_labels, batch_size):\n",
    "            test_batch_acc_total += sess.run(\n",
    "                loaded_acc,\n",
    "                feed_dict={loaded_x: test_feature_batch, loaded_y: test_label_batch, loaded_keep_prob: 1.0})\n",
    "            test_batch_count += 1\n",
    "\n",
    "        print('Testing Accuracy: {}\\n'.format(test_batch_acc_total/test_batch_count))\n",
    "\n",
    "        # Print Random Samples\n",
    "        random_test_features, random_test_labels = tuple(zip(*random.sample(list(zip(test_features, test_labels)), n_samples)))\n",
    "        random_test_predictions = sess.run(\n",
    "            tf.nn.top_k(tf.nn.softmax(loaded_logits), top_n_predictions),\n",
    "            feed_dict={loaded_x: random_test_features, loaded_y: random_test_labels, loaded_keep_prob: 1.0})\n",
    "        helper.display_image_predictions(random_test_features, random_test_labels, random_test_predictions)\n",
    "\n",
    "\n",
    "test_model()"
   ]
  },
  {
   "cell_type": "markdown",
   "metadata": {},
   "source": [
    "## Why 50-80% Accuracy?\n",
    "You might be wondering why you can't get an accuracy any higher. First things first, 50% isn't bad for a simple CNN.  Pure guessing would get you 10% accuracy. However, you might notice people are getting scores [well above 80%](http://rodrigob.github.io/are_we_there_yet/build/classification_datasets_results.html#43494641522d3130).  That's because we haven't taught you all there is to know about neural networks. We still need to cover a few more techniques.\n",
    "## Submitting This Project\n",
    "When submitting this project, make sure to run all the cells before saving the notebook.  Save the notebook file as \"dlnd_image_classification.ipynb\" and save it as a HTML file under \"File\" -> \"Download as\".  Include the \"helper.py\" and \"problem_unittests.py\" files in your submission."
   ]
  }
 ],
 "metadata": {
  "kernelspec": {
   "display_name": "Python 3",
   "language": "python",
   "name": "python3"
  },
  "language_info": {
   "codemirror_mode": {
    "name": "ipython",
    "version": 3
   },
   "file_extension": ".py",
   "mimetype": "text/x-python",
   "name": "python",
   "nbconvert_exporter": "python",
   "pygments_lexer": "ipython3",
   "version": "3.5.3"
  }
 },
 "nbformat": 4,
 "nbformat_minor": 1
}
