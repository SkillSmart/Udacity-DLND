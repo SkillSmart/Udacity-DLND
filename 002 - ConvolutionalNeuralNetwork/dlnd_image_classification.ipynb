{
 "cells": [
  {
   "cell_type": "markdown",
   "metadata": {
    "collapsed": true
   },
   "source": [
    "# Image Classification\n",
    "In this project, you'll classify images from the [CIFAR-10 dataset](https://www.cs.toronto.edu/~kriz/cifar.html).  The dataset consists of airplanes, dogs, cats, and other objects. You'll preprocess the images, then train a convolutional neural network on all the samples. The images need to be normalized and the labels need to be one-hot encoded.  You'll get to apply what you learned and build a convolutional, max pooling, dropout, and fully connected layers.  At the end, you'll get to see your neural network's predictions on the sample images.\n",
    "## Get the Data\n",
    "Run the following cell to download the [CIFAR-10 dataset for python](https://www.cs.toronto.edu/~kriz/cifar-10-python.tar.gz)."
   ]
  },
  {
   "cell_type": "code",
   "execution_count": 3,
   "metadata": {},
   "outputs": [
    {
     "name": "stdout",
     "output_type": "stream",
     "text": [
      "All files found!\n"
     ]
    }
   ],
   "source": [
    "\"\"\"\n",
    "DON'T MODIFY ANYTHING IN THIS CELL THAT IS BELOW THIS LINE\n",
    "\"\"\"\n",
    "from urllib.request import urlretrieve\n",
    "from os.path import isfile, isdir\n",
    "from tqdm import tqdm\n",
    "import problem_unittests as tests\n",
    "import tarfile\n",
    "\n",
    "cifar10_dataset_folder_path = 'cifar-10-batches-py'\n",
    "\n",
    "# Use Floyd's cifar-10 dataset if present\n",
    "floyd_cifar10_location = '/input/cifar-10/python.tar.gz'\n",
    "if isfile(floyd_cifar10_location):\n",
    "    tar_gz_path = floyd_cifar10_location\n",
    "else:\n",
    "    tar_gz_path = 'cifar-10-python.tar.gz'\n",
    "\n",
    "class DLProgress(tqdm):\n",
    "    last_block = 0\n",
    "\n",
    "    def hook(self, block_num=1, block_size=1, total_size=None):\n",
    "        self.total = total_size\n",
    "        self.update((block_num - self.last_block) * block_size)\n",
    "        self.last_block = block_num\n",
    "\n",
    "if not isfile(tar_gz_path):\n",
    "    with DLProgress(unit='B', unit_scale=True, miniters=1, desc='CIFAR-10 Dataset') as pbar:\n",
    "        urlretrieve(\n",
    "            'https://www.cs.toronto.edu/~kriz/cifar-10-python.tar.gz',\n",
    "            tar_gz_path,\n",
    "            pbar.hook)\n",
    "\n",
    "if not isdir(cifar10_dataset_folder_path):\n",
    "    with tarfile.open(tar_gz_path) as tar:\n",
    "        tar.extractall()\n",
    "        tar.close()\n",
    "\n",
    "\n",
    "tests.test_folder_path(cifar10_dataset_folder_path)"
   ]
  },
  {
   "cell_type": "markdown",
   "metadata": {},
   "source": [
    "## Explore the Data\n",
    "The dataset is broken into batches to prevent your machine from running out of memory.  The CIFAR-10 dataset consists of 5 batches, named `data_batch_1`, `data_batch_2`, etc.. Each batch contains the labels and images that are one of the following:\n",
    "* airplane\n",
    "* automobile\n",
    "* bird\n",
    "* cat\n",
    "* deer\n",
    "* dog\n",
    "* frog\n",
    "* horse\n",
    "* ship\n",
    "* truck\n",
    "\n",
    "Understanding a dataset is part of making predictions on the data.  Play around with the code cell below by changing the `batch_id` and `sample_id`. The `batch_id` is the id for a batch (1-5). The `sample_id` is the id for a image and label pair in the batch.\n",
    "\n",
    "Ask yourself \"What are all possible labels?\", \"What is the range of values for the image data?\", \"Are the labels in order or random?\".  Answers to questions like these will help you preprocess the data and end up with better predictions."
   ]
  },
  {
   "cell_type": "code",
   "execution_count": 2,
   "metadata": {},
   "outputs": [
    {
     "name": "stdout",
     "output_type": "stream",
     "text": [
      "\n",
      "Stats of batch 5:\n",
      "Samples: 10000\n",
      "Label Counts: {0: 1014, 1: 1014, 2: 952, 3: 1016, 4: 997, 5: 1025, 6: 980, 7: 977, 8: 1003, 9: 1022}\n",
      "First 20 Labels: [1, 8, 5, 1, 5, 7, 4, 3, 8, 2, 7, 2, 0, 1, 5, 9, 6, 2, 0, 8]\n",
      "\n",
      "Example of Image 205:\n",
      "Image - Min Value: 7 Max Value: 225\n",
      "Image - Shape: (32, 32, 3)\n",
      "Label - Label Id: 5 Name: dog\n"
     ]
    },
    {
     "data": {
      "image/png": "[encoded data removed]",
      "text/plain": [
       "<matplotlib.figure.Figure at 0x1b647d6af28>"
      ]
     },
     "metadata": {
      "image/png": {
       "height": 250,
       "width": 253
      }
     },
     "output_type": "display_data"
    }
   ],
   "source": [
    "%matplotlib inline\n",
    "%config InlineBackend.figure_format = 'retina'\n",
    "\n",
    "import helper\n",
    "import numpy as np\n",
    "\n",
    "# Explore the dataset\n",
    "batch_id = 5\n",
    "sample_id = 205\n",
    "helper.display_stats(cifar10_dataset_folder_path, batch_id, sample_id)"
   ]
  },
  {
   "cell_type": "markdown",
   "metadata": {},
   "source": [
    "## Implement Preprocess Functions\n",
    "### Normalize\n",
    "In the cell below, implement the `normalize` function to take in image data, `x`, and return it as a normalized Numpy array. The values should be in the range of 0 to 1, inclusive.  The return object should be the same shape as `x`."
   ]
  },
  {
   "cell_type": "code",
   "execution_count": 3,
   "metadata": {},
   "outputs": [
    {
     "name": "stdout",
     "output_type": "stream",
     "text": [
      "Tests Passed\n"
     ]
    }
   ],
   "source": [
    "def normalize(x):\n",
    "    \"\"\"\n",
    "    Normalize a list of sample image data in the range of 0 to 1\n",
    "    : x: List of image data.  The image shape is (32, 32, 3)\n",
    "    : return: Numpy array of normalize data\n",
    "    \"\"\"\n",
    "    # TODO: Implement Function\n",
    "    min_n = 0\n",
    "    max_n = 1\n",
    "    \n",
    "    return min_n + ((x- 0) * (max_n - min_n)) / (255 - 0)\n",
    "\n",
    "\n",
    "\"\"\"\n",
    "DON'T MODIFY ANYTHING IN THIS CELL THAT IS BELOW THIS LINE\n",
    "\"\"\"\n",
    "tests.test_normalize(normalize)"
   ]
  },
  {
   "cell_type": "markdown",
   "metadata": {},
   "source": [
    "### One-hot encode\n",
    "Just like the previous code cell, you'll be implementing a function for preprocessing.  This time, you'll implement the `one_hot_encode` function. The input, `x`, are a list of labels.  Implement the function to return the list of labels as One-Hot encoded Numpy array.  The possible values for labels are 0 to 9. The one-hot encoding function should return the same encoding for each value between each call to `one_hot_encode`.  Make sure to save the map of encodings outside the function.\n",
    "\n",
    "Hint: Don't reinvent the wheel."
   ]
  },
  {
   "cell_type": "code",
   "execution_count": 4,
   "metadata": {},
   "outputs": [
    {
     "name": "stdout",
     "output_type": "stream",
     "text": [
      "Tests Passed\n"
     ]
    }
   ],
   "source": [
    "def one_hot_encode(x):\n",
    "    \"\"\"\n",
    "    One hot encode a list of sample labels. Return a one-hot encoded vector for each label.\n",
    "    : x: List of sample Labels\n",
    "    : return: Numpy array of one-hot encoded labels\n",
    "    \"\"\"\n",
    "    #TODO: Implement Encoder Function\n",
    "    nb_classes = 10\n",
    "    one_hot_targets = np.eye(nb_classes)[x]\n",
    "    return one_hot_targets\n",
    "    \n",
    "\n",
    "\"\"\"\n",
    "DON'T MODIFY ANYTHING IN THIS CELL THAT IS BELOW THIS LINE\n",
    "\"\"\"\n",
    "tests.test_one_hot_encode(one_hot_encode)"
   ]
  },
  {
   "cell_type": "markdown",
   "metadata": {},
   "source": [
    "### Randomize Data\n",
    "As you saw from exploring the data above, the order of the samples are randomized.  It doesn't hurt to randomize it again, but you don't need to for this dataset."
   ]
  },
  {
   "cell_type": "markdown",
   "metadata": {},
   "source": [
    "## Preprocess all the data and save it\n",
    "Running the code cell below will preprocess all the CIFAR-10 data and save it to file. The code below also uses 10% of the training data for validation."
   ]
  },
  {
   "cell_type": "code",
   "execution_count": 5,
   "metadata": {
    "collapsed": true
   },
   "outputs": [],
   "source": [
    "\"\"\"\n",
    "DON'T MODIFY ANYTHING IN THIS CELL\n",
    "\"\"\"\n",
    "# Preprocess Training, Validation, and Testing Data\n",
    "helper.preprocess_and_save_data(cifar10_dataset_folder_path, normalize, one_hot_encode)"
   ]
  },
  {
   "cell_type": "markdown",
   "metadata": {},
   "source": [
    "# Check Point\n",
    "This is your first checkpoint.  If you ever decide to come back to this notebook or have to restart the notebook, you can start from here.  The preprocessed data has been saved to disk."
   ]
  },
  {
   "cell_type": "code",
   "execution_count": 4,
   "metadata": {
    "collapsed": true
   },
   "outputs": [],
   "source": [
    "\"\"\"\n",
    "DON'T MODIFY ANYTHING IN THIS CELL\n",
    "\"\"\"\n",
    "import pickle\n",
    "import problem_unittests as tests\n",
    "import helper\n",
    "\n",
    "# Load the Preprocessed Validation data\n",
    "valid_features, valid_labels = pickle.load(open('preprocess_validation.p', mode='rb'))"
   ]
  },
  {
   "cell_type": "markdown",
   "metadata": {},
   "source": [
    "## Build the network\n",
    "For the neural network, you'll build each layer into a function.  Most of the code you've seen has been outside of functions. To test your code more thoroughly, we require that you put each layer in a function.  This allows us to give you better feedback and test for simple mistakes using our unittests before you submit your project.\n",
    "\n",
    ">**Note:** If you're finding it hard to dedicate enough time for this course each week, we've provided a small shortcut to this part of the project. In the next couple of problems, you'll have the option to use classes from the [TensorFlow Layers](https://www.tensorflow.org/api_docs/python/tf/layers) or [TensorFlow Layers (contrib)](https://www.tensorflow.org/api_guides/python/contrib.layers) packages to build each layer, except the layers you build in the \"Convolutional and Max Pooling Layer\" section.  TF Layers is similar to Keras's and TFLearn's abstraction to layers, so it's easy to pickup.\n",
    "\n",
    ">However, if you would like to get the most out of this course, try to solve all the problems _without_ using anything from the TF Layers packages. You **can** still use classes from other packages that happen to have the same name as ones you find in TF Layers! For example, instead of using the TF Layers version of the `conv2d` class, [tf.layers.conv2d](https://www.tensorflow.org/api_docs/python/tf/layers/conv2d), you would want to use the TF Neural Network version of `conv2d`, [tf.nn.conv2d](https://www.tensorflow.org/api_docs/python/tf/nn/conv2d). \n",
    "\n",
    "Let's begin!\n",
    "\n",
    "### Input\n",
    "The neural network needs to read the image data, one-hot encoded labels, and dropout keep probability. Implement the following functions\n",
    "* Implement `neural_net_image_input`\n",
    " * Return a [TF Placeholder](https://www.tensorflow.org/api_docs/python/tf/placeholder)\n",
    " * Set the shape using `image_shape` with batch size set to `None`.\n",
    " * Name the TensorFlow placeholder \"x\" using the TensorFlow `name` parameter in the [TF Placeholder](https://www.tensorflow.org/api_docs/python/tf/placeholder).\n",
    "* Implement `neural_net_label_input`\n",
    " * Return a [TF Placeholder](https://www.tensorflow.org/api_docs/python/tf/placeholder)\n",
    " * Set the shape using `n_classes` with batch size set to `None`.\n",
    " * Name the TensorFlow placeholder \"y\" using the TensorFlow `name` parameter in the [TF Placeholder](https://www.tensorflow.org/api_docs/python/tf/placeholder).\n",
    "* Implement `neural_net_keep_prob_input`\n",
    " * Return a [TF Placeholder](https://www.tensorflow.org/api_docs/python/tf/placeholder) for dropout keep probability.\n",
    " * Name the TensorFlow placeholder \"keep_prob\" using the TensorFlow `name` parameter in the [TF Placeholder](https://www.tensorflow.org/api_docs/python/tf/placeholder).\n",
    "\n",
    "These names will be used at the end of the project to load your saved model.\n",
    "\n",
    "Note: `None` for shapes in TensorFlow allow for a dynamic size."
   ]
  },
  {
   "cell_type": "code",
   "execution_count": 5,
   "metadata": {},
   "outputs": [
    {
     "name": "stdout",
     "output_type": "stream",
     "text": [
      "Image Input Tests Passed.\n",
      "Label Input Tests Passed.\n",
      "Keep Prob Tests Passed.\n"
     ]
    }
   ],
   "source": [
    "import tensorflow as tf\n",
    "\n",
    "def neural_net_image_input(image_shape):\n",
    "    \"\"\"\n",
    "    Return a Tensor for a batch of image input\n",
    "    : image_shape: Shape of the images\n",
    "    : return: Tensor for image input.\n",
    "    \"\"\"\n",
    "    # TODO: Implement Function\n",
    "    return tf.placeholder(tf.float32, [None, image_shape[0], image_shape[1], image_shape[2]], name='x')\n",
    "\n",
    "\n",
    "def neural_net_label_input(n_classes):\n",
    "    \"\"\"\n",
    "    Return a Tensor for a batch of label input\n",
    "    : n_classes: Number of classes\n",
    "    : return: Tensor for label input.\n",
    "    \"\"\"\n",
    "    # TODO: Implement Function\n",
    "    return tf.placeholder(tf.int32, [None, n_classes], name='y')\n",
    "\n",
    "\n",
    "def neural_net_keep_prob_input():\n",
    "    \"\"\"\n",
    "    Return a Tensor for keep probability\n",
    "    : return: Tensor for keep probability.\n",
    "    \"\"\"\n",
    "    # TODO: Implement Function\n",
    "    return tf.placeholder(tf.float32, name='keep_prob')\n",
    "\n",
    "\n",
    "\"\"\"\n",
    "DON'T MODIFY ANYTHING IN THIS CELL THAT IS BELOW THIS LINE\n",
    "\"\"\"\n",
    "tf.reset_default_graph()\n",
    "tests.test_nn_image_inputs(neural_net_image_input)\n",
    "tests.test_nn_label_inputs(neural_net_label_input)\n",
    "tests.test_nn_keep_prob_inputs(neural_net_keep_prob_input)"
   ]
  },
  {
   "cell_type": "markdown",
   "metadata": {},
   "source": [
    "### Convolution and Max Pooling Layer\n",
    "Convolution layers have a lot of success with images. For this code cell, you should implement the function `conv2d_maxpool` to apply convolution then max pooling:\n",
    "* Create the weight and bias using `conv_ksize`, `conv_num_outputs` and the shape of `x_tensor`.\n",
    "* Apply a convolution to `x_tensor` using weight and `conv_strides`.\n",
    " * We recommend you use same padding, but you're welcome to use any padding.\n",
    "* Add bias\n",
    "* Add a nonlinear activation to the convolution.\n",
    "* Apply Max Pooling using `pool_ksize` and `pool_strides`.\n",
    " * We recommend you use same padding, but you're welcome to use any padding.\n",
    "\n",
    "**Note:** You **can't** use [TensorFlow Layers](https://www.tensorflow.org/api_docs/python/tf/layers) or [TensorFlow Layers (contrib)](https://www.tensorflow.org/api_guides/python/contrib.layers) for **this** layer, but you can still use TensorFlow's [Neural Network](https://www.tensorflow.org/api_docs/python/tf/nn) package. You may still use the shortcut option for all the **other** layers."
   ]
  },
  {
   "cell_type": "code",
   "execution_count": 82,
   "metadata": {},
   "outputs": [
    {
     "name": "stdout",
     "output_type": "stream",
     "text": [
      "Tests Passed\n"
     ]
    }
   ],
   "source": [
    "def conv2d_maxpool(x_tensor, conv_num_outputs, conv_ksize, conv_strides, pool_ksize, pool_strides):\n",
    "    \"\"\"\n",
    "    Apply convolution then max pooling to x_tensor\n",
    "    :param x_tensor: TensorFlow Tensor\n",
    "    :param conv_num_outputs: Number of outputs for the convolutional layer\n",
    "    :param conv_ksize: kernal size 2-D Tuple for the convolutional layer\n",
    "    :param conv_strides: Stride 2-D Tuple for convolution\n",
    "    :param pool_ksize: kernal size 2-D Tuple for pool\n",
    "    :param pool_strides: Stride 2-D Tuple for pool\n",
    "    : return: A tensor that represents convolution and max pooling of x_tensor\n",
    "    \"\"\"\n",
    "    # TODO: Implement Function\n",
    "    weights = tf.Variable(tf.truncated_normal((conv_ksize[0], conv_ksize[1],int(x_tensor.shape[3]),conv_num_outputs), stddev=0.05))\n",
    "    bias = tf.Variable(tf.zeros(conv_num_outputs))\n",
    "    \n",
    "    # Create the Model and apply bias terms\n",
    "    conv = tf.nn.conv2d(x_tensor, weights, strides=[1, conv_strides[0], conv_strides[1], 1], padding='SAME')\n",
    "    conv = tf.nn.bias_add(conv, bias)\n",
    "    \n",
    "    # Apply non-linearity\n",
    "    conv = tf.nn.relu(conv)\n",
    "    \n",
    "    # Apply Max-Pooling\n",
    "    conv = tf.nn.max_pool(\n",
    "        conv,\n",
    "        ksize = [1,pool_ksize[0], pool_ksize[1], 1],\n",
    "        strides = [1, pool_strides[0], pool_strides[1], 1],\n",
    "        padding = 'SAME'\n",
    "    )\n",
    "    \n",
    "    # Return finished Model\n",
    "    return conv\n",
    "    \n",
    "\"\"\"\n",
    "DON'T MODIFY ANYTHING IN THIS CELL THAT IS BELOW THIS LINE\n",
    "\"\"\"\n",
    "tests.test_con_pool(conv2d_maxpool)\n"
   ]
  },
  {
   "cell_type": "markdown",
   "metadata": {},
   "source": [
    "### Flatten Layer\n",
    "Implement the `flatten` function to change the dimension of `x_tensor` from a 4-D tensor to a 2-D tensor.  The output should be the shape (*Batch Size*, *Flattened Image Size*). Shortcut option: you can use classes from the [TensorFlow Layers](https://www.tensorflow.org/api_docs/python/tf/layers) or [TensorFlow Layers (contrib)](https://www.tensorflow.org/api_guides/python/contrib.layers) packages for this layer. For more of a challenge, only use other TensorFlow packages."
   ]
  },
  {
   "cell_type": "code",
   "execution_count": 83,
   "metadata": {},
   "outputs": [
    {
     "name": "stdout",
     "output_type": "stream",
     "text": [
      "Tests Passed\n"
     ]
    }
   ],
   "source": [
    "def flatten(x_tensor):\n",
    "    \"\"\"\n",
    "    Flatten x_tensor to (Batch Size, Flattened Image Size)\n",
    "    : x_tensor: A tensor of size (Batch Size, ...), where ... are the image dimensions.\n",
    "    : return: A tensor of size (Batch Size, Flattened Image Size).\n",
    "    \"\"\"\n",
    "    # TODO: Implement Function    \n",
    "    return tf.reshape(x_tensor, [-1, int(x_tensor.shape[1])*int(x_tensor.shape[2])*int(x_tensor.shape[3])])\n",
    "\n",
    "\"\"\"\n",
    "DON'T MODIFY ANYTHING IN THIS CELL THAT IS BELOW THIS LINE\n",
    "\"\"\"\n",
    "tests.test_flatten(flatten)"
   ]
  },
  {
   "cell_type": "markdown",
   "metadata": {},
   "source": [
    "### Fully-Connected Layer\n",
    "Implement the `fully_conn` function to apply a fully connected layer to `x_tensor` with the shape (*Batch Size*, *num_outputs*). Shortcut option: you can use classes from the [TensorFlow Layers](https://www.tensorflow.org/api_docs/python/tf/layers) or [TensorFlow Layers (contrib)](https://www.tensorflow.org/api_guides/python/contrib.layers) packages for this layer. For more of a challenge, only use other TensorFlow packages."
   ]
  },
  {
   "cell_type": "code",
   "execution_count": 84,
   "metadata": {},
   "outputs": [
    {
     "name": "stdout",
     "output_type": "stream",
     "text": [
      "Tests Passed\n"
     ]
    }
   ],
   "source": [
    "def fully_conn(x_tensor, num_outputs):\n",
    "    \"\"\"\n",
    "    Apply a fully connected layer to x_tensor using weight and bias\n",
    "    : x_tensor: A 2-D tensor where the first dimension is batch size.\n",
    "    : num_outputs: The number of output that the new tensor should be.\n",
    "    : return: A 2-D tensor where the second dimension is num_outputs.\n",
    "    \"\"\"\n",
    "    # TODO: Implement Function\n",
    "    # Set initial weights and bias\n",
    "    weights = tf.Variable(tf.truncated_normal([int(x_tensor.shape[1]), num_outputs], stddev=0.05))\n",
    "    bias = tf.Variable(tf.zeros(num_outputs))\n",
    "    \n",
    "    # Create Model\n",
    "    model = tf.add(tf.matmul(x_tensor, weights), bias)\n",
    "    \n",
    "    # Return the Model\n",
    "    return tf.nn.relu(model)\n",
    "\n",
    "\n",
    "\"\"\"\n",
    "DON'T MODIFY ANYTHING IN THIS CELL THAT IS BELOW THIS LINE\n",
    "\"\"\"\n",
    "tests.test_fully_conn(fully_conn)"
   ]
  },
  {
   "cell_type": "markdown",
   "metadata": {},
   "source": [
    "### Output Layer\n",
    "Implement the `output` function to apply a fully connected layer to `x_tensor` with the shape (*Batch Size*, *num_outputs*). Shortcut option: you can use classes from the [TensorFlow Layers](https://www.tensorflow.org/api_docs/python/tf/layers) or [TensorFlow Layers (contrib)](https://www.tensorflow.org/api_guides/python/contrib.layers) packages for this layer. For more of a challenge, only use other TensorFlow packages.\n",
    "\n",
    "**Note:** Activation, softmax, or cross entropy should **not** be applied to this."
   ]
  },
  {
   "cell_type": "code",
   "execution_count": 85,
   "metadata": {},
   "outputs": [
    {
     "name": "stdout",
     "output_type": "stream",
     "text": [
      "Tests Passed\n"
     ]
    }
   ],
   "source": [
    "def output(x_tensor, num_outputs):\n",
    "    \"\"\"\n",
    "    Apply a output layer to x_tensor using weight and bias\n",
    "    : x_tensor: A 2-D tensor where the first dimension is batch size.\n",
    "    : num_outputs: The number of output that the new tensor should be.\n",
    "    : return: A 2-D tensor where the second dimension is num_outputs.\n",
    "    \"\"\"\n",
    "    # TODO: Implement Function\n",
    "    weights = tf.Variable(tf.truncated_normal([int(x_tensor.shape[1]), num_outputs]))\n",
    "    bias = tf.Variable(tf.zeros(num_outputs))\n",
    "    \n",
    "    # Apply the fully connected output layer\n",
    "    return tf.add(tf.matmul(x_tensor, weights), bias)\n",
    "    \n",
    "    \n",
    "\n",
    "\n",
    "\"\"\"\n",
    "DON'T MODIFY ANYTHING IN THIS CELL THAT IS BELOW THIS LINE\n",
    "\"\"\"\n",
    "tests.test_output(output)"
   ]
  },
  {
   "cell_type": "markdown",
   "metadata": {},
   "source": [
    "### Create Convolutional Model\n",
    "Implement the function `conv_net` to create a convolutional neural network model. The function takes in a batch of images, `x`, and outputs logits.  Use the layers you created above to create this model:\n",
    "\n",
    "* Apply 1, 2, or 3 Convolution and Max Pool layers\n",
    "* Apply a Flatten Layer\n",
    "* Apply 1, 2, or 3 Fully Connected Layers\n",
    "* Apply an Output Layer\n",
    "* Return the output\n",
    "* Apply [TensorFlow's Dropout](https://www.tensorflow.org/api_docs/python/tf/nn/dropout) to one or more layers in the model using `keep_prob`. "
   ]
  },
  {
   "cell_type": "code",
   "execution_count": 86,
   "metadata": {},
   "outputs": [
    {
     "name": "stdout",
     "output_type": "stream",
     "text": [
      "Neural Network Built!\n"
     ]
    }
   ],
   "source": [
    "def conv_net(x, keep_prob):\n",
    "    \"\"\"\n",
    "    Create a convolutional neural network model\n",
    "    : x: Placeholder tensor that holds image data.\n",
    "    : keep_prob: Placeholder tensor that hold dropout keep probability.\n",
    "    : return: Tensor that represents logits\n",
    "    \"\"\"\n",
    "    # TODO: Apply 1, 2, or 3 Convolution and Max Pool layers\n",
    "    #    Play around with different number of outputs, kernel size and stride\n",
    "    # Function Definition from Above:\n",
    "    #    conv2d_maxpool(x_tensor, conv_num_outputs, conv_ksize, conv_strides, pool_ksize, pool_strides)\n",
    "    conv_layer1 = conv2d_maxpool(x, 64, (5,5), (1,1), (2,2), (2,2))\n",
    "    conv_layer2 = conv2d_maxpool(conv_layer1, 128, (5,5), (1,1), (2,2), (2,2))\n",
    "\n",
    "    # TODO: Apply a Flatten Layer\n",
    "    # Function Definition from Above:\n",
    "    #   flatten(x_tensor)\n",
    "    model = flatten(conv_layer2)\n",
    "    \n",
    "    # TODO: Apply 1, 2, or 3 Fully Connected Layers\n",
    "    #    Play around with different number of outputs\n",
    "    # Function Definition from Above:\n",
    "    #   fully_conn(x_tensor, num_outputs)\n",
    "    hidden_1 = tf.nn.dropout(fully_conn(model, 128), keep_prob)\n",
    "    hidden_2 = tf.nn.dropout(fully_conn(hidden_1, 64), keep_prob)\n",
    "\n",
    "    \n",
    "    \n",
    "    # TODO: Apply an Output Layer\n",
    "    #    Set this to the number of classes\n",
    "    # Function Definition from Above:\n",
    "    #   output(x_tensor, num_outputs)\n",
    "    model = output(hidden_2, 10)\n",
    "    \n",
    "    # TODO: return output\n",
    "    return model\n",
    "\n",
    "\n",
    "\"\"\"\n",
    "DON'T MODIFY ANYTHING IN THIS CELL THAT IS BELOW THIS LINE\n",
    "\"\"\"\n",
    "\n",
    "##############################\n",
    "## Build the Neural Network ##\n",
    "##############################\n",
    "\n",
    "# Remove previous weights, bias, inputs, etc..\n",
    "tf.reset_default_graph()\n",
    "\n",
    "# Inputs\n",
    "x = neural_net_image_input((32, 32, 3))\n",
    "y = neural_net_label_input(10)\n",
    "keep_prob = neural_net_keep_prob_input()\n",
    "\n",
    "# Model\n",
    "logits = conv_net(x, keep_prob)\n",
    "\n",
    "# Name logits Tensor, so that is can be loaded from disk after training\n",
    "logits = tf.identity(logits, name='logits')\n",
    "\n",
    "# Loss and Optimizer\n",
    "cost = tf.reduce_mean(tf.nn.softmax_cross_entropy_with_logits(logits=logits, labels=y))\n",
    "optimizer = tf.train.AdamOptimizer().minimize(cost)\n",
    "\n",
    "# Accuracy\n",
    "correct_pred = tf.equal(tf.argmax(logits, 1), tf.argmax(y, 1))\n",
    "accuracy = tf.reduce_mean(tf.cast(correct_pred, tf.float32), name='accuracy')\n",
    "\n",
    "tests.test_conv_net(conv_net)"
   ]
  },
  {
   "cell_type": "markdown",
   "metadata": {},
   "source": [
    "## Train the Neural Network\n",
    "### Single Optimization\n",
    "Implement the function `train_neural_network` to do a single optimization.  The optimization should use `optimizer` to optimize in `session` with a `feed_dict` of the following:\n",
    "* `x` for image input\n",
    "* `y` for labels\n",
    "* `keep_prob` for keep probability for dropout\n",
    "\n",
    "This function will be called for each batch, so `tf.global_variables_initializer()` has already been called.\n",
    "\n",
    "Note: Nothing needs to be returned. This function is only optimizing the neural network."
   ]
  },
  {
   "cell_type": "code",
   "execution_count": 11,
   "metadata": {},
   "outputs": [
    {
     "name": "stdout",
     "output_type": "stream",
     "text": [
      "Tests Passed\n"
     ]
    }
   ],
   "source": [
    "def train_neural_network(session, optimizer, keep_probability, feature_batch, label_batch):\n",
    "    \"\"\"\n",
    "    Optimize the session on a batch of images and labels\n",
    "    : session: Current TensorFlow session\n",
    "    : optimizer: TensorFlow optimizer function\n",
    "    : keep_probability: keep probability\n",
    "    : feature_batch: Batch of Numpy image data\n",
    "    : label_batch: Batch of Numpy label data\n",
    "    \"\"\"\n",
    "    # TODO: Implement Function\n",
    "    session.run(optimizer, feed_dict={\n",
    "        x: feature_batch,\n",
    "        y: label_batch,\n",
    "        keep_prob: keep_probability\n",
    "    })\n",
    "\n",
    "\n",
    "\"\"\"\n",
    "DON'T MODIFY ANYTHING IN THIS CELL THAT IS BELOW THIS LINE\n",
    "\"\"\"\n",
    "tests.test_train_nn(train_neural_network)"
   ]
  },
  {
   "cell_type": "markdown",
   "metadata": {},
   "source": [
    "### Show Stats\n",
    "Implement the function `print_stats` to print loss and validation accuracy.  Use the global variables `valid_features` and `valid_labels` to calculate validation accuracy.  Use a keep probability of `1.0` to calculate the loss and validation accuracy."
   ]
  },
  {
   "cell_type": "code",
   "execution_count": 12,
   "metadata": {
    "collapsed": true
   },
   "outputs": [],
   "source": [
    "def print_stats(session, feature_batch, label_batch, cost, accuracy):\n",
    "    \"\"\"\n",
    "    Print information about loss and validation accuracy\n",
    "    : session: Current TensorFlow session\n",
    "    : feature_batch: Batch of Numpy image data\n",
    "    : label_batch: Batch of Numpy label data\n",
    "    : cost: TensorFlow cost function\n",
    "    : accuracy: TensorFlow accuracy function\n",
    "    \"\"\"\n",
    "    # TODO: Implement Function\n",
    "    loss = session.run(cost, feed_dict={\n",
    "        x: feature_batch,\n",
    "        y: label_batch,\n",
    "        keep_prob: 1.0\n",
    "    })\n",
    "    \n",
    "    val_acc = sess.run(accuracy, feed_dict={\n",
    "        x: valid_features, \n",
    "        y: valid_labels,\n",
    "        keep_prob: 1.0\n",
    "    })\n",
    "    \n",
    "    print(' Loss: ', loss, ' Acc: ', val_acc)\n",
    "    "
   ]
  },
  {
   "cell_type": "markdown",
   "metadata": {},
   "source": [
    "### Hyperparameters\n",
    "Tune the following parameters:\n",
    "* Set `epochs` to the number of iterations until the network stops learning or start overfitting\n",
    "* Set `batch_size` to the highest number that your machine has memory for.  Most people set them to common sizes of memory:\n",
    " * 64\n",
    " * 128\n",
    " * 256\n",
    " * ...\n",
    "* Set `keep_probability` to the probability of keeping a node using dropout"
   ]
  },
  {
   "cell_type": "code",
   "execution_count": 96,
   "metadata": {
    "collapsed": true
   },
   "outputs": [],
   "source": [
    "# TODO: Tune Parameters\n",
    "epochs = 60\n",
    "batch_size = 1024\n",
    "keep_probability = 0.5"
   ]
  },
  {
   "cell_type": "markdown",
   "metadata": {},
   "source": [
    "### Train on a Single CIFAR-10 Batch\n",
    "Instead of training the neural network on all the CIFAR-10 batches of data, let's use a single batch. This should save time while you iterate on the model to get a better accuracy.  Once the final validation accuracy is 50% or greater, run the model on all the data in the next section."
   ]
  },
  {
   "cell_type": "code",
   "execution_count": 93,
   "metadata": {},
   "outputs": [
    {
     "name": "stdout",
     "output_type": "stream",
     "text": [
      "Checking the Training on a Single Batch...\n",
      "Epoch  1, CIFAR-10 Batch 1:   Loss:  2.29851  Acc:  0.0996\n",
      "Epoch  2, CIFAR-10 Batch 1:   Loss:  2.26754  Acc:  0.1822\n",
      "Epoch  3, CIFAR-10 Batch 1:   Loss:  2.22685  Acc:  0.2274\n",
      "Epoch  4, CIFAR-10 Batch 1:   Loss:  2.14731  Acc:  0.224\n",
      "Epoch  5, CIFAR-10 Batch 1:   Loss:  2.13443  Acc:  0.2502\n",
      "Epoch  6, CIFAR-10 Batch 1:   Loss:  2.10774  Acc:  0.233\n",
      "Epoch  7, CIFAR-10 Batch 1:   Loss:  2.06469  Acc:  0.2852\n",
      "Epoch  8, CIFAR-10 Batch 1:   Loss:  1.98272  Acc:  0.3122\n",
      "Epoch  9, CIFAR-10 Batch 1:   Loss:  1.93083  Acc:  0.3256\n",
      "Epoch 10, CIFAR-10 Batch 1:   Loss:  1.8806  Acc:  0.3488\n",
      "Epoch 11, CIFAR-10 Batch 1:   Loss:  1.83475  Acc:  0.3524\n",
      "Epoch 12, CIFAR-10 Batch 1:   Loss:  1.78627  Acc:  0.3654\n",
      "Epoch 13, CIFAR-10 Batch 1:   Loss:  1.76603  Acc:  0.3966\n",
      "Epoch 14, CIFAR-10 Batch 1:   Loss:  1.71948  Acc:  0.4\n",
      "Epoch 15, CIFAR-10 Batch 1:   Loss:  1.70117  Acc:  0.424\n",
      "Epoch 16, CIFAR-10 Batch 1:   Loss:  1.66397  Acc:  0.4268\n",
      "Epoch 17, CIFAR-10 Batch 1:   Loss:  1.64676  Acc:  0.4228\n",
      "Epoch 18, CIFAR-10 Batch 1:   Loss:  1.63119  Acc:  0.403\n",
      "Epoch 19, CIFAR-10 Batch 1:   Loss:  1.54891  Acc:  0.458\n",
      "Epoch 20, CIFAR-10 Batch 1:   Loss:  1.55378  Acc:  0.4312\n",
      "Epoch 21, CIFAR-10 Batch 1:   Loss:  1.46826  Acc:  0.4702\n",
      "Epoch 22, CIFAR-10 Batch 1:   Loss:  1.48652  Acc:  0.4584\n",
      "Epoch 23, CIFAR-10 Batch 1:   Loss:  1.43323  Acc:  0.4786\n",
      "Epoch 24, CIFAR-10 Batch 1:   Loss:  1.42917  Acc:  0.4568\n",
      "Epoch 25, CIFAR-10 Batch 1:   Loss:  1.33686  Acc:  0.4858\n"
     ]
    }
   ],
   "source": [
    "\"\"\"\n",
    "DON'T MODIFY ANYTHING IN THIS CELL\n",
    "\"\"\"\n",
    "print('Checking the Training on a Single Batch...')\n",
    "with tf.Session() as sess:\n",
    "    # Initializing the variables\n",
    "    sess.run(tf.global_variables_initializer())\n",
    "    \n",
    "    # Training cycle\n",
    "    for epoch in range(epochs):\n",
    "        batch_i = 1\n",
    "        for batch_features, batch_labels in helper.load_preprocess_training_batch(batch_i, batch_size):\n",
    "            train_neural_network(sess, optimizer, keep_probability, batch_features, batch_labels)\n",
    "        print('Epoch {:>2}, CIFAR-10 Batch {}:  '.format(epoch + 1, batch_i), end='')\n",
    "        print_stats(sess, batch_features, batch_labels, cost, accuracy)"
   ]
  },
  {
   "cell_type": "markdown",
   "metadata": {},
   "source": [
    "### Fully Train the Model\n",
    "Now that you got a good accuracy with a single CIFAR-10 batch, try it with all five batches."
   ]
  },
  {
   "cell_type": "code",
   "execution_count": 97,
   "metadata": {},
   "outputs": [
    {
     "name": "stdout",
     "output_type": "stream",
     "text": [
      "Training...\n",
      "Epoch  1, CIFAR-10 Batch 1:   Loss:  2.29057  Acc:  0.1132\n",
      "Epoch  1, CIFAR-10 Batch 2:   Loss:  2.27055  Acc:  0.1792\n",
      "Epoch  1, CIFAR-10 Batch 3:   Loss:  2.24396  Acc:  0.1878\n",
      "Epoch  1, CIFAR-10 Batch 4:   Loss:  2.1967  Acc:  0.1882\n",
      "Epoch  1, CIFAR-10 Batch 5:   Loss:  2.13588  Acc:  0.2046\n",
      "Epoch  2, CIFAR-10 Batch 1:   Loss:  2.12298  Acc:  0.2438\n",
      "Epoch  2, CIFAR-10 Batch 2:   Loss:  2.05051  Acc:  0.2798\n",
      "Epoch  2, CIFAR-10 Batch 3:   Loss:  2.03314  Acc:  0.2554\n",
      "Epoch  2, CIFAR-10 Batch 4:   Loss:  1.97998  Acc:  0.298\n",
      "Epoch  2, CIFAR-10 Batch 5:   Loss:  1.95375  Acc:  0.3024\n",
      "Epoch  3, CIFAR-10 Batch 1:   Loss:  1.92647  Acc:  0.3206\n",
      "Epoch  3, CIFAR-10 Batch 2:   Loss:  1.87821  Acc:  0.37\n",
      "Epoch  3, CIFAR-10 Batch 3:   Loss:  1.854  Acc:  0.3432\n",
      "Epoch  3, CIFAR-10 Batch 4:   Loss:  1.77481  Acc:  0.3754\n",
      "Epoch  3, CIFAR-10 Batch 5:   Loss:  1.79765  Acc:  0.3708\n",
      "Epoch  4, CIFAR-10 Batch 1:   Loss:  1.76333  Acc:  0.3928\n",
      "Epoch  4, CIFAR-10 Batch 2:   Loss:  1.77832  Acc:  0.3898\n",
      "Epoch  4, CIFAR-10 Batch 3:   Loss:  1.69121  Acc:  0.4178\n",
      "Epoch  4, CIFAR-10 Batch 4:   Loss:  1.6143  Acc:  0.4266\n",
      "Epoch  4, CIFAR-10 Batch 5:   Loss:  1.66631  Acc:  0.4404\n",
      "Epoch  5, CIFAR-10 Batch 1:   Loss:  1.66171  Acc:  0.4646\n",
      "Epoch  5, CIFAR-10 Batch 2:   Loss:  1.60951  Acc:  0.4816\n",
      "Epoch  5, CIFAR-10 Batch 3:   Loss:  1.54031  Acc:  0.4752\n",
      "Epoch  5, CIFAR-10 Batch 4:   Loss:  1.48887  Acc:  0.4826\n",
      "Epoch  5, CIFAR-10 Batch 5:   Loss:  1.50503  Acc:  0.5062\n",
      "Epoch  6, CIFAR-10 Batch 1:   Loss:  1.49806  Acc:  0.5172\n",
      "Epoch  6, CIFAR-10 Batch 2:   Loss:  1.49101  Acc:  0.5182\n",
      "Epoch  6, CIFAR-10 Batch 3:   Loss:  1.38538  Acc:  0.5148\n",
      "Epoch  6, CIFAR-10 Batch 4:   Loss:  1.38906  Acc:  0.5254\n",
      "Epoch  6, CIFAR-10 Batch 5:   Loss:  1.40885  Acc:  0.5392\n",
      "Epoch  7, CIFAR-10 Batch 1:   Loss:  1.44393  Acc:  0.51\n",
      "Epoch  7, CIFAR-10 Batch 2:   Loss:  1.43801  Acc:  0.5248\n",
      "Epoch  7, CIFAR-10 Batch 3:   Loss:  1.33528  Acc:  0.537\n",
      "Epoch  7, CIFAR-10 Batch 4:   Loss:  1.31724  Acc:  0.5426\n",
      "Epoch  7, CIFAR-10 Batch 5:   Loss:  1.29939  Acc:  0.5438\n",
      "Epoch  8, CIFAR-10 Batch 1:   Loss:  1.32637  Acc:  0.5546\n",
      "Epoch  8, CIFAR-10 Batch 2:   Loss:  1.34934  Acc:  0.5668\n",
      "Epoch  8, CIFAR-10 Batch 3:   Loss:  1.26566  Acc:  0.56\n",
      "Epoch  8, CIFAR-10 Batch 4:   Loss:  1.25072  Acc:  0.5586\n",
      "Epoch  8, CIFAR-10 Batch 5:   Loss:  1.25471  Acc:  0.5538\n",
      "Epoch  9, CIFAR-10 Batch 1:   Loss:  1.26938  Acc:  0.5674\n",
      "Epoch  9, CIFAR-10 Batch 2:   Loss:  1.26694  Acc:  0.5872\n",
      "Epoch  9, CIFAR-10 Batch 3:   Loss:  1.2395  Acc:  0.5718\n",
      "Epoch  9, CIFAR-10 Batch 4:   Loss:  1.182  Acc:  0.5864\n",
      "Epoch  9, CIFAR-10 Batch 5:   Loss:  1.17065  Acc:  0.5904\n",
      "Epoch 10, CIFAR-10 Batch 1:   Loss:  1.20964  Acc:  0.592\n",
      "Epoch 10, CIFAR-10 Batch 2:   Loss:  1.22697  Acc:  0.5984\n",
      "Epoch 10, CIFAR-10 Batch 3:   Loss:  1.15136  Acc:  0.5784\n",
      "Epoch 10, CIFAR-10 Batch 4:   Loss:  1.18007  Acc:  0.5782\n",
      "Epoch 10, CIFAR-10 Batch 5:   Loss:  1.14279  Acc:  0.5936\n",
      "Epoch 11, CIFAR-10 Batch 1:   Loss:  1.16087  Acc:  0.5894\n",
      "Epoch 11, CIFAR-10 Batch 2:   Loss:  1.1688  Acc:  0.608\n",
      "Epoch 11, CIFAR-10 Batch 3:   Loss:  1.08201  Acc:  0.6144\n",
      "Epoch 11, CIFAR-10 Batch 4:   Loss:  1.08865  Acc:  0.6088\n",
      "Epoch 11, CIFAR-10 Batch 5:   Loss:  1.06488  Acc:  0.6176\n",
      "Epoch 12, CIFAR-10 Batch 1:   Loss:  1.06776  Acc:  0.6206\n",
      "Epoch 12, CIFAR-10 Batch 2:   Loss:  1.10752  Acc:  0.6174\n",
      "Epoch 12, CIFAR-10 Batch 3:   Loss:  1.03129  Acc:  0.624\n",
      "Epoch 12, CIFAR-10 Batch 4:   Loss:  1.01948  Acc:  0.621\n",
      "Epoch 12, CIFAR-10 Batch 5:   Loss:  1.02103  Acc:  0.6118\n",
      "Epoch 13, CIFAR-10 Batch 1:   Loss:  1.01058  Acc:  0.629\n",
      "Epoch 13, CIFAR-10 Batch 2:   Loss:  1.04411  Acc:  0.637\n",
      "Epoch 13, CIFAR-10 Batch 3:   Loss:  0.968214  Acc:  0.6308\n",
      "Epoch 13, CIFAR-10 Batch 4:   Loss:  0.968536  Acc:  0.6348\n",
      "Epoch 13, CIFAR-10 Batch 5:   Loss:  0.927261  Acc:  0.6338\n",
      "Epoch 14, CIFAR-10 Batch 1:   Loss:  0.964966  Acc:  0.6396\n",
      "Epoch 14, CIFAR-10 Batch 2:   Loss:  1.01445  Acc:  0.6252\n",
      "Epoch 14, CIFAR-10 Batch 3:   Loss:  0.935692  Acc:  0.64\n",
      "Epoch 14, CIFAR-10 Batch 4:   Loss:  0.934038  Acc:  0.6392\n",
      "Epoch 14, CIFAR-10 Batch 5:   Loss:  0.903682  Acc:  0.6536\n",
      "Epoch 15, CIFAR-10 Batch 1:   Loss:  0.940176  Acc:  0.6518\n",
      "Epoch 15, CIFAR-10 Batch 2:   Loss:  0.97588  Acc:  0.6324\n",
      "Epoch 15, CIFAR-10 Batch 3:   Loss:  0.917247  Acc:  0.648\n",
      "Epoch 15, CIFAR-10 Batch 4:   Loss:  0.893467  Acc:  0.6486\n",
      "Epoch 15, CIFAR-10 Batch 5:   Loss:  0.837158  Acc:  0.6628\n",
      "Epoch 16, CIFAR-10 Batch 1:   Loss:  0.870498  Acc:  0.6616\n",
      "Epoch 16, CIFAR-10 Batch 2:   Loss:  0.907492  Acc:  0.644\n",
      "Epoch 16, CIFAR-10 Batch 3:   Loss:  0.863767  Acc:  0.6568\n",
      "Epoch 16, CIFAR-10 Batch 4:   Loss:  0.86973  Acc:  0.6562\n",
      "Epoch 16, CIFAR-10 Batch 5:   Loss:  0.842078  Acc:  0.6546\n",
      "Epoch 17, CIFAR-10 Batch 1:   Loss:  0.848081  Acc:  0.6624\n",
      "Epoch 17, CIFAR-10 Batch 2:   Loss:  0.887058  Acc:  0.6448\n",
      "Epoch 17, CIFAR-10 Batch 3:   Loss:  0.835869  Acc:  0.6544\n",
      "Epoch 17, CIFAR-10 Batch 4:   Loss:  0.812359  Acc:  0.6472\n",
      "Epoch 17, CIFAR-10 Batch 5:   Loss:  0.784311  Acc:  0.6686\n",
      "Epoch 18, CIFAR-10 Batch 1:   Loss:  0.836766  Acc:  0.6502\n",
      "Epoch 18, CIFAR-10 Batch 2:   Loss:  0.840494  Acc:  0.6724\n",
      "Epoch 18, CIFAR-10 Batch 3:   Loss:  0.826089  Acc:  0.6544\n",
      "Epoch 18, CIFAR-10 Batch 4:   Loss:  0.821119  Acc:  0.6542\n",
      "Epoch 18, CIFAR-10 Batch 5:   Loss:  0.779815  Acc:  0.6686\n",
      "Epoch 19, CIFAR-10 Batch 1:   Loss:  0.815179  Acc:  0.6522\n",
      "Epoch 19, CIFAR-10 Batch 2:   Loss:  0.805217  Acc:  0.6596\n",
      "Epoch 19, CIFAR-10 Batch 3:   Loss:  0.781677  Acc:  0.6768\n",
      "Epoch 19, CIFAR-10 Batch 4:   Loss:  0.764205  Acc:  0.6682\n",
      "Epoch 19, CIFAR-10 Batch 5:   Loss:  0.705558  Acc:  0.6766\n",
      "Epoch 20, CIFAR-10 Batch 1:   Loss:  0.767296  Acc:  0.6658\n",
      "Epoch 20, CIFAR-10 Batch 2:   Loss:  0.779112  Acc:  0.666\n",
      "Epoch 20, CIFAR-10 Batch 3:   Loss:  0.766792  Acc:  0.6696\n",
      "Epoch 20, CIFAR-10 Batch 4:   Loss:  0.712313  Acc:  0.672\n",
      "Epoch 20, CIFAR-10 Batch 5:   Loss:  0.706682  Acc:  0.667\n",
      "Epoch 21, CIFAR-10 Batch 1:   Loss:  0.711337  Acc:  0.6752\n",
      "Epoch 21, CIFAR-10 Batch 2:   Loss:  0.736477  Acc:  0.6764\n",
      "Epoch 21, CIFAR-10 Batch 3:   Loss:  0.73862  Acc:  0.671\n",
      "Epoch 21, CIFAR-10 Batch 4:   Loss:  0.697176  Acc:  0.6792\n",
      "Epoch 21, CIFAR-10 Batch 5:   Loss:  0.691614  Acc:  0.6704\n",
      "Epoch 22, CIFAR-10 Batch 1:   Loss:  0.731937  Acc:  0.6694\n",
      "Epoch 22, CIFAR-10 Batch 2:   Loss:  0.739474  Acc:  0.6788\n",
      "Epoch 22, CIFAR-10 Batch 3:   Loss:  0.704926  Acc:  0.6818\n",
      "Epoch 22, CIFAR-10 Batch 4:   Loss:  0.656154  Acc:  0.6844\n",
      "Epoch 22, CIFAR-10 Batch 5:   Loss:  0.633067  Acc:  0.6858\n",
      "Epoch 23, CIFAR-10 Batch 1:   Loss:  0.671103  Acc:  0.6832\n",
      "Epoch 23, CIFAR-10 Batch 2:   Loss:  0.676788  Acc:  0.693\n",
      "Epoch 23, CIFAR-10 Batch 3:   Loss:  0.644697  Acc:  0.6974\n",
      "Epoch 23, CIFAR-10 Batch 4:   Loss:  0.625005  Acc:  0.6824\n",
      "Epoch 23, CIFAR-10 Batch 5:   Loss:  0.635869  Acc:  0.686\n",
      "Epoch 24, CIFAR-10 Batch 1:   Loss:  0.666505  Acc:  0.6772\n",
      "Epoch 24, CIFAR-10 Batch 2:   Loss:  0.682982  Acc:  0.6824\n",
      "Epoch 24, CIFAR-10 Batch 3:   Loss:  0.660196  Acc:  0.681\n",
      "Epoch 24, CIFAR-10 Batch 4:   Loss:  0.61512  Acc:  0.6898\n",
      "Epoch 24, CIFAR-10 Batch 5:   Loss:  0.611192  Acc:  0.6822\n",
      "Epoch 25, CIFAR-10 Batch 1:   Loss:  0.607939  Acc:  0.6878\n",
      "Epoch 25, CIFAR-10 Batch 2:   Loss:  0.654366  Acc:  0.685\n",
      "Epoch 25, CIFAR-10 Batch 3:   Loss:  0.624313  Acc:  0.6986\n",
      "Epoch 25, CIFAR-10 Batch 4:   Loss:  0.593257  Acc:  0.7026\n",
      "Epoch 25, CIFAR-10 Batch 5:   Loss:  0.582266  Acc:  0.693\n",
      "Epoch 26, CIFAR-10 Batch 1:   Loss:  0.5825  Acc:  0.694\n",
      "Epoch 26, CIFAR-10 Batch 2:   Loss:  0.633735  Acc:  0.695\n",
      "Epoch 26, CIFAR-10 Batch 3:   Loss:  0.587691  Acc:  0.7022\n",
      "Epoch 26, CIFAR-10 Batch 4:   Loss:  0.575477  Acc:  0.7008\n",
      "Epoch 26, CIFAR-10 Batch 5:   Loss:  0.545324  Acc:  0.695\n",
      "Epoch 27, CIFAR-10 Batch 1:   Loss:  0.546965  Acc:  0.7044\n",
      "Epoch 27, CIFAR-10 Batch 2:   Loss:  0.555705  Acc:  0.712\n",
      "Epoch 27, CIFAR-10 Batch 3:   Loss:  0.56467  Acc:  0.6978\n",
      "Epoch 27, CIFAR-10 Batch 4:   Loss:  0.544397  Acc:  0.7038\n",
      "Epoch 27, CIFAR-10 Batch 5:   Loss:  0.485256  Acc:  0.7\n",
      "Epoch 28, CIFAR-10 Batch 1:   Loss:  0.530131  Acc:  0.7032\n",
      "Epoch 28, CIFAR-10 Batch 2:   Loss:  0.552306  Acc:  0.6948\n",
      "Epoch 28, CIFAR-10 Batch 3:   Loss:  0.546323  Acc:  0.695\n"
     ]
    },
    {
     "name": "stdout",
     "output_type": "stream",
     "text": [
      "Epoch 28, CIFAR-10 Batch 4:   Loss:  0.554121  Acc:  0.6996\n",
      "Epoch 28, CIFAR-10 Batch 5:   Loss:  0.470823  Acc:  0.6978\n",
      "Epoch 29, CIFAR-10 Batch 1:   Loss:  0.507524  Acc:  0.7054\n",
      "Epoch 29, CIFAR-10 Batch 2:   Loss:  0.535453  Acc:  0.7076\n",
      "Epoch 29, CIFAR-10 Batch 3:   Loss:  0.534206  Acc:  0.6964\n",
      "Epoch 29, CIFAR-10 Batch 4:   Loss:  0.515237  Acc:  0.7062\n",
      "Epoch 29, CIFAR-10 Batch 5:   Loss:  0.437746  Acc:  0.7136\n",
      "Epoch 30, CIFAR-10 Batch 1:   Loss:  0.528855  Acc:  0.7034\n",
      "Epoch 30, CIFAR-10 Batch 2:   Loss:  0.494457  Acc:  0.708\n",
      "Epoch 30, CIFAR-10 Batch 3:   Loss:  0.519981  Acc:  0.7006\n",
      "Epoch 30, CIFAR-10 Batch 4:   Loss:  0.466304  Acc:  0.7062\n",
      "Epoch 30, CIFAR-10 Batch 5:   Loss:  0.447197  Acc:  0.7056\n",
      "Epoch 31, CIFAR-10 Batch 1:   Loss:  0.48946  Acc:  0.706\n",
      "Epoch 31, CIFAR-10 Batch 2:   Loss:  0.529657  Acc:  0.698\n",
      "Epoch 31, CIFAR-10 Batch 3:   Loss:  0.577129  Acc:  0.6708\n",
      "Epoch 31, CIFAR-10 Batch 4:   Loss:  0.502039  Acc:  0.69\n",
      "Epoch 31, CIFAR-10 Batch 5:   Loss:  0.45629  Acc:  0.7058\n",
      "Epoch 32, CIFAR-10 Batch 1:   Loss:  0.473617  Acc:  0.6986\n",
      "Epoch 32, CIFAR-10 Batch 2:   Loss:  0.507358  Acc:  0.702\n",
      "Epoch 32, CIFAR-10 Batch 3:   Loss:  0.504919  Acc:  0.6938\n",
      "Epoch 32, CIFAR-10 Batch 4:   Loss:  0.463631  Acc:  0.6994\n",
      "Epoch 32, CIFAR-10 Batch 5:   Loss:  0.446297  Acc:  0.7072\n",
      "Epoch 33, CIFAR-10 Batch 1:   Loss:  0.474631  Acc:  0.701\n",
      "Epoch 33, CIFAR-10 Batch 2:   Loss:  0.46919  Acc:  0.707\n",
      "Epoch 33, CIFAR-10 Batch 3:   Loss:  0.44446  Acc:  0.706\n",
      "Epoch 33, CIFAR-10 Batch 4:   Loss:  0.404909  Acc:  0.7144\n",
      "Epoch 33, CIFAR-10 Batch 5:   Loss:  0.379089  Acc:  0.7164\n",
      "Epoch 34, CIFAR-10 Batch 1:   Loss:  0.448561  Acc:  0.7182\n",
      "Epoch 34, CIFAR-10 Batch 2:   Loss:  0.414134  Acc:  0.7168\n",
      "Epoch 34, CIFAR-10 Batch 3:   Loss:  0.437264  Acc:  0.713\n",
      "Epoch 34, CIFAR-10 Batch 4:   Loss:  0.420087  Acc:  0.6928\n",
      "Epoch 34, CIFAR-10 Batch 5:   Loss:  0.412993  Acc:  0.7096\n",
      "Epoch 35, CIFAR-10 Batch 1:   Loss:  0.422852  Acc:  0.7198\n",
      "Epoch 35, CIFAR-10 Batch 2:   Loss:  0.41291  Acc:  0.7176\n",
      "Epoch 35, CIFAR-10 Batch 3:   Loss:  0.442484  Acc:  0.7084\n",
      "Epoch 35, CIFAR-10 Batch 4:   Loss:  0.375655  Acc:  0.7082\n",
      "Epoch 35, CIFAR-10 Batch 5:   Loss:  0.371734  Acc:  0.7158\n",
      "Epoch 36, CIFAR-10 Batch 1:   Loss:  0.406989  Acc:  0.718\n",
      "Epoch 36, CIFAR-10 Batch 2:   Loss:  0.384883  Acc:  0.707\n",
      "Epoch 36, CIFAR-10 Batch 3:   Loss:  0.418329  Acc:  0.7146\n",
      "Epoch 36, CIFAR-10 Batch 4:   Loss:  0.348178  Acc:  0.7066\n",
      "Epoch 36, CIFAR-10 Batch 5:   Loss:  0.346948  Acc:  0.7138\n",
      "Epoch 37, CIFAR-10 Batch 1:   Loss:  0.361286  Acc:  0.7214\n",
      "Epoch 37, CIFAR-10 Batch 2:   Loss:  0.369793  Acc:  0.7166\n",
      "Epoch 37, CIFAR-10 Batch 3:   Loss:  0.413652  Acc:  0.713\n",
      "Epoch 37, CIFAR-10 Batch 4:   Loss:  0.337527  Acc:  0.7156\n",
      "Epoch 37, CIFAR-10 Batch 5:   Loss:  0.333277  Acc:  0.709\n",
      "Epoch 38, CIFAR-10 Batch 1:   Loss:  0.360917  Acc:  0.7148\n",
      "Epoch 38, CIFAR-10 Batch 2:   Loss:  0.346719  Acc:  0.7236\n",
      "Epoch 38, CIFAR-10 Batch 3:   Loss:  0.395231  Acc:  0.7104\n",
      "Epoch 38, CIFAR-10 Batch 4:   Loss:  0.346605  Acc:  0.7032\n",
      "Epoch 38, CIFAR-10 Batch 5:   Loss:  0.331627  Acc:  0.7068\n",
      "Epoch 39, CIFAR-10 Batch 1:   Loss:  0.361452  Acc:  0.7168\n",
      "Epoch 39, CIFAR-10 Batch 2:   Loss:  0.383375  Acc:  0.7132\n",
      "Epoch 39, CIFAR-10 Batch 3:   Loss:  0.374202  Acc:  0.7156\n",
      "Epoch 39, CIFAR-10 Batch 4:   Loss:  0.336197  Acc:  0.7122\n",
      "Epoch 39, CIFAR-10 Batch 5:   Loss:  0.330174  Acc:  0.721\n",
      "Epoch 40, CIFAR-10 Batch 1:   Loss:  0.365802  Acc:  0.7194\n",
      "Epoch 40, CIFAR-10 Batch 2:   Loss:  0.367349  Acc:  0.7158\n",
      "Epoch 40, CIFAR-10 Batch 3:   Loss:  0.368964  Acc:  0.6968\n",
      "Epoch 40, CIFAR-10 Batch 4:   Loss:  0.340143  Acc:  0.6964\n",
      "Epoch 40, CIFAR-10 Batch 5:   Loss:  0.326914  Acc:  0.717\n",
      "Epoch 41, CIFAR-10 Batch 1:   Loss:  0.339829  Acc:  0.7124\n",
      "Epoch 41, CIFAR-10 Batch 2:   Loss:  0.341571  Acc:  0.7206\n",
      "Epoch 41, CIFAR-10 Batch 3:   Loss:  0.341639  Acc:  0.7118\n",
      "Epoch 41, CIFAR-10 Batch 4:   Loss:  0.311064  Acc:  0.7084\n",
      "Epoch 41, CIFAR-10 Batch 5:   Loss:  0.295587  Acc:  0.7168\n",
      "Epoch 42, CIFAR-10 Batch 1:   Loss:  0.319781  Acc:  0.7166\n",
      "Epoch 42, CIFAR-10 Batch 2:   Loss:  0.302342  Acc:  0.7262\n",
      "Epoch 42, CIFAR-10 Batch 3:   Loss:  0.311218  Acc:  0.7222\n",
      "Epoch 42, CIFAR-10 Batch 4:   Loss:  0.285465  Acc:  0.71\n",
      "Epoch 42, CIFAR-10 Batch 5:   Loss:  0.281092  Acc:  0.7184\n",
      "Epoch 43, CIFAR-10 Batch 1:   Loss:  0.288547  Acc:  0.726\n",
      "Epoch 43, CIFAR-10 Batch 2:   Loss:  0.298757  Acc:  0.7278\n",
      "Epoch 43, CIFAR-10 Batch 3:   Loss:  0.299767  Acc:  0.7124\n",
      "Epoch 43, CIFAR-10 Batch 4:   Loss:  0.257933  Acc:  0.7136\n",
      "Epoch 43, CIFAR-10 Batch 5:   Loss:  0.295978  Acc:  0.7134\n",
      "Epoch 44, CIFAR-10 Batch 1:   Loss:  0.295416  Acc:  0.7206\n",
      "Epoch 44, CIFAR-10 Batch 2:   Loss:  0.309788  Acc:  0.721\n",
      "Epoch 44, CIFAR-10 Batch 3:   Loss:  0.283306  Acc:  0.7202\n",
      "Epoch 44, CIFAR-10 Batch 4:   Loss:  0.257333  Acc:  0.7178\n",
      "Epoch 44, CIFAR-10 Batch 5:   Loss:  0.283674  Acc:  0.7174\n",
      "Epoch 45, CIFAR-10 Batch 1:   Loss:  0.278928  Acc:  0.7192\n",
      "Epoch 45, CIFAR-10 Batch 2:   Loss:  0.267234  Acc:  0.7224\n",
      "Epoch 45, CIFAR-10 Batch 3:   Loss:  0.267063  Acc:  0.7242\n",
      "Epoch 45, CIFAR-10 Batch 4:   Loss:  0.236682  Acc:  0.718\n",
      "Epoch 45, CIFAR-10 Batch 5:   Loss:  0.266014  Acc:  0.7216\n",
      "Epoch 46, CIFAR-10 Batch 1:   Loss:  0.266383  Acc:  0.7234\n",
      "Epoch 46, CIFAR-10 Batch 2:   Loss:  0.257061  Acc:  0.7262\n",
      "Epoch 46, CIFAR-10 Batch 3:   Loss:  0.261506  Acc:  0.7262\n",
      "Epoch 46, CIFAR-10 Batch 4:   Loss:  0.247142  Acc:  0.718\n",
      "Epoch 46, CIFAR-10 Batch 5:   Loss:  0.257119  Acc:  0.7198\n",
      "Epoch 47, CIFAR-10 Batch 1:   Loss:  0.262527  Acc:  0.7248\n",
      "Epoch 47, CIFAR-10 Batch 2:   Loss:  0.291995  Acc:  0.718\n",
      "Epoch 47, CIFAR-10 Batch 3:   Loss:  0.274336  Acc:  0.7248\n",
      "Epoch 47, CIFAR-10 Batch 4:   Loss:  0.238007  Acc:  0.7162\n",
      "Epoch 47, CIFAR-10 Batch 5:   Loss:  0.244738  Acc:  0.7162\n",
      "Epoch 48, CIFAR-10 Batch 1:   Loss:  0.264692  Acc:  0.7264\n",
      "Epoch 48, CIFAR-10 Batch 2:   Loss:  0.25929  Acc:  0.7264\n",
      "Epoch 48, CIFAR-10 Batch 3:   Loss:  0.258636  Acc:  0.7166\n",
      "Epoch 48, CIFAR-10 Batch 4:   Loss:  0.241293  Acc:  0.7116\n",
      "Epoch 48, CIFAR-10 Batch 5:   Loss:  0.22427  Acc:  0.72\n",
      "Epoch 49, CIFAR-10 Batch 1:   Loss:  0.264961  Acc:  0.716\n",
      "Epoch 49, CIFAR-10 Batch 2:   Loss:  0.24116  Acc:  0.7226\n",
      "Epoch 49, CIFAR-10 Batch 3:   Loss:  0.240274  Acc:  0.7242\n",
      "Epoch 49, CIFAR-10 Batch 4:   Loss:  0.229738  Acc:  0.7192\n",
      "Epoch 49, CIFAR-10 Batch 5:   Loss:  0.220106  Acc:  0.7204\n",
      "Epoch 50, CIFAR-10 Batch 1:   Loss:  0.264718  Acc:  0.7114\n",
      "Epoch 50, CIFAR-10 Batch 2:   Loss:  0.252912  Acc:  0.7192\n",
      "Epoch 50, CIFAR-10 Batch 3:   Loss:  0.232582  Acc:  0.7218\n",
      "Epoch 50, CIFAR-10 Batch 4:   Loss:  0.209715  Acc:  0.7198\n",
      "Epoch 50, CIFAR-10 Batch 5:   Loss:  0.192724  Acc:  0.7264\n",
      "Epoch 51, CIFAR-10 Batch 1:   Loss:  0.256433  Acc:  0.7086\n",
      "Epoch 51, CIFAR-10 Batch 2:   Loss:  0.247391  Acc:  0.7294\n",
      "Epoch 51, CIFAR-10 Batch 3:   Loss:  0.217345  Acc:  0.7218\n",
      "Epoch 51, CIFAR-10 Batch 4:   Loss:  0.215685  Acc:  0.7234\n",
      "Epoch 51, CIFAR-10 Batch 5:   Loss:  0.185932  Acc:  0.7276\n",
      "Epoch 52, CIFAR-10 Batch 1:   Loss:  0.254523  Acc:  0.7118\n",
      "Epoch 52, CIFAR-10 Batch 2:   Loss:  0.219983  Acc:  0.7252\n",
      "Epoch 52, CIFAR-10 Batch 3:   Loss:  0.214295  Acc:  0.7194\n",
      "Epoch 52, CIFAR-10 Batch 4:   Loss:  0.197888  Acc:  0.7196\n",
      "Epoch 52, CIFAR-10 Batch 5:   Loss:  0.197912  Acc:  0.7284\n",
      "Epoch 53, CIFAR-10 Batch 1:   Loss:  0.225528  Acc:  0.7306\n",
      "Epoch 53, CIFAR-10 Batch 2:   Loss:  0.23455  Acc:  0.7196\n",
      "Epoch 53, CIFAR-10 Batch 3:   Loss:  0.20979  Acc:  0.724\n",
      "Epoch 53, CIFAR-10 Batch 4:   Loss:  0.199726  Acc:  0.7146\n",
      "Epoch 53, CIFAR-10 Batch 5:   Loss:  0.194304  Acc:  0.7272\n",
      "Epoch 54, CIFAR-10 Batch 1:   Loss:  0.234515  Acc:  0.7236\n",
      "Epoch 54, CIFAR-10 Batch 2:   Loss:  0.215755  Acc:  0.7238\n",
      "Epoch 54, CIFAR-10 Batch 3:   Loss:  0.203025  Acc:  0.7238\n",
      "Epoch 54, CIFAR-10 Batch 4:   Loss:  0.198922  Acc:  0.7138\n",
      "Epoch 54, CIFAR-10 Batch 5:   Loss:  0.181684  Acc:  0.726\n",
      "Epoch 55, CIFAR-10 Batch 1:   Loss:  0.233414  Acc:  0.7152\n",
      "Epoch 55, CIFAR-10 Batch 2:   Loss:  0.200856  Acc:  0.7376\n",
      "Epoch 55, CIFAR-10 Batch 3:   Loss:  0.20262  Acc:  0.723\n",
      "Epoch 55, CIFAR-10 Batch 4:   Loss:  0.202182  Acc:  0.7176\n",
      "Epoch 55, CIFAR-10 Batch 5:   Loss:  0.175076  Acc:  0.7234\n"
     ]
    },
    {
     "name": "stdout",
     "output_type": "stream",
     "text": [
      "Epoch 56, CIFAR-10 Batch 1:   Loss:  0.206877  Acc:  0.7206\n",
      "Epoch 56, CIFAR-10 Batch 2:   Loss:  0.223658  Acc:  0.7278\n",
      "Epoch 56, CIFAR-10 Batch 3:   Loss:  0.200237  Acc:  0.7262\n",
      "Epoch 56, CIFAR-10 Batch 4:   Loss:  0.185793  Acc:  0.7194\n",
      "Epoch 56, CIFAR-10 Batch 5:   Loss:  0.173846  Acc:  0.7208\n",
      "Epoch 57, CIFAR-10 Batch 1:   Loss:  0.18545  Acc:  0.7226\n",
      "Epoch 57, CIFAR-10 Batch 2:   Loss:  0.22401  Acc:  0.7292\n",
      "Epoch 57, CIFAR-10 Batch 3:   Loss:  0.176594  Acc:  0.7264\n",
      "Epoch 57, CIFAR-10 Batch 4:   Loss:  0.175695  Acc:  0.7236\n",
      "Epoch 57, CIFAR-10 Batch 5:   Loss:  0.20809  Acc:  0.7124\n",
      "Epoch 58, CIFAR-10 Batch 1:   Loss:  0.184026  Acc:  0.726\n",
      "Epoch 58, CIFAR-10 Batch 2:   Loss:  0.198369  Acc:  0.7306\n",
      "Epoch 58, CIFAR-10 Batch 3:   Loss:  0.176637  Acc:  0.7254\n",
      "Epoch 58, CIFAR-10 Batch 4:   Loss:  0.184156  Acc:  0.7096\n",
      "Epoch 58, CIFAR-10 Batch 5:   Loss:  0.192993  Acc:  0.7144\n",
      "Epoch 59, CIFAR-10 Batch 1:   Loss:  0.198314  Acc:  0.7204\n",
      "Epoch 59, CIFAR-10 Batch 2:   Loss:  0.209707  Acc:  0.7238\n",
      "Epoch 59, CIFAR-10 Batch 3:   Loss:  0.178242  Acc:  0.723\n",
      "Epoch 59, CIFAR-10 Batch 4:   Loss:  0.15945  Acc:  0.7214\n",
      "Epoch 59, CIFAR-10 Batch 5:   Loss:  0.159456  Acc:  0.7268\n",
      "Epoch 60, CIFAR-10 Batch 1:   Loss:  0.169751  Acc:  0.7306\n",
      "Epoch 60, CIFAR-10 Batch 2:   Loss:  0.211531  Acc:  0.723\n",
      "Epoch 60, CIFAR-10 Batch 3:   Loss:  0.169499  Acc:  0.7256\n",
      "Epoch 60, CIFAR-10 Batch 4:   Loss:  0.139533  Acc:  0.727\n",
      "Epoch 60, CIFAR-10 Batch 5:   Loss:  0.16829  Acc:  0.723\n"
     ]
    }
   ],
   "source": [
    "\"\"\"\n",
    "DON'T MODIFY ANYTHING IN THIS CELL\n",
    "\"\"\"\n",
    "save_model_path = './image_classification'\n",
    "\n",
    "print('Training...')\n",
    "with tf.Session() as sess:\n",
    "    # Initializing the variables\n",
    "    sess.run(tf.global_variables_initializer())\n",
    "    \n",
    "    # Training cycle\n",
    "    for epoch in range(epochs):\n",
    "        # Loop over all batches\n",
    "        n_batches = 5\n",
    "        for batch_i in range(1, n_batches + 1):\n",
    "            for batch_features, batch_labels in helper.load_preprocess_training_batch(batch_i, batch_size):\n",
    "                train_neural_network(sess, optimizer, keep_probability, batch_features, batch_labels)\n",
    "            print('Epoch {:>2}, CIFAR-10 Batch {}:  '.format(epoch + 1, batch_i), end='')\n",
    "            print_stats(sess, batch_features, batch_labels, cost, accuracy)\n",
    "            \n",
    "    # Save Model\n",
    "    saver = tf.train.Saver()\n",
    "    save_path = saver.save(sess, save_model_path)"
   ]
  },
  {
   "cell_type": "markdown",
   "metadata": {},
   "source": [
    "# Checkpoint\n",
    "The model has been saved to disk.\n",
    "## Test Model\n",
    "Test your model against the test dataset.  This will be your final accuracy. You should have an accuracy greater than 50%. If you don't, keep tweaking the model architecture and parameters."
   ]
  },
  {
   "cell_type": "code",
   "execution_count": 99,
   "metadata": {},
   "outputs": [
    {
     "name": "stdout",
     "output_type": "stream",
     "text": [
      "INFO:tensorflow:Restoring parameters from ./image_classification\n",
      "Testing Accuracy: 0.7089086472988129\n",
      "\n"
     ]
    },
    {
     "data": {
      "image/png": "[encoded data removed]",
      "text/plain": [
       "<matplotlib.figure.Figure at 0x22d7624bba8>"
      ]
     },
     "metadata": {
      "image/png": {
       "height": 319,
       "width": 355
      }
     },
     "output_type": "display_data"
    }
   ],
   "source": [
    "\"\"\"\n",
    "DON'T MODIFY ANYTHING IN THIS CELL\n",
    "\"\"\"\n",
    "%matplotlib inline\n",
    "%config InlineBackend.figure_format = 'retina'\n",
    "\n",
    "import tensorflow as tf\n",
    "import pickle\n",
    "import helper\n",
    "import random\n",
    "\n",
    "# Set batch size if not already set\n",
    "try:\n",
    "    if batch_size:\n",
    "        pass\n",
    "except NameError:\n",
    "    batch_size = 64\n",
    "\n",
    "save_model_path = './image_classification'\n",
    "n_samples = 4\n",
    "top_n_predictions = 3\n",
    "\n",
    "def test_model():\n",
    "    \"\"\"\n",
    "    Test the saved model against the test dataset\n",
    "    \"\"\"\n",
    "\n",
    "    test_features, test_labels = pickle.load(open('preprocess_test.p', mode='rb'))\n",
    "    loaded_graph = tf.Graph()\n",
    "\n",
    "    with tf.Session(graph=loaded_graph) as sess:\n",
    "        # Load model\n",
    "        loader = tf.train.import_meta_graph(save_model_path + '.meta')\n",
    "        loader.restore(sess, save_model_path)\n",
    "\n",
    "        # Get Tensors from loaded model\n",
    "        loaded_x = loaded_graph.get_tensor_by_name('x:0')\n",
    "        loaded_y = loaded_graph.get_tensor_by_name('y:0')\n",
    "        loaded_keep_prob = loaded_graph.get_tensor_by_name('keep_prob:0')\n",
    "        loaded_logits = loaded_graph.get_tensor_by_name('logits:0')\n",
    "        loaded_acc = loaded_graph.get_tensor_by_name('accuracy:0')\n",
    "        \n",
    "        # Get accuracy in batches for memory limitations\n",
    "        test_batch_acc_total = 0\n",
    "        test_batch_count = 0\n",
    "        \n",
    "        for test_feature_batch, test_label_batch in helper.batch_features_labels(test_features, test_labels, batch_size):\n",
    "            test_batch_acc_total += sess.run(\n",
    "                loaded_acc,\n",
    "                feed_dict={loaded_x: test_feature_batch, loaded_y: test_label_batch, loaded_keep_prob: 1.0})\n",
    "            test_batch_count += 1\n",
    "\n",
    "        print('Testing Accuracy: {}\\n'.format(test_batch_acc_total/test_batch_count))\n",
    "\n",
    "        # Print Random Samples\n",
    "        random_test_features, random_test_labels = tuple(zip(*random.sample(list(zip(test_features, test_labels)), n_samples)))\n",
    "        random_test_predictions = sess.run(\n",
    "            tf.nn.top_k(tf.nn.softmax(loaded_logits), top_n_predictions),\n",
    "            feed_dict={loaded_x: random_test_features, loaded_y: random_test_labels, loaded_keep_prob: 1.0})\n",
    "        helper.display_image_predictions(random_test_features, random_test_labels, random_test_predictions)\n",
    "\n",
    "\n",
    "test_model()"
   ]
  },
  {
   "cell_type": "markdown",
   "metadata": {},
   "source": [
    "## Why 50-80% Accuracy?\n",
    "You might be wondering why you can't get an accuracy any higher. First things first, 50% isn't bad for a simple CNN.  Pure guessing would get you 10% accuracy. However, you might notice people are getting scores [well above 80%](http://rodrigob.github.io/are_we_there_yet/build/classification_datasets_results.html#43494641522d3130).  That's because we haven't taught you all there is to know about neural networks. We still need to cover a few more techniques.\n",
    "## Submitting This Project\n",
    "When submitting this project, make sure to run all the cells before saving the notebook.  Save the notebook file as \"dlnd_image_classification.ipynb\" and save it as a HTML file under \"File\" -> \"Download as\".  Include the \"helper.py\" and \"problem_unittests.py\" files in your submission."
   ]
  }
 ],
 "metadata": {
  "kernelspec": {
   "display_name": "Python 3",
   "language": "python",
   "name": "python3"
  },
  "language_info": {
   "codemirror_mode": {
    "name": "ipython",
    "version": 3
   },
   "file_extension": ".py",
   "mimetype": "text/x-python",
   "name": "python",
   "nbconvert_exporter": "python",
   "pygments_lexer": "ipython3",
   "version": "3.5.3"
  }
 },
 "nbformat": 4,
 "nbformat_minor": 1
}
