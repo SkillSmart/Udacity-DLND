{
 "cells": [
  {
   "cell_type": "markdown",
   "metadata": {
    "collapsed": true
   },
   "source": [
    "# Image Classification\n",
    "In this project, you'll classify images from the [CIFAR-10 dataset](https://www.cs.toronto.edu/~kriz/cifar.html).  The dataset consists of airplanes, dogs, cats, and other objects. You'll preprocess the images, then train a convolutional neural network on all the samples. The images need to be normalized and the labels need to be one-hot encoded.  You'll get to apply what you learned and build a convolutional, max pooling, dropout, and fully connected layers.  At the end, you'll get to see your neural network's predictions on the sample images.\n",
    "## Get the Data\n",
    "Run the following cell to download the [CIFAR-10 dataset for python](https://www.cs.toronto.edu/~kriz/cifar-10-python.tar.gz)."
   ]
  },
  {
   "cell_type": "code",
   "execution_count": 3,
   "metadata": {},
   "outputs": [
    {
     "name": "stdout",
     "output_type": "stream",
     "text": [
      "All files found!\n"
     ]
    }
   ],
   "source": [
    "\"\"\"\n",
    "DON'T MODIFY ANYTHING IN THIS CELL THAT IS BELOW THIS LINE\n",
    "\"\"\"\n",
    "from urllib.request import urlretrieve\n",
    "from os.path import isfile, isdir\n",
    "from tqdm import tqdm\n",
    "import problem_unittests as tests\n",
    "import tarfile\n",
    "\n",
    "cifar10_dataset_folder_path = 'cifar-10-batches-py'\n",
    "\n",
    "# Use Floyd's cifar-10 dataset if present\n",
    "floyd_cifar10_location = '/input/cifar-10/python.tar.gz'\n",
    "if isfile(floyd_cifar10_location):\n",
    "    tar_gz_path = floyd_cifar10_location\n",
    "else:\n",
    "    tar_gz_path = 'cifar-10-python.tar.gz'\n",
    "\n",
    "class DLProgress(tqdm):\n",
    "    last_block = 0\n",
    "\n",
    "    def hook(self, block_num=1, block_size=1, total_size=None):\n",
    "        self.total = total_size\n",
    "        self.update((block_num - self.last_block) * block_size)\n",
    "        self.last_block = block_num\n",
    "\n",
    "if not isfile(tar_gz_path):\n",
    "    with DLProgress(unit='B', unit_scale=True, miniters=1, desc='CIFAR-10 Dataset') as pbar:\n",
    "        urlretrieve(\n",
    "            'https://www.cs.toronto.edu/~kriz/cifar-10-python.tar.gz',\n",
    "            tar_gz_path,\n",
    "            pbar.hook)\n",
    "\n",
    "if not isdir(cifar10_dataset_folder_path):\n",
    "    with tarfile.open(tar_gz_path) as tar:\n",
    "        tar.extractall()\n",
    "        tar.close()\n",
    "\n",
    "\n",
    "tests.test_folder_path(cifar10_dataset_folder_path)"
   ]
  },
  {
   "cell_type": "markdown",
   "metadata": {},
   "source": [
    "## Explore the Data\n",
    "The dataset is broken into batches to prevent your machine from running out of memory.  The CIFAR-10 dataset consists of 5 batches, named `data_batch_1`, `data_batch_2`, etc.. Each batch contains the labels and images that are one of the following:\n",
    "* airplane\n",
    "* automobile\n",
    "* bird\n",
    "* cat\n",
    "* deer\n",
    "* dog\n",
    "* frog\n",
    "* horse\n",
    "* ship\n",
    "* truck\n",
    "\n",
    "Understanding a dataset is part of making predictions on the data.  Play around with the code cell below by changing the `batch_id` and `sample_id`. The `batch_id` is the id for a batch (1-5). The `sample_id` is the id for a image and label pair in the batch.\n",
    "\n",
    "Ask yourself \"What are all possible labels?\", \"What is the range of values for the image data?\", \"Are the labels in order or random?\".  Answers to questions like these will help you preprocess the data and end up with better predictions."
   ]
  },
  {
   "cell_type": "code",
   "execution_count": 2,
   "metadata": {},
   "outputs": [
    {
     "name": "stdout",
     "output_type": "stream",
     "text": [
      "\n",
      "Stats of batch 5:\n",
      "Samples: 10000\n",
      "Label Counts: {0: 1014, 1: 1014, 2: 952, 3: 1016, 4: 997, 5: 1025, 6: 980, 7: 977, 8: 1003, 9: 1022}\n",
      "First 20 Labels: [1, 8, 5, 1, 5, 7, 4, 3, 8, 2, 7, 2, 0, 1, 5, 9, 6, 2, 0, 8]\n",
      "\n",
      "Example of Image 205:\n",
      "Image - Min Value: 7 Max Value: 225\n",
      "Image - Shape: (32, 32, 3)\n",
      "Label - Label Id: 5 Name: dog\n"
     ]
    },
    {
     "data": {
      "image/png": "[encoded data removed]",
      "text/plain": [
       "<matplotlib.figure.Figure at 0x1b647d6af28>"
      ]
     },
     "metadata": {
      "image/png": {
       "height": 250,
       "width": 253
      }
     },
     "output_type": "display_data"
    }
   ],
   "source": [
    "%matplotlib inline\n",
    "%config InlineBackend.figure_format = 'retina'\n",
    "\n",
    "import helper\n",
    "import numpy as np\n",
    "\n",
    "# Explore the dataset\n",
    "batch_id = 5\n",
    "sample_id = 205\n",
    "helper.display_stats(cifar10_dataset_folder_path, batch_id, sample_id)"
   ]
  },
  {
   "cell_type": "markdown",
   "metadata": {},
   "source": [
    "## Implement Preprocess Functions\n",
    "### Normalize\n",
    "In the cell below, implement the `normalize` function to take in image data, `x`, and return it as a normalized Numpy array. The values should be in the range of 0 to 1, inclusive.  The return object should be the same shape as `x`."
   ]
  },
  {
   "cell_type": "code",
   "execution_count": 3,
   "metadata": {},
   "outputs": [
    {
     "name": "stdout",
     "output_type": "stream",
     "text": [
      "Tests Passed\n"
     ]
    }
   ],
   "source": [
    "def normalize(x):\n",
    "    \"\"\"\n",
    "    Normalize a list of sample image data in the range of 0 to 1\n",
    "    : x: List of image data.  The image shape is (32, 32, 3)\n",
    "    : return: Numpy array of normalize data\n",
    "    \"\"\"\n",
    "    # TODO: Implement Function\n",
    "    min_n = 0\n",
    "    max_n = 1\n",
    "    \n",
    "    return min_n + ((x- 0) * (max_n - min_n)) / (255 - 0)\n",
    "\n",
    "\n",
    "\"\"\"\n",
    "DON'T MODIFY ANYTHING IN THIS CELL THAT IS BELOW THIS LINE\n",
    "\"\"\"\n",
    "tests.test_normalize(normalize)"
   ]
  },
  {
   "cell_type": "markdown",
   "metadata": {},
   "source": [
    "### One-hot encode\n",
    "Just like the previous code cell, you'll be implementing a function for preprocessing.  This time, you'll implement the `one_hot_encode` function. The input, `x`, are a list of labels.  Implement the function to return the list of labels as One-Hot encoded Numpy array.  The possible values for labels are 0 to 9. The one-hot encoding function should return the same encoding for each value between each call to `one_hot_encode`.  Make sure to save the map of encodings outside the function.\n",
    "\n",
    "Hint: Don't reinvent the wheel."
   ]
  },
  {
   "cell_type": "code",
   "execution_count": 4,
   "metadata": {},
   "outputs": [
    {
     "name": "stdout",
     "output_type": "stream",
     "text": [
      "Tests Passed\n"
     ]
    }
   ],
   "source": [
    "def one_hot_encode(x):\n",
    "    \"\"\"\n",
    "    One hot encode a list of sample labels. Return a one-hot encoded vector for each label.\n",
    "    : x: List of sample Labels\n",
    "    : return: Numpy array of one-hot encoded labels\n",
    "    \"\"\"\n",
    "    #TODO: Implement Encoder Function\n",
    "    nb_classes = 10\n",
    "    one_hot_targets = np.eye(nb_classes)[x]\n",
    "    return one_hot_targets\n",
    "    \n",
    "\n",
    "\"\"\"\n",
    "DON'T MODIFY ANYTHING IN THIS CELL THAT IS BELOW THIS LINE\n",
    "\"\"\"\n",
    "tests.test_one_hot_encode(one_hot_encode)"
   ]
  },
  {
   "cell_type": "markdown",
   "metadata": {},
   "source": [
    "### Randomize Data\n",
    "As you saw from exploring the data above, the order of the samples are randomized.  It doesn't hurt to randomize it again, but you don't need to for this dataset."
   ]
  },
  {
   "cell_type": "markdown",
   "metadata": {},
   "source": [
    "## Preprocess all the data and save it\n",
    "Running the code cell below will preprocess all the CIFAR-10 data and save it to file. The code below also uses 10% of the training data for validation."
   ]
  },
  {
   "cell_type": "code",
   "execution_count": 5,
   "metadata": {
    "collapsed": true
   },
   "outputs": [],
   "source": [
    "\"\"\"\n",
    "DON'T MODIFY ANYTHING IN THIS CELL\n",
    "\"\"\"\n",
    "# Preprocess Training, Validation, and Testing Data\n",
    "helper.preprocess_and_save_data(cifar10_dataset_folder_path, normalize, one_hot_encode)"
   ]
  },
  {
   "cell_type": "markdown",
   "metadata": {},
   "source": [
    "# Check Point\n",
    "This is your first checkpoint.  If you ever decide to come back to this notebook or have to restart the notebook, you can start from here.  The preprocessed data has been saved to disk."
   ]
  },
  {
   "cell_type": "code",
   "execution_count": 4,
   "metadata": {
    "collapsed": true
   },
   "outputs": [],
   "source": [
    "\"\"\"\n",
    "DON'T MODIFY ANYTHING IN THIS CELL\n",
    "\"\"\"\n",
    "import pickle\n",
    "import problem_unittests as tests\n",
    "import helper\n",
    "\n",
    "# Load the Preprocessed Validation data\n",
    "valid_features, valid_labels = pickle.load(open('preprocess_validation.p', mode='rb'))"
   ]
  },
  {
   "cell_type": "markdown",
   "metadata": {},
   "source": [
    "## Build the network\n",
    "For the neural network, you'll build each layer into a function.  Most of the code you've seen has been outside of functions. To test your code more thoroughly, we require that you put each layer in a function.  This allows us to give you better feedback and test for simple mistakes using our unittests before you submit your project.\n",
    "\n",
    ">**Note:** If you're finding it hard to dedicate enough time for this course each week, we've provided a small shortcut to this part of the project. In the next couple of problems, you'll have the option to use classes from the [TensorFlow Layers](https://www.tensorflow.org/api_docs/python/tf/layers) or [TensorFlow Layers (contrib)](https://www.tensorflow.org/api_guides/python/contrib.layers) packages to build each layer, except the layers you build in the \"Convolutional and Max Pooling Layer\" section.  TF Layers is similar to Keras's and TFLearn's abstraction to layers, so it's easy to pickup.\n",
    "\n",
    ">However, if you would like to get the most out of this course, try to solve all the problems _without_ using anything from the TF Layers packages. You **can** still use classes from other packages that happen to have the same name as ones you find in TF Layers! For example, instead of using the TF Layers version of the `conv2d` class, [tf.layers.conv2d](https://www.tensorflow.org/api_docs/python/tf/layers/conv2d), you would want to use the TF Neural Network version of `conv2d`, [tf.nn.conv2d](https://www.tensorflow.org/api_docs/python/tf/nn/conv2d). \n",
    "\n",
    "Let's begin!\n",
    "\n",
    "### Input\n",
    "The neural network needs to read the image data, one-hot encoded labels, and dropout keep probability. Implement the following functions\n",
    "* Implement `neural_net_image_input`\n",
    " * Return a [TF Placeholder](https://www.tensorflow.org/api_docs/python/tf/placeholder)\n",
    " * Set the shape using `image_shape` with batch size set to `None`.\n",
    " * Name the TensorFlow placeholder \"x\" using the TensorFlow `name` parameter in the [TF Placeholder](https://www.tensorflow.org/api_docs/python/tf/placeholder).\n",
    "* Implement `neural_net_label_input`\n",
    " * Return a [TF Placeholder](https://www.tensorflow.org/api_docs/python/tf/placeholder)\n",
    " * Set the shape using `n_classes` with batch size set to `None`.\n",
    " * Name the TensorFlow placeholder \"y\" using the TensorFlow `name` parameter in the [TF Placeholder](https://www.tensorflow.org/api_docs/python/tf/placeholder).\n",
    "* Implement `neural_net_keep_prob_input`\n",
    " * Return a [TF Placeholder](https://www.tensorflow.org/api_docs/python/tf/placeholder) for dropout keep probability.\n",
    " * Name the TensorFlow placeholder \"keep_prob\" using the TensorFlow `name` parameter in the [TF Placeholder](https://www.tensorflow.org/api_docs/python/tf/placeholder).\n",
    "\n",
    "These names will be used at the end of the project to load your saved model.\n",
    "\n",
    "Note: `None` for shapes in TensorFlow allow for a dynamic size."
   ]
  },
  {
   "cell_type": "code",
   "execution_count": 5,
   "metadata": {},
   "outputs": [
    {
     "name": "stdout",
     "output_type": "stream",
     "text": [
      "Image Input Tests Passed.\n",
      "Label Input Tests Passed.\n",
      "Keep Prob Tests Passed.\n"
     ]
    }
   ],
   "source": [
    "import tensorflow as tf\n",
    "\n",
    "def neural_net_image_input(image_shape):\n",
    "    \"\"\"\n",
    "    Return a Tensor for a batch of image input\n",
    "    : image_shape: Shape of the images\n",
    "    : return: Tensor for image input.\n",
    "    \"\"\"\n",
    "    # TODO: Implement Function\n",
    "    return tf.placeholder(tf.float32, [None, image_shape[0], image_shape[1], image_shape[2]], name='x')\n",
    "\n",
    "\n",
    "def neural_net_label_input(n_classes):\n",
    "    \"\"\"\n",
    "    Return a Tensor for a batch of label input\n",
    "    : n_classes: Number of classes\n",
    "    : return: Tensor for label input.\n",
    "    \"\"\"\n",
    "    # TODO: Implement Function\n",
    "    return tf.placeholder(tf.int32, [None, n_classes], name='y')\n",
    "\n",
    "\n",
    "def neural_net_keep_prob_input():\n",
    "    \"\"\"\n",
    "    Return a Tensor for keep probability\n",
    "    : return: Tensor for keep probability.\n",
    "    \"\"\"\n",
    "    # TODO: Implement Function\n",
    "    return tf.placeholder(tf.float32, name='keep_prob')\n",
    "\n",
    "\n",
    "\"\"\"\n",
    "DON'T MODIFY ANYTHING IN THIS CELL THAT IS BELOW THIS LINE\n",
    "\"\"\"\n",
    "tf.reset_default_graph()\n",
    "tests.test_nn_image_inputs(neural_net_image_input)\n",
    "tests.test_nn_label_inputs(neural_net_label_input)\n",
    "tests.test_nn_keep_prob_inputs(neural_net_keep_prob_input)"
   ]
  },
  {
   "cell_type": "markdown",
   "metadata": {},
   "source": [
    "### Convolution and Max Pooling Layer\n",
    "Convolution layers have a lot of success with images. For this code cell, you should implement the function `conv2d_maxpool` to apply convolution then max pooling:\n",
    "* Create the weight and bias using `conv_ksize`, `conv_num_outputs` and the shape of `x_tensor`.\n",
    "* Apply a convolution to `x_tensor` using weight and `conv_strides`.\n",
    " * We recommend you use same padding, but you're welcome to use any padding.\n",
    "* Add bias\n",
    "* Add a nonlinear activation to the convolution.\n",
    "* Apply Max Pooling using `pool_ksize` and `pool_strides`.\n",
    " * We recommend you use same padding, but you're welcome to use any padding.\n",
    "\n",
    "**Note:** You **can't** use [TensorFlow Layers](https://www.tensorflow.org/api_docs/python/tf/layers) or [TensorFlow Layers (contrib)](https://www.tensorflow.org/api_guides/python/contrib.layers) for **this** layer, but you can still use TensorFlow's [Neural Network](https://www.tensorflow.org/api_docs/python/tf/nn) package. You may still use the shortcut option for all the **other** layers."
   ]
  },
  {
   "cell_type": "code",
   "execution_count": 6,
   "metadata": {},
   "outputs": [
    {
     "name": "stdout",
     "output_type": "stream",
     "text": [
      "Tests Passed\n"
     ]
    }
   ],
   "source": [
    "def conv2d_maxpool(x_tensor, conv_num_outputs, conv_ksize, conv_strides, pool_ksize, pool_strides):\n",
    "    \"\"\"\n",
    "    Apply convolution then max pooling to x_tensor\n",
    "    :param x_tensor: TensorFlow Tensor\n",
    "    :param conv_num_outputs: Number of outputs for the convolutional layer\n",
    "    :param conv_ksize: kernal size 2-D Tuple for the convolutional layer\n",
    "    :param conv_strides: Stride 2-D Tuple for convolution\n",
    "    :param pool_ksize: kernal size 2-D Tuple for pool\n",
    "    :param pool_strides: Stride 2-D Tuple for pool\n",
    "    : return: A tensor that represents convolution and max pooling of x_tensor\n",
    "    \"\"\"\n",
    "    # TODO: Implement Function\n",
    "    weights = tf.Variable(tf.truncated_normal((conv_ksize[0], conv_ksize[1],int(x_tensor.shape[3]),conv_num_outputs)))\n",
    "    bias = tf.Variable(tf.zeros(conv_num_outputs))\n",
    "    \n",
    "    # Create the Model and apply bias terms\n",
    "    conv = tf.nn.conv2d(x_tensor, weights, strides=[1, conv_strides[0], conv_strides[1], 1], padding='SAME')\n",
    "    conv = tf.nn.bias_add(conv, bias)\n",
    "    \n",
    "    # Apply non-linearity\n",
    "    conv = tf.nn.relu(conv)\n",
    "    \n",
    "    # Apply Max-Pooling\n",
    "    conv = tf.nn.max_pool(\n",
    "        conv,\n",
    "        ksize = [1,pool_ksize[0], pool_ksize[1], 1],\n",
    "        strides = [1, pool_strides[0], pool_strides[1], 1],\n",
    "        padding = 'SAME'\n",
    "    )\n",
    "    \n",
    "    # Return finished Model\n",
    "    return conv\n",
    "    \n",
    "\"\"\"\n",
    "DON'T MODIFY ANYTHING IN THIS CELL THAT IS BELOW THIS LINE\n",
    "\"\"\"\n",
    "tests.test_con_pool(conv2d_maxpool)\n"
   ]
  },
  {
   "cell_type": "markdown",
   "metadata": {},
   "source": [
    "### Flatten Layer\n",
    "Implement the `flatten` function to change the dimension of `x_tensor` from a 4-D tensor to a 2-D tensor.  The output should be the shape (*Batch Size*, *Flattened Image Size*). Shortcut option: you can use classes from the [TensorFlow Layers](https://www.tensorflow.org/api_docs/python/tf/layers) or [TensorFlow Layers (contrib)](https://www.tensorflow.org/api_guides/python/contrib.layers) packages for this layer. For more of a challenge, only use other TensorFlow packages."
   ]
  },
  {
   "cell_type": "code",
   "execution_count": 7,
   "metadata": {},
   "outputs": [
    {
     "name": "stdout",
     "output_type": "stream",
     "text": [
      "Tests Passed\n"
     ]
    }
   ],
   "source": [
    "def flatten(x_tensor):\n",
    "    \"\"\"\n",
    "    Flatten x_tensor to (Batch Size, Flattened Image Size)\n",
    "    : x_tensor: A tensor of size (Batch Size, ...), where ... are the image dimensions.\n",
    "    : return: A tensor of size (Batch Size, Flattened Image Size).\n",
    "    \"\"\"\n",
    "    # TODO: Implement Function    \n",
    "    return tf.reshape(x_tensor, [-1, int(x_tensor.shape[1])*int(x_tensor.shape[2])*int(x_tensor.shape[3])])\n",
    "\n",
    "\"\"\"\n",
    "DON'T MODIFY ANYTHING IN THIS CELL THAT IS BELOW THIS LINE\n",
    "\"\"\"\n",
    "tests.test_flatten(flatten)"
   ]
  },
  {
   "cell_type": "markdown",
   "metadata": {},
   "source": [
    "### Fully-Connected Layer\n",
    "Implement the `fully_conn` function to apply a fully connected layer to `x_tensor` with the shape (*Batch Size*, *num_outputs*). Shortcut option: you can use classes from the [TensorFlow Layers](https://www.tensorflow.org/api_docs/python/tf/layers) or [TensorFlow Layers (contrib)](https://www.tensorflow.org/api_guides/python/contrib.layers) packages for this layer. For more of a challenge, only use other TensorFlow packages."
   ]
  },
  {
   "cell_type": "code",
   "execution_count": 8,
   "metadata": {},
   "outputs": [
    {
     "name": "stdout",
     "output_type": "stream",
     "text": [
      "Tests Passed\n"
     ]
    }
   ],
   "source": [
    "def fully_conn(x_tensor, num_outputs):\n",
    "    \"\"\"\n",
    "    Apply a fully connected layer to x_tensor using weight and bias\n",
    "    : x_tensor: A 2-D tensor where the first dimension is batch size.\n",
    "    : num_outputs: The number of output that the new tensor should be.\n",
    "    : return: A 2-D tensor where the second dimension is num_outputs.\n",
    "    \"\"\"\n",
    "    # TODO: Implement Function\n",
    "    # Set initial weights and bias\n",
    "    weights = tf.Variable(tf.truncated_normal([int(x_tensor.shape[1]), num_outputs], stddev=0.05))\n",
    "    bias = tf.Variable(tf.truncated_normal([num_outputs], stddev=0.5))\n",
    "    \n",
    "    # Create Model\n",
    "    model = tf.add(tf.matmul(x_tensor, weights), bias)\n",
    "    \n",
    "    # Return the Model\n",
    "    return tf.nn.relu(model)\n",
    "\n",
    "\n",
    "\"\"\"\n",
    "DON'T MODIFY ANYTHING IN THIS CELL THAT IS BELOW THIS LINE\n",
    "\"\"\"\n",
    "tests.test_fully_conn(fully_conn)"
   ]
  },
  {
   "cell_type": "markdown",
   "metadata": {},
   "source": [
    "### Output Layer\n",
    "Implement the `output` function to apply a fully connected layer to `x_tensor` with the shape (*Batch Size*, *num_outputs*). Shortcut option: you can use classes from the [TensorFlow Layers](https://www.tensorflow.org/api_docs/python/tf/layers) or [TensorFlow Layers (contrib)](https://www.tensorflow.org/api_guides/python/contrib.layers) packages for this layer. For more of a challenge, only use other TensorFlow packages.\n",
    "\n",
    "**Note:** Activation, softmax, or cross entropy should **not** be applied to this."
   ]
  },
  {
   "cell_type": "code",
   "execution_count": 9,
   "metadata": {},
   "outputs": [
    {
     "name": "stdout",
     "output_type": "stream",
     "text": [
      "Tests Passed\n"
     ]
    }
   ],
   "source": [
    "def output(x_tensor, num_outputs):\n",
    "    \"\"\"\n",
    "    Apply a output layer to x_tensor using weight and bias\n",
    "    : x_tensor: A 2-D tensor where the first dimension is batch size.\n",
    "    : num_outputs: The number of output that the new tensor should be.\n",
    "    : return: A 2-D tensor where the second dimension is num_outputs.\n",
    "    \"\"\"\n",
    "    # TODO: Implement Function\n",
    "    weights = tf.Variable(tf.truncated_normal([int(x_tensor.shape[1]), num_outputs]))\n",
    "    bias = tf.Variable(tf.zeros(num_outputs))\n",
    "    \n",
    "    # Apply the fully connected output layer\n",
    "    return tf.add(tf.matmul(x_tensor, weights), bias)\n",
    "    \n",
    "    \n",
    "\n",
    "\n",
    "\"\"\"\n",
    "DON'T MODIFY ANYTHING IN THIS CELL THAT IS BELOW THIS LINE\n",
    "\"\"\"\n",
    "tests.test_output(output)"
   ]
  },
  {
   "cell_type": "markdown",
   "metadata": {},
   "source": [
    "### Create Convolutional Model\n",
    "Implement the function `conv_net` to create a convolutional neural network model. The function takes in a batch of images, `x`, and outputs logits.  Use the layers you created above to create this model:\n",
    "\n",
    "* Apply 1, 2, or 3 Convolution and Max Pool layers\n",
    "* Apply a Flatten Layer\n",
    "* Apply 1, 2, or 3 Fully Connected Layers\n",
    "* Apply an Output Layer\n",
    "* Return the output\n",
    "* Apply [TensorFlow's Dropout](https://www.tensorflow.org/api_docs/python/tf/nn/dropout) to one or more layers in the model using `keep_prob`. "
   ]
  },
  {
   "cell_type": "code",
   "execution_count": 21,
   "metadata": {},
   "outputs": [
    {
     "name": "stdout",
     "output_type": "stream",
     "text": [
      "Neural Network Built!\n"
     ]
    }
   ],
   "source": [
    "def conv_net(x, keep_prob):\n",
    "    \"\"\"\n",
    "    Create a convolutional neural network model\n",
    "    : x: Placeholder tensor that holds image data.\n",
    "    : keep_prob: Placeholder tensor that hold dropout keep probability.\n",
    "    : return: Tensor that represents logits\n",
    "    \"\"\"\n",
    "    # TODO: Apply 1, 2, or 3 Convolution and Max Pool layers\n",
    "    #    Play around with different number of outputs, kernel size and stride\n",
    "    # Function Definition from Above:\n",
    "    #    conv2d_maxpool(x_tensor, conv_num_outputs, conv_ksize, conv_strides, pool_ksize, pool_strides)\n",
    "    conv_layer1 = conv2d_maxpool(x, 12, (5,5), (1,1), (2,2), (2,2))\n",
    "    conv_layer2 = conv2d_maxpool(conv_layer1, 12, (5,5), (1,1), (2,2), (2,2))\n",
    "    conv_layer3 = conv2d_maxpool(conv_layer2, 12, (5,5), (1,1), (2,2), (2,2))\n",
    "\n",
    "    # TODO: Apply a Flatten Layer\n",
    "    # Function Definition from Above:\n",
    "    #   flatten(x_tensor)\n",
    "    model = flatten(conv_layer1)\n",
    "    \n",
    "    # TODO: Apply 1, 2, or 3 Fully Connected Layers\n",
    "    #    Play around with different number of outputs\n",
    "    # Function Definition from Above:\n",
    "    #   fully_conn(x_tensor, num_outputs)\n",
    "    hidden_1 = tf.nn.dropout(fully_conn(model, 512), keep_prob)\n",
    "    hidden_2 = tf.nn.dropout(fully_conn(hidden_1, 256), keep_prob)\n",
    "    hidden_3 = tf.nn.dropout(fully_conn(hidden_2, 128), keep_prob)\n",
    "    \n",
    "    \n",
    "    # TODO: Apply an Output Layer\n",
    "    #    Set this to the number of classes\n",
    "    # Function Definition from Above:\n",
    "    #   output(x_tensor, num_outputs)\n",
    "    model = output(hidden_3, 10)\n",
    "    \n",
    "    # TODO: return output\n",
    "    return model\n",
    "\n",
    "\n",
    "\"\"\"\n",
    "DON'T MODIFY ANYTHING IN THIS CELL THAT IS BELOW THIS LINE\n",
    "\"\"\"\n",
    "\n",
    "##############################\n",
    "## Build the Neural Network ##\n",
    "##############################\n",
    "\n",
    "# Remove previous weights, bias, inputs, etc..\n",
    "tf.reset_default_graph()\n",
    "\n",
    "# Inputs\n",
    "x = neural_net_image_input((32, 32, 3))\n",
    "y = neural_net_label_input(10)\n",
    "keep_prob = neural_net_keep_prob_input()\n",
    "\n",
    "# Model\n",
    "logits = conv_net(x, keep_prob)\n",
    "\n",
    "# Name logits Tensor, so that is can be loaded from disk after training\n",
    "logits = tf.identity(logits, name='logits')\n",
    "\n",
    "# Loss and Optimizer\n",
    "cost = tf.reduce_mean(tf.nn.softmax_cross_entropy_with_logits(logits=logits, labels=y))\n",
    "optimizer = tf.train.AdamOptimizer().minimize(cost)\n",
    "\n",
    "# Accuracy\n",
    "correct_pred = tf.equal(tf.argmax(logits, 1), tf.argmax(y, 1))\n",
    "accuracy = tf.reduce_mean(tf.cast(correct_pred, tf.float32), name='accuracy')\n",
    "\n",
    "tests.test_conv_net(conv_net)"
   ]
  },
  {
   "cell_type": "markdown",
   "metadata": {},
   "source": [
    "## Train the Neural Network\n",
    "### Single Optimization\n",
    "Implement the function `train_neural_network` to do a single optimization.  The optimization should use `optimizer` to optimize in `session` with a `feed_dict` of the following:\n",
    "* `x` for image input\n",
    "* `y` for labels\n",
    "* `keep_prob` for keep probability for dropout\n",
    "\n",
    "This function will be called for each batch, so `tf.global_variables_initializer()` has already been called.\n",
    "\n",
    "Note: Nothing needs to be returned. This function is only optimizing the neural network."
   ]
  },
  {
   "cell_type": "code",
   "execution_count": 11,
   "metadata": {},
   "outputs": [
    {
     "name": "stdout",
     "output_type": "stream",
     "text": [
      "Tests Passed\n"
     ]
    }
   ],
   "source": [
    "def train_neural_network(session, optimizer, keep_probability, feature_batch, label_batch):\n",
    "    \"\"\"\n",
    "    Optimize the session on a batch of images and labels\n",
    "    : session: Current TensorFlow session\n",
    "    : optimizer: TensorFlow optimizer function\n",
    "    : keep_probability: keep probability\n",
    "    : feature_batch: Batch of Numpy image data\n",
    "    : label_batch: Batch of Numpy label data\n",
    "    \"\"\"\n",
    "    # TODO: Implement Function\n",
    "    session.run(optimizer, feed_dict={\n",
    "        x: feature_batch,\n",
    "        y: label_batch,\n",
    "        keep_prob: keep_probability\n",
    "    })\n",
    "\n",
    "\n",
    "\"\"\"\n",
    "DON'T MODIFY ANYTHING IN THIS CELL THAT IS BELOW THIS LINE\n",
    "\"\"\"\n",
    "tests.test_train_nn(train_neural_network)"
   ]
  },
  {
   "cell_type": "markdown",
   "metadata": {},
   "source": [
    "### Show Stats\n",
    "Implement the function `print_stats` to print loss and validation accuracy.  Use the global variables `valid_features` and `valid_labels` to calculate validation accuracy.  Use a keep probability of `1.0` to calculate the loss and validation accuracy."
   ]
  },
  {
   "cell_type": "code",
   "execution_count": 12,
   "metadata": {
    "collapsed": true
   },
   "outputs": [],
   "source": [
    "def print_stats(session, feature_batch, label_batch, cost, accuracy):\n",
    "    \"\"\"\n",
    "    Print information about loss and validation accuracy\n",
    "    : session: Current TensorFlow session\n",
    "    : feature_batch: Batch of Numpy image data\n",
    "    : label_batch: Batch of Numpy label data\n",
    "    : cost: TensorFlow cost function\n",
    "    : accuracy: TensorFlow accuracy function\n",
    "    \"\"\"\n",
    "    # TODO: Implement Function\n",
    "    loss = session.run(cost, feed_dict={\n",
    "        x: feature_batch,\n",
    "        y: label_batch,\n",
    "        keep_prob: 1.0\n",
    "    })\n",
    "    \n",
    "    val_acc = sess.run(accuracy, feed_dict={\n",
    "        x: valid_features, \n",
    "        y: valid_labels,\n",
    "        keep_prob: 1.0\n",
    "    })\n",
    "    \n",
    "    print(' Loss: ', loss, ' Acc: ', val_acc)\n",
    "    "
   ]
  },
  {
   "cell_type": "markdown",
   "metadata": {},
   "source": [
    "### Hyperparameters\n",
    "Tune the following parameters:\n",
    "* Set `epochs` to the number of iterations until the network stops learning or start overfitting\n",
    "* Set `batch_size` to the highest number that your machine has memory for.  Most people set them to common sizes of memory:\n",
    " * 64\n",
    " * 128\n",
    " * 256\n",
    " * ...\n",
    "* Set `keep_probability` to the probability of keeping a node using dropout"
   ]
  },
  {
   "cell_type": "code",
   "execution_count": 22,
   "metadata": {
    "collapsed": true
   },
   "outputs": [],
   "source": [
    "# TODO: Tune Parameters\n",
    "epochs = 60\n",
    "batch_size = 550\n",
    "keep_probability = 0.75"
   ]
  },
  {
   "cell_type": "markdown",
   "metadata": {},
   "source": [
    "### Train on a Single CIFAR-10 Batch\n",
    "Instead of training the neural network on all the CIFAR-10 batches of data, let's use a single batch. This should save time while you iterate on the model to get a better accuracy.  Once the final validation accuracy is 50% or greater, run the model on all the data in the next section."
   ]
  },
  {
   "cell_type": "code",
   "execution_count": 23,
   "metadata": {},
   "outputs": [
    {
     "name": "stdout",
     "output_type": "stream",
     "text": [
      "Checking the Training on a Single Batch...\n",
      "Epoch  1, CIFAR-10 Batch 1:   Loss:  2.35272  Acc:  0.117\n",
      "Epoch  2, CIFAR-10 Batch 1:   Loss:  2.28438  Acc:  0.1382\n",
      "Epoch  3, CIFAR-10 Batch 1:   Loss:  2.2962  Acc:  0.134\n",
      "Epoch  4, CIFAR-10 Batch 1:   Loss:  2.2537  Acc:  0.1562\n",
      "Epoch  5, CIFAR-10 Batch 1:   Loss:  2.21328  Acc:  0.172\n",
      "Epoch  6, CIFAR-10 Batch 1:   Loss:  2.13244  Acc:  0.225\n",
      "Epoch  7, CIFAR-10 Batch 1:   Loss:  2.09474  Acc:  0.2544\n",
      "Epoch  8, CIFAR-10 Batch 1:   Loss:  2.03739  Acc:  0.27\n",
      "Epoch  9, CIFAR-10 Batch 1:   Loss:  1.95967  Acc:  0.2996\n",
      "Epoch 10, CIFAR-10 Batch 1:   Loss:  1.91052  Acc:  0.3126\n",
      "Epoch 11, CIFAR-10 Batch 1:   Loss:  1.84565  Acc:  0.3438\n",
      "Epoch 12, CIFAR-10 Batch 1:   Loss:  1.77821  Acc:  0.3542\n",
      "Epoch 13, CIFAR-10 Batch 1:   Loss:  1.68723  Acc:  0.3752\n",
      "Epoch 14, CIFAR-10 Batch 1:   Loss:  1.64992  Acc:  0.384\n",
      "Epoch 15, CIFAR-10 Batch 1:   Loss:  1.59063  Acc:  0.3902\n",
      "Epoch 16, CIFAR-10 Batch 1:   Loss:  1.50098  Acc:  0.3938\n",
      "Epoch 17, CIFAR-10 Batch 1:   Loss:  1.457  Acc:  0.4112\n",
      "Epoch 18, CIFAR-10 Batch 1:   Loss:  1.44915  Acc:  0.4066\n",
      "Epoch 19, CIFAR-10 Batch 1:   Loss:  1.36682  Acc:  0.412\n",
      "Epoch 20, CIFAR-10 Batch 1:   Loss:  1.30819  Acc:  0.4356\n",
      "Epoch 21, CIFAR-10 Batch 1:   Loss:  1.24047  Acc:  0.4334\n",
      "Epoch 22, CIFAR-10 Batch 1:   Loss:  1.19105  Acc:  0.4348\n",
      "Epoch 23, CIFAR-10 Batch 1:   Loss:  1.10712  Acc:  0.4412\n",
      "Epoch 24, CIFAR-10 Batch 1:   Loss:  1.05768  Acc:  0.441\n",
      "Epoch 25, CIFAR-10 Batch 1:   Loss:  1.02341  Acc:  0.445\n",
      "Epoch 26, CIFAR-10 Batch 1:   Loss:  0.98882  Acc:  0.4446\n",
      "Epoch 27, CIFAR-10 Batch 1:   Loss:  0.895994  Acc:  0.4636\n",
      "Epoch 28, CIFAR-10 Batch 1:   Loss:  0.864538  Acc:  0.456\n",
      "Epoch 29, CIFAR-10 Batch 1:   Loss:  0.842732  Acc:  0.4502\n",
      "Epoch 30, CIFAR-10 Batch 1:   Loss:  0.768731  Acc:  0.466\n",
      "Epoch 31, CIFAR-10 Batch 1:   Loss:  0.731107  Acc:  0.462\n",
      "Epoch 32, CIFAR-10 Batch 1:   Loss:  0.675754  Acc:  0.4628\n",
      "Epoch 33, CIFAR-10 Batch 1:   Loss:  0.65764  Acc:  0.4756\n",
      "Epoch 34, CIFAR-10 Batch 1:   Loss:  0.621503  Acc:  0.4574\n",
      "Epoch 35, CIFAR-10 Batch 1:   Loss:  0.579692  Acc:  0.464\n",
      "Epoch 36, CIFAR-10 Batch 1:   Loss:  0.547194  Acc:  0.468\n",
      "Epoch 37, CIFAR-10 Batch 1:   Loss:  0.524791  Acc:  0.4692\n",
      "Epoch 38, CIFAR-10 Batch 1:   Loss:  0.489191  Acc:  0.4752\n",
      "Epoch 39, CIFAR-10 Batch 1:   Loss:  0.447332  Acc:  0.4804\n",
      "Epoch 40, CIFAR-10 Batch 1:   Loss:  0.398623  Acc:  0.481\n",
      "Epoch 41, CIFAR-10 Batch 1:   Loss:  0.420642  Acc:  0.4688\n",
      "Epoch 42, CIFAR-10 Batch 1:   Loss:  0.391156  Acc:  0.4786\n",
      "Epoch 43, CIFAR-10 Batch 1:   Loss:  0.358275  Acc:  0.4832\n",
      "Epoch 44, CIFAR-10 Batch 1:   Loss:  0.325732  Acc:  0.4808\n",
      "Epoch 45, CIFAR-10 Batch 1:   Loss:  0.281844  Acc:  0.4822\n",
      "Epoch 46, CIFAR-10 Batch 1:   Loss:  0.285303  Acc:  0.4734\n",
      "Epoch 47, CIFAR-10 Batch 1:   Loss:  0.298317  Acc:  0.4856\n",
      "Epoch 48, CIFAR-10 Batch 1:   Loss:  0.247969  Acc:  0.4846\n",
      "Epoch 49, CIFAR-10 Batch 1:   Loss:  0.253624  Acc:  0.4802\n",
      "Epoch 50, CIFAR-10 Batch 1:   Loss:  0.261074  Acc:  0.4806\n",
      "Epoch 51, CIFAR-10 Batch 1:   Loss:  0.232484  Acc:  0.4802\n",
      "Epoch 52, CIFAR-10 Batch 1:   Loss:  0.237217  Acc:  0.4822\n",
      "Epoch 53, CIFAR-10 Batch 1:   Loss:  0.238499  Acc:  0.485\n",
      "Epoch 54, CIFAR-10 Batch 1:   Loss:  0.226151  Acc:  0.4818\n",
      "Epoch 55, CIFAR-10 Batch 1:   Loss:  0.198348  Acc:  0.483\n",
      "Epoch 56, CIFAR-10 Batch 1:   Loss:  0.174505  Acc:  0.4868\n",
      "Epoch 57, CIFAR-10 Batch 1:   Loss:  0.163858  Acc:  0.4752\n",
      "Epoch 58, CIFAR-10 Batch 1:   Loss:  0.18091  Acc:  0.4802\n",
      "Epoch 59, CIFAR-10 Batch 1:   Loss:  0.153092  Acc:  0.4798\n",
      "Epoch 60, CIFAR-10 Batch 1:   Loss:  0.139397  Acc:  0.4816\n"
     ]
    }
   ],
   "source": [
    "\"\"\"\n",
    "DON'T MODIFY ANYTHING IN THIS CELL\n",
    "\"\"\"\n",
    "print('Checking the Training on a Single Batch...')\n",
    "with tf.Session() as sess:\n",
    "    # Initializing the variables\n",
    "    sess.run(tf.global_variables_initializer())\n",
    "    \n",
    "    # Training cycle\n",
    "    for epoch in range(epochs):\n",
    "        batch_i = 1\n",
    "        for batch_features, batch_labels in helper.load_preprocess_training_batch(batch_i, batch_size):\n",
    "            train_neural_network(sess, optimizer, keep_probability, batch_features, batch_labels)\n",
    "        print('Epoch {:>2}, CIFAR-10 Batch {}:  '.format(epoch + 1, batch_i), end='')\n",
    "        print_stats(sess, batch_features, batch_labels, cost, accuracy)"
   ]
  },
  {
   "cell_type": "markdown",
   "metadata": {},
   "source": [
    "### Fully Train the Model\n",
    "Now that you got a good accuracy with a single CIFAR-10 batch, try it with all five batches."
   ]
  },
  {
   "cell_type": "code",
   "execution_count": 24,
   "metadata": {},
   "outputs": [
    {
     "name": "stdout",
     "output_type": "stream",
     "text": [
      "Training...\n",
      "Epoch  1, CIFAR-10 Batch 1:   Loss:  2.93446  Acc:  0.1194\n",
      "Epoch  1, CIFAR-10 Batch 2:   Loss:  2.29919  Acc:  0.1416\n",
      "Epoch  1, CIFAR-10 Batch 3:   Loss:  2.23981  Acc:  0.143\n",
      "Epoch  1, CIFAR-10 Batch 4:   Loss:  2.21491  Acc:  0.1542\n",
      "Epoch  1, CIFAR-10 Batch 5:   Loss:  2.21481  Acc:  0.1608\n",
      "Epoch  2, CIFAR-10 Batch 1:   Loss:  2.21801  Acc:  0.1876\n",
      "Epoch  2, CIFAR-10 Batch 2:   Loss:  2.17568  Acc:  0.1828\n",
      "Epoch  2, CIFAR-10 Batch 3:   Loss:  2.1268  Acc:  0.203\n",
      "Epoch  2, CIFAR-10 Batch 4:   Loss:  2.07905  Acc:  0.1922\n",
      "Epoch  2, CIFAR-10 Batch 5:   Loss:  2.09645  Acc:  0.2142\n",
      "Epoch  3, CIFAR-10 Batch 1:   Loss:  2.1038  Acc:  0.2376\n",
      "Epoch  3, CIFAR-10 Batch 2:   Loss:  2.02682  Acc:  0.2466\n",
      "Epoch  3, CIFAR-10 Batch 3:   Loss:  1.89521  Acc:  0.2676\n",
      "Epoch  3, CIFAR-10 Batch 4:   Loss:  1.87875  Acc:  0.2676\n",
      "Epoch  3, CIFAR-10 Batch 5:   Loss:  1.93171  Acc:  0.2894\n",
      "Epoch  4, CIFAR-10 Batch 1:   Loss:  1.97475  Acc:  0.3116\n",
      "Epoch  4, CIFAR-10 Batch 2:   Loss:  1.8801  Acc:  0.3094\n",
      "Epoch  4, CIFAR-10 Batch 3:   Loss:  1.72272  Acc:  0.3148\n",
      "Epoch  4, CIFAR-10 Batch 4:   Loss:  1.79544  Acc:  0.3198\n",
      "Epoch  4, CIFAR-10 Batch 5:   Loss:  1.80877  Acc:  0.3362\n",
      "Epoch  5, CIFAR-10 Batch 1:   Loss:  1.88046  Acc:  0.3448\n",
      "Epoch  5, CIFAR-10 Batch 2:   Loss:  1.8081  Acc:  0.3334\n",
      "Epoch  5, CIFAR-10 Batch 3:   Loss:  1.61867  Acc:  0.3606\n",
      "Epoch  5, CIFAR-10 Batch 4:   Loss:  1.68761  Acc:  0.3656\n",
      "Epoch  5, CIFAR-10 Batch 5:   Loss:  1.73989  Acc:  0.346\n",
      "Epoch  6, CIFAR-10 Batch 1:   Loss:  1.81612  Acc:  0.3668\n",
      "Epoch  6, CIFAR-10 Batch 2:   Loss:  1.77752  Acc:  0.3528\n",
      "Epoch  6, CIFAR-10 Batch 3:   Loss:  1.67655  Acc:  0.358\n",
      "Epoch  6, CIFAR-10 Batch 4:   Loss:  1.62594  Acc:  0.3672\n",
      "Epoch  6, CIFAR-10 Batch 5:   Loss:  1.71916  Acc:  0.385\n",
      "Epoch  7, CIFAR-10 Batch 1:   Loss:  1.80905  Acc:  0.3652\n",
      "Epoch  7, CIFAR-10 Batch 2:   Loss:  1.73256  Acc:  0.371\n",
      "Epoch  7, CIFAR-10 Batch 3:   Loss:  1.49121  Acc:  0.3934\n",
      "Epoch  7, CIFAR-10 Batch 4:   Loss:  1.56614  Acc:  0.3864\n",
      "Epoch  7, CIFAR-10 Batch 5:   Loss:  1.66562  Acc:  0.3722\n",
      "Epoch  8, CIFAR-10 Batch 1:   Loss:  1.76055  Acc:  0.3914\n",
      "Epoch  8, CIFAR-10 Batch 2:   Loss:  1.69431  Acc:  0.3696\n",
      "Epoch  8, CIFAR-10 Batch 3:   Loss:  1.54587  Acc:  0.3866\n",
      "Epoch  8, CIFAR-10 Batch 4:   Loss:  1.57878  Acc:  0.3766\n",
      "Epoch  8, CIFAR-10 Batch 5:   Loss:  1.62342  Acc:  0.405\n",
      "Epoch  9, CIFAR-10 Batch 1:   Loss:  1.69418  Acc:  0.4016\n",
      "Epoch  9, CIFAR-10 Batch 2:   Loss:  1.6855  Acc:  0.397\n",
      "Epoch  9, CIFAR-10 Batch 3:   Loss:  1.44536  Acc:  0.4016\n",
      "Epoch  9, CIFAR-10 Batch 4:   Loss:  1.51052  Acc:  0.4038\n",
      "Epoch  9, CIFAR-10 Batch 5:   Loss:  1.55046  Acc:  0.4104\n",
      "Epoch 10, CIFAR-10 Batch 1:   Loss:  1.65108  Acc:  0.402\n",
      "Epoch 10, CIFAR-10 Batch 2:   Loss:  1.60983  Acc:  0.4194\n",
      "Epoch 10, CIFAR-10 Batch 3:   Loss:  1.42278  Acc:  0.4256\n",
      "Epoch 10, CIFAR-10 Batch 4:   Loss:  1.4843  Acc:  0.401\n",
      "Epoch 10, CIFAR-10 Batch 5:   Loss:  1.61406  Acc:  0.4028\n",
      "Epoch 11, CIFAR-10 Batch 1:   Loss:  1.58516  Acc:  0.4148\n",
      "Epoch 11, CIFAR-10 Batch 2:   Loss:  1.55891  Acc:  0.4252\n",
      "Epoch 11, CIFAR-10 Batch 3:   Loss:  1.3619  Acc:  0.4368\n",
      "Epoch 11, CIFAR-10 Batch 4:   Loss:  1.41291  Acc:  0.4206\n",
      "Epoch 11, CIFAR-10 Batch 5:   Loss:  1.47585  Acc:  0.4292\n",
      "Epoch 12, CIFAR-10 Batch 1:   Loss:  1.60476  Acc:  0.4226\n",
      "Epoch 12, CIFAR-10 Batch 2:   Loss:  1.57522  Acc:  0.4302\n",
      "Epoch 12, CIFAR-10 Batch 3:   Loss:  1.31477  Acc:  0.4346\n",
      "Epoch 12, CIFAR-10 Batch 4:   Loss:  1.45364  Acc:  0.4322\n",
      "Epoch 12, CIFAR-10 Batch 5:   Loss:  1.492  Acc:  0.4362\n",
      "Epoch 13, CIFAR-10 Batch 1:   Loss:  1.59307  Acc:  0.4242\n",
      "Epoch 13, CIFAR-10 Batch 2:   Loss:  1.52051  Acc:  0.4338\n",
      "Epoch 13, CIFAR-10 Batch 3:   Loss:  1.29903  Acc:  0.4476\n",
      "Epoch 13, CIFAR-10 Batch 4:   Loss:  1.40928  Acc:  0.4328\n",
      "Epoch 13, CIFAR-10 Batch 5:   Loss:  1.48055  Acc:  0.4472\n",
      "Epoch 14, CIFAR-10 Batch 1:   Loss:  1.56931  Acc:  0.436\n",
      "Epoch 14, CIFAR-10 Batch 2:   Loss:  1.55379  Acc:  0.4218\n",
      "Epoch 14, CIFAR-10 Batch 3:   Loss:  1.32243  Acc:  0.4164\n",
      "Epoch 14, CIFAR-10 Batch 4:   Loss:  1.40197  Acc:  0.428\n",
      "Epoch 14, CIFAR-10 Batch 5:   Loss:  1.45572  Acc:  0.4432\n",
      "Epoch 15, CIFAR-10 Batch 1:   Loss:  1.53861  Acc:  0.4366\n",
      "Epoch 15, CIFAR-10 Batch 2:   Loss:  1.41136  Acc:  0.457\n",
      "Epoch 15, CIFAR-10 Batch 3:   Loss:  1.31599  Acc:  0.4412\n",
      "Epoch 15, CIFAR-10 Batch 4:   Loss:  1.39494  Acc:  0.4232\n",
      "Epoch 15, CIFAR-10 Batch 5:   Loss:  1.44621  Acc:  0.4574\n",
      "Epoch 16, CIFAR-10 Batch 1:   Loss:  1.51818  Acc:  0.4442\n",
      "Epoch 16, CIFAR-10 Batch 2:   Loss:  1.41846  Acc:  0.4546\n",
      "Epoch 16, CIFAR-10 Batch 3:   Loss:  1.25271  Acc:  0.4582\n",
      "Epoch 16, CIFAR-10 Batch 4:   Loss:  1.36207  Acc:  0.448\n",
      "Epoch 16, CIFAR-10 Batch 5:   Loss:  1.39295  Acc:  0.4644\n",
      "Epoch 17, CIFAR-10 Batch 1:   Loss:  1.47885  Acc:  0.4608\n",
      "Epoch 17, CIFAR-10 Batch 2:   Loss:  1.3953  Acc:  0.4648\n",
      "Epoch 17, CIFAR-10 Batch 3:   Loss:  1.20461  Acc:  0.4756\n",
      "Epoch 17, CIFAR-10 Batch 4:   Loss:  1.30611  Acc:  0.4644\n",
      "Epoch 17, CIFAR-10 Batch 5:   Loss:  1.35912  Acc:  0.478\n",
      "Epoch 18, CIFAR-10 Batch 1:   Loss:  1.49232  Acc:  0.4634\n",
      "Epoch 18, CIFAR-10 Batch 2:   Loss:  1.36079  Acc:  0.4686\n",
      "Epoch 18, CIFAR-10 Batch 3:   Loss:  1.20456  Acc:  0.4634\n",
      "Epoch 18, CIFAR-10 Batch 4:   Loss:  1.34258  Acc:  0.4674\n",
      "Epoch 18, CIFAR-10 Batch 5:   Loss:  1.37887  Acc:  0.4656\n",
      "Epoch 19, CIFAR-10 Batch 1:   Loss:  1.44322  Acc:  0.4784\n",
      "Epoch 19, CIFAR-10 Batch 2:   Loss:  1.33828  Acc:  0.4748\n",
      "Epoch 19, CIFAR-10 Batch 3:   Loss:  1.17463  Acc:  0.4696\n",
      "Epoch 19, CIFAR-10 Batch 4:   Loss:  1.28266  Acc:  0.4714\n",
      "Epoch 19, CIFAR-10 Batch 5:   Loss:  1.33401  Acc:  0.4788\n",
      "Epoch 20, CIFAR-10 Batch 1:   Loss:  1.47548  Acc:  0.4772\n",
      "Epoch 20, CIFAR-10 Batch 2:   Loss:  1.28863  Acc:  0.4798\n",
      "Epoch 20, CIFAR-10 Batch 3:   Loss:  1.1422  Acc:  0.479\n",
      "Epoch 20, CIFAR-10 Batch 4:   Loss:  1.28673  Acc:  0.4768\n",
      "Epoch 20, CIFAR-10 Batch 5:   Loss:  1.30392  Acc:  0.4844\n",
      "Epoch 21, CIFAR-10 Batch 1:   Loss:  1.41624  Acc:  0.4836\n",
      "Epoch 21, CIFAR-10 Batch 2:   Loss:  1.27577  Acc:  0.4754\n",
      "Epoch 21, CIFAR-10 Batch 3:   Loss:  1.18475  Acc:  0.4804\n",
      "Epoch 21, CIFAR-10 Batch 4:   Loss:  1.23944  Acc:  0.4908\n",
      "Epoch 21, CIFAR-10 Batch 5:   Loss:  1.27387  Acc:  0.4884\n",
      "Epoch 22, CIFAR-10 Batch 1:   Loss:  1.41275  Acc:  0.476\n",
      "Epoch 22, CIFAR-10 Batch 2:   Loss:  1.24888  Acc:  0.491\n",
      "Epoch 22, CIFAR-10 Batch 3:   Loss:  1.10439  Acc:  0.4926\n",
      "Epoch 22, CIFAR-10 Batch 4:   Loss:  1.20831  Acc:  0.4834\n",
      "Epoch 22, CIFAR-10 Batch 5:   Loss:  1.24755  Acc:  0.4874\n",
      "Epoch 23, CIFAR-10 Batch 1:   Loss:  1.404  Acc:  0.4964\n",
      "Epoch 23, CIFAR-10 Batch 2:   Loss:  1.2592  Acc:  0.4894\n",
      "Epoch 23, CIFAR-10 Batch 3:   Loss:  1.13899  Acc:  0.495\n",
      "Epoch 23, CIFAR-10 Batch 4:   Loss:  1.20973  Acc:  0.4916\n",
      "Epoch 23, CIFAR-10 Batch 5:   Loss:  1.23383  Acc:  0.4892\n",
      "Epoch 24, CIFAR-10 Batch 1:   Loss:  1.36613  Acc:  0.4854\n",
      "Epoch 24, CIFAR-10 Batch 2:   Loss:  1.22112  Acc:  0.5022\n",
      "Epoch 24, CIFAR-10 Batch 3:   Loss:  1.08908  Acc:  0.4994\n",
      "Epoch 24, CIFAR-10 Batch 4:   Loss:  1.21546  Acc:  0.4946\n",
      "Epoch 24, CIFAR-10 Batch 5:   Loss:  1.19798  Acc:  0.492\n",
      "Epoch 25, CIFAR-10 Batch 1:   Loss:  1.33203  Acc:  0.4978\n",
      "Epoch 25, CIFAR-10 Batch 2:   Loss:  1.22566  Acc:  0.5066\n",
      "Epoch 25, CIFAR-10 Batch 3:   Loss:  1.06703  Acc:  0.5044\n",
      "Epoch 25, CIFAR-10 Batch 4:   Loss:  1.19697  Acc:  0.492\n",
      "Epoch 25, CIFAR-10 Batch 5:   Loss:  1.17082  Acc:  0.4936\n",
      "Epoch 26, CIFAR-10 Batch 1:   Loss:  1.31481  Acc:  0.505\n",
      "Epoch 26, CIFAR-10 Batch 2:   Loss:  1.18887  Acc:  0.505\n",
      "Epoch 26, CIFAR-10 Batch 3:   Loss:  1.04009  Acc:  0.5154\n",
      "Epoch 26, CIFAR-10 Batch 4:   Loss:  1.16449  Acc:  0.502\n",
      "Epoch 26, CIFAR-10 Batch 5:   Loss:  1.15988  Acc:  0.5066\n",
      "Epoch 27, CIFAR-10 Batch 1:   Loss:  1.25654  Acc:  0.512\n",
      "Epoch 27, CIFAR-10 Batch 2:   Loss:  1.17648  Acc:  0.5046\n",
      "Epoch 27, CIFAR-10 Batch 3:   Loss:  1.04764  Acc:  0.5174\n",
      "Epoch 27, CIFAR-10 Batch 4:   Loss:  1.14703  Acc:  0.4972\n",
      "Epoch 27, CIFAR-10 Batch 5:   Loss:  1.16112  Acc:  0.4994\n",
      "Epoch 28, CIFAR-10 Batch 1:   Loss:  1.29663  Acc:  0.4904\n",
      "Epoch 28, CIFAR-10 Batch 2:   Loss:  1.17857  Acc:  0.5074\n",
      "Epoch 28, CIFAR-10 Batch 3:   Loss:  1.00689  Acc:  0.5056\n",
      "Epoch 28, CIFAR-10 Batch 4:   Loss:  1.15533  Acc:  0.5004\n"
     ]
    },
    {
     "name": "stdout",
     "output_type": "stream",
     "text": [
      "Epoch 28, CIFAR-10 Batch 5:   Loss:  1.11346  Acc:  0.5148\n",
      "Epoch 29, CIFAR-10 Batch 1:   Loss:  1.24565  Acc:  0.51\n",
      "Epoch 29, CIFAR-10 Batch 2:   Loss:  1.12838  Acc:  0.5136\n",
      "Epoch 29, CIFAR-10 Batch 3:   Loss:  1.02886  Acc:  0.502\n",
      "Epoch 29, CIFAR-10 Batch 4:   Loss:  1.11844  Acc:  0.5094\n",
      "Epoch 29, CIFAR-10 Batch 5:   Loss:  1.10092  Acc:  0.518\n",
      "Epoch 30, CIFAR-10 Batch 1:   Loss:  1.23029  Acc:  0.5104\n",
      "Epoch 30, CIFAR-10 Batch 2:   Loss:  1.11185  Acc:  0.5156\n",
      "Epoch 30, CIFAR-10 Batch 3:   Loss:  1.0172  Acc:  0.5128\n",
      "Epoch 30, CIFAR-10 Batch 4:   Loss:  1.08095  Acc:  0.5152\n",
      "Epoch 30, CIFAR-10 Batch 5:   Loss:  1.06857  Acc:  0.5222\n",
      "Epoch 31, CIFAR-10 Batch 1:   Loss:  1.26876  Acc:  0.4998\n",
      "Epoch 31, CIFAR-10 Batch 2:   Loss:  1.10386  Acc:  0.5186\n",
      "Epoch 31, CIFAR-10 Batch 3:   Loss:  0.983827  Acc:  0.5232\n",
      "Epoch 31, CIFAR-10 Batch 4:   Loss:  1.09269  Acc:  0.5108\n",
      "Epoch 31, CIFAR-10 Batch 5:   Loss:  1.07978  Acc:  0.5192\n",
      "Epoch 32, CIFAR-10 Batch 1:   Loss:  1.22132  Acc:  0.507\n",
      "Epoch 32, CIFAR-10 Batch 2:   Loss:  1.10158  Acc:  0.514\n",
      "Epoch 32, CIFAR-10 Batch 3:   Loss:  0.948757  Acc:  0.5196\n",
      "Epoch 32, CIFAR-10 Batch 4:   Loss:  1.09673  Acc:  0.5128\n",
      "Epoch 32, CIFAR-10 Batch 5:   Loss:  1.03449  Acc:  0.5178\n",
      "Epoch 33, CIFAR-10 Batch 1:   Loss:  1.16965  Acc:  0.5202\n",
      "Epoch 33, CIFAR-10 Batch 2:   Loss:  1.04951  Acc:  0.5184\n",
      "Epoch 33, CIFAR-10 Batch 3:   Loss:  0.938972  Acc:  0.5298\n",
      "Epoch 33, CIFAR-10 Batch 4:   Loss:  1.06642  Acc:  0.5266\n",
      "Epoch 33, CIFAR-10 Batch 5:   Loss:  1.03447  Acc:  0.5138\n",
      "Epoch 34, CIFAR-10 Batch 1:   Loss:  1.17292  Acc:  0.5238\n",
      "Epoch 34, CIFAR-10 Batch 2:   Loss:  1.01082  Acc:  0.5304\n",
      "Epoch 34, CIFAR-10 Batch 3:   Loss:  0.91146  Acc:  0.5426\n",
      "Epoch 34, CIFAR-10 Batch 4:   Loss:  1.02017  Acc:  0.525\n",
      "Epoch 34, CIFAR-10 Batch 5:   Loss:  0.993199  Acc:  0.5232\n",
      "Epoch 35, CIFAR-10 Batch 1:   Loss:  1.14468  Acc:  0.5154\n",
      "Epoch 35, CIFAR-10 Batch 2:   Loss:  1.00669  Acc:  0.534\n",
      "Epoch 35, CIFAR-10 Batch 3:   Loss:  0.905172  Acc:  0.5334\n",
      "Epoch 35, CIFAR-10 Batch 4:   Loss:  1.04366  Acc:  0.5152\n",
      "Epoch 35, CIFAR-10 Batch 5:   Loss:  0.992188  Acc:  0.5174\n",
      "Epoch 36, CIFAR-10 Batch 1:   Loss:  1.11062  Acc:  0.527\n",
      "Epoch 36, CIFAR-10 Batch 2:   Loss:  1.01186  Acc:  0.5192\n",
      "Epoch 36, CIFAR-10 Batch 3:   Loss:  0.908984  Acc:  0.5344\n",
      "Epoch 36, CIFAR-10 Batch 4:   Loss:  0.993705  Acc:  0.5284\n",
      "Epoch 36, CIFAR-10 Batch 5:   Loss:  0.944364  Acc:  0.5254\n",
      "Epoch 37, CIFAR-10 Batch 1:   Loss:  1.08394  Acc:  0.5308\n",
      "Epoch 37, CIFAR-10 Batch 2:   Loss:  1.00152  Acc:  0.5306\n",
      "Epoch 37, CIFAR-10 Batch 3:   Loss:  0.87859  Acc:  0.5402\n",
      "Epoch 37, CIFAR-10 Batch 4:   Loss:  0.992264  Acc:  0.533\n",
      "Epoch 37, CIFAR-10 Batch 5:   Loss:  0.913712  Acc:  0.536\n",
      "Epoch 38, CIFAR-10 Batch 1:   Loss:  1.04259  Acc:  0.5366\n",
      "Epoch 38, CIFAR-10 Batch 2:   Loss:  0.971216  Acc:  0.5392\n",
      "Epoch 38, CIFAR-10 Batch 3:   Loss:  0.89351  Acc:  0.535\n",
      "Epoch 38, CIFAR-10 Batch 4:   Loss:  0.97296  Acc:  0.5326\n",
      "Epoch 38, CIFAR-10 Batch 5:   Loss:  0.909008  Acc:  0.532\n",
      "Epoch 39, CIFAR-10 Batch 1:   Loss:  1.03258  Acc:  0.533\n",
      "Epoch 39, CIFAR-10 Batch 2:   Loss:  0.944966  Acc:  0.535\n",
      "Epoch 39, CIFAR-10 Batch 3:   Loss:  0.882734  Acc:  0.5508\n",
      "Epoch 39, CIFAR-10 Batch 4:   Loss:  0.961563  Acc:  0.5442\n",
      "Epoch 39, CIFAR-10 Batch 5:   Loss:  0.909353  Acc:  0.5442\n",
      "Epoch 40, CIFAR-10 Batch 1:   Loss:  1.03318  Acc:  0.5406\n",
      "Epoch 40, CIFAR-10 Batch 2:   Loss:  0.90394  Acc:  0.544\n",
      "Epoch 40, CIFAR-10 Batch 3:   Loss:  0.878412  Acc:  0.5456\n",
      "Epoch 40, CIFAR-10 Batch 4:   Loss:  0.93163  Acc:  0.545\n",
      "Epoch 40, CIFAR-10 Batch 5:   Loss:  0.869754  Acc:  0.54\n",
      "Epoch 41, CIFAR-10 Batch 1:   Loss:  1.01408  Acc:  0.5362\n",
      "Epoch 41, CIFAR-10 Batch 2:   Loss:  0.921732  Acc:  0.5504\n",
      "Epoch 41, CIFAR-10 Batch 3:   Loss:  0.822442  Acc:  0.5488\n",
      "Epoch 41, CIFAR-10 Batch 4:   Loss:  0.922159  Acc:  0.5432\n",
      "Epoch 41, CIFAR-10 Batch 5:   Loss:  0.855788  Acc:  0.5432\n",
      "Epoch 42, CIFAR-10 Batch 1:   Loss:  0.968943  Acc:  0.5408\n",
      "Epoch 42, CIFAR-10 Batch 2:   Loss:  0.90173  Acc:  0.5406\n",
      "Epoch 42, CIFAR-10 Batch 3:   Loss:  0.807218  Acc:  0.5364\n",
      "Epoch 42, CIFAR-10 Batch 4:   Loss:  0.893573  Acc:  0.5424\n",
      "Epoch 42, CIFAR-10 Batch 5:   Loss:  0.834684  Acc:  0.5426\n",
      "Epoch 43, CIFAR-10 Batch 1:   Loss:  0.959427  Acc:  0.552\n",
      "Epoch 43, CIFAR-10 Batch 2:   Loss:  0.888589  Acc:  0.5378\n",
      "Epoch 43, CIFAR-10 Batch 3:   Loss:  0.822933  Acc:  0.5488\n",
      "Epoch 43, CIFAR-10 Batch 4:   Loss:  0.891483  Acc:  0.5392\n",
      "Epoch 43, CIFAR-10 Batch 5:   Loss:  0.796939  Acc:  0.5442\n",
      "Epoch 44, CIFAR-10 Batch 1:   Loss:  0.926487  Acc:  0.5554\n",
      "Epoch 44, CIFAR-10 Batch 2:   Loss:  0.884263  Acc:  0.54\n",
      "Epoch 44, CIFAR-10 Batch 3:   Loss:  0.764215  Acc:  0.5552\n",
      "Epoch 44, CIFAR-10 Batch 4:   Loss:  0.869774  Acc:  0.5414\n",
      "Epoch 44, CIFAR-10 Batch 5:   Loss:  0.816021  Acc:  0.5464\n",
      "Epoch 45, CIFAR-10 Batch 1:   Loss:  0.897736  Acc:  0.559\n",
      "Epoch 45, CIFAR-10 Batch 2:   Loss:  0.841444  Acc:  0.543\n",
      "Epoch 45, CIFAR-10 Batch 3:   Loss:  0.772656  Acc:  0.5594\n",
      "Epoch 45, CIFAR-10 Batch 4:   Loss:  0.823188  Acc:  0.5514\n",
      "Epoch 45, CIFAR-10 Batch 5:   Loss:  0.815121  Acc:  0.5426\n",
      "Epoch 46, CIFAR-10 Batch 1:   Loss:  0.926187  Acc:  0.5592\n",
      "Epoch 46, CIFAR-10 Batch 2:   Loss:  0.837479  Acc:  0.548\n",
      "Epoch 46, CIFAR-10 Batch 3:   Loss:  0.749576  Acc:  0.5552\n",
      "Epoch 46, CIFAR-10 Batch 4:   Loss:  0.817265  Acc:  0.5582\n",
      "Epoch 46, CIFAR-10 Batch 5:   Loss:  0.804128  Acc:  0.5462\n",
      "Epoch 47, CIFAR-10 Batch 1:   Loss:  0.922391  Acc:  0.5436\n",
      "Epoch 47, CIFAR-10 Batch 2:   Loss:  0.804468  Acc:  0.554\n",
      "Epoch 47, CIFAR-10 Batch 3:   Loss:  0.73548  Acc:  0.5556\n",
      "Epoch 47, CIFAR-10 Batch 4:   Loss:  0.805004  Acc:  0.558\n",
      "Epoch 47, CIFAR-10 Batch 5:   Loss:  0.77152  Acc:  0.5564\n",
      "Epoch 48, CIFAR-10 Batch 1:   Loss:  0.877384  Acc:  0.562\n",
      "Epoch 48, CIFAR-10 Batch 2:   Loss:  0.793983  Acc:  0.5516\n",
      "Epoch 48, CIFAR-10 Batch 3:   Loss:  0.691153  Acc:  0.5614\n",
      "Epoch 48, CIFAR-10 Batch 4:   Loss:  0.822551  Acc:  0.553\n",
      "Epoch 48, CIFAR-10 Batch 5:   Loss:  0.763415  Acc:  0.5556\n",
      "Epoch 49, CIFAR-10 Batch 1:   Loss:  0.847682  Acc:  0.5608\n",
      "Epoch 49, CIFAR-10 Batch 2:   Loss:  0.785448  Acc:  0.5472\n",
      "Epoch 49, CIFAR-10 Batch 3:   Loss:  0.693934  Acc:  0.561\n",
      "Epoch 49, CIFAR-10 Batch 4:   Loss:  0.791739  Acc:  0.5514\n",
      "Epoch 49, CIFAR-10 Batch 5:   Loss:  0.773301  Acc:  0.5474\n",
      "Epoch 50, CIFAR-10 Batch 1:   Loss:  0.831953  Acc:  0.5512\n",
      "Epoch 50, CIFAR-10 Batch 2:   Loss:  0.794429  Acc:  0.559\n",
      "Epoch 50, CIFAR-10 Batch 3:   Loss:  0.67144  Acc:  0.5632\n",
      "Epoch 50, CIFAR-10 Batch 4:   Loss:  0.771964  Acc:  0.5502\n",
      "Epoch 50, CIFAR-10 Batch 5:   Loss:  0.707041  Acc:  0.5502\n",
      "Epoch 51, CIFAR-10 Batch 1:   Loss:  0.794817  Acc:  0.56\n",
      "Epoch 51, CIFAR-10 Batch 2:   Loss:  0.784694  Acc:  0.5598\n",
      "Epoch 51, CIFAR-10 Batch 3:   Loss:  0.661088  Acc:  0.5704\n",
      "Epoch 51, CIFAR-10 Batch 4:   Loss:  0.737726  Acc:  0.5672\n",
      "Epoch 51, CIFAR-10 Batch 5:   Loss:  0.747075  Acc:  0.5596\n",
      "Epoch 52, CIFAR-10 Batch 1:   Loss:  0.769842  Acc:  0.568\n",
      "Epoch 52, CIFAR-10 Batch 2:   Loss:  0.740027  Acc:  0.5638\n",
      "Epoch 52, CIFAR-10 Batch 3:   Loss:  0.622765  Acc:  0.5692\n",
      "Epoch 52, CIFAR-10 Batch 4:   Loss:  0.724922  Acc:  0.5652\n",
      "Epoch 52, CIFAR-10 Batch 5:   Loss:  0.698588  Acc:  0.5566\n",
      "Epoch 53, CIFAR-10 Batch 1:   Loss:  0.775563  Acc:  0.5612\n",
      "Epoch 53, CIFAR-10 Batch 2:   Loss:  0.72951  Acc:  0.5614\n",
      "Epoch 53, CIFAR-10 Batch 3:   Loss:  0.643342  Acc:  0.566\n",
      "Epoch 53, CIFAR-10 Batch 4:   Loss:  0.724652  Acc:  0.5532\n",
      "Epoch 53, CIFAR-10 Batch 5:   Loss:  0.69708  Acc:  0.5612\n",
      "Epoch 54, CIFAR-10 Batch 1:   Loss:  0.759281  Acc:  0.5622\n",
      "Epoch 54, CIFAR-10 Batch 2:   Loss:  0.713249  Acc:  0.5568\n",
      "Epoch 54, CIFAR-10 Batch 3:   Loss:  0.62935  Acc:  0.5688\n",
      "Epoch 54, CIFAR-10 Batch 4:   Loss:  0.711822  Acc:  0.5562\n",
      "Epoch 54, CIFAR-10 Batch 5:   Loss:  0.655859  Acc:  0.5616\n",
      "Epoch 55, CIFAR-10 Batch 1:   Loss:  0.761952  Acc:  0.5734\n",
      "Epoch 55, CIFAR-10 Batch 2:   Loss:  0.695301  Acc:  0.5616\n",
      "Epoch 55, CIFAR-10 Batch 3:   Loss:  0.604914  Acc:  0.5748\n",
      "Epoch 55, CIFAR-10 Batch 4:   Loss:  0.688125  Acc:  0.557\n",
      "Epoch 55, CIFAR-10 Batch 5:   Loss:  0.672985  Acc:  0.5634\n",
      "Epoch 56, CIFAR-10 Batch 1:   Loss:  0.707603  Acc:  0.5692\n",
      "Epoch 56, CIFAR-10 Batch 2:   Loss:  0.681307  Acc:  0.5604\n"
     ]
    },
    {
     "name": "stdout",
     "output_type": "stream",
     "text": [
      "Epoch 56, CIFAR-10 Batch 3:   Loss:  0.616233  Acc:  0.5634\n",
      "Epoch 56, CIFAR-10 Batch 4:   Loss:  0.711236  Acc:  0.5582\n",
      "Epoch 56, CIFAR-10 Batch 5:   Loss:  0.669435  Acc:  0.5604\n",
      "Epoch 57, CIFAR-10 Batch 1:   Loss:  0.714864  Acc:  0.5762\n",
      "Epoch 57, CIFAR-10 Batch 2:   Loss:  0.675766  Acc:  0.559\n",
      "Epoch 57, CIFAR-10 Batch 3:   Loss:  0.598047  Acc:  0.5704\n",
      "Epoch 57, CIFAR-10 Batch 4:   Loss:  0.706647  Acc:  0.5514\n",
      "Epoch 57, CIFAR-10 Batch 5:   Loss:  0.613491  Acc:  0.5684\n",
      "Epoch 58, CIFAR-10 Batch 1:   Loss:  0.674057  Acc:  0.5636\n",
      "Epoch 58, CIFAR-10 Batch 2:   Loss:  0.65493  Acc:  0.5688\n",
      "Epoch 58, CIFAR-10 Batch 3:   Loss:  0.5723  Acc:  0.5644\n",
      "Epoch 58, CIFAR-10 Batch 4:   Loss:  0.673636  Acc:  0.5568\n",
      "Epoch 58, CIFAR-10 Batch 5:   Loss:  0.630554  Acc:  0.5624\n",
      "Epoch 59, CIFAR-10 Batch 1:   Loss:  0.688296  Acc:  0.5652\n",
      "Epoch 59, CIFAR-10 Batch 2:   Loss:  0.646199  Acc:  0.562\n",
      "Epoch 59, CIFAR-10 Batch 3:   Loss:  0.591332  Acc:  0.574\n",
      "Epoch 59, CIFAR-10 Batch 4:   Loss:  0.65559  Acc:  0.5708\n",
      "Epoch 59, CIFAR-10 Batch 5:   Loss:  0.597324  Acc:  0.5642\n",
      "Epoch 60, CIFAR-10 Batch 1:   Loss:  0.63424  Acc:  0.579\n",
      "Epoch 60, CIFAR-10 Batch 2:   Loss:  0.592924  Acc:  0.5686\n",
      "Epoch 60, CIFAR-10 Batch 3:   Loss:  0.570822  Acc:  0.5722\n",
      "Epoch 60, CIFAR-10 Batch 4:   Loss:  0.62187  Acc:  0.5742\n",
      "Epoch 60, CIFAR-10 Batch 5:   Loss:  0.577444  Acc:  0.5774\n"
     ]
    }
   ],
   "source": [
    "\"\"\"\n",
    "DON'T MODIFY ANYTHING IN THIS CELL\n",
    "\"\"\"\n",
    "save_model_path = './image_classification'\n",
    "\n",
    "print('Training...')\n",
    "with tf.Session() as sess:\n",
    "    # Initializing the variables\n",
    "    sess.run(tf.global_variables_initializer())\n",
    "    \n",
    "    # Training cycle\n",
    "    for epoch in range(epochs):\n",
    "        # Loop over all batches\n",
    "        n_batches = 5\n",
    "        for batch_i in range(1, n_batches + 1):\n",
    "            for batch_features, batch_labels in helper.load_preprocess_training_batch(batch_i, batch_size):\n",
    "                train_neural_network(sess, optimizer, keep_probability, batch_features, batch_labels)\n",
    "            print('Epoch {:>2}, CIFAR-10 Batch {}:  '.format(epoch + 1, batch_i), end='')\n",
    "            print_stats(sess, batch_features, batch_labels, cost, accuracy)\n",
    "            \n",
    "    # Save Model\n",
    "    saver = tf.train.Saver()\n",
    "    save_path = saver.save(sess, save_model_path)"
   ]
  },
  {
   "cell_type": "markdown",
   "metadata": {},
   "source": [
    "# Checkpoint\n",
    "The model has been saved to disk.\n",
    "## Test Model\n",
    "Test your model against the test dataset.  This will be your final accuracy. You should have an accuracy greater than 50%. If you don't, keep tweaking the model architecture and parameters."
   ]
  },
  {
   "cell_type": "code",
   "execution_count": 25,
   "metadata": {},
   "outputs": [
    {
     "name": "stdout",
     "output_type": "stream",
     "text": [
      "INFO:tensorflow:Restoring parameters from ./image_classification\n",
      "Testing Accuracy: 0.5705263018608093\n",
      "\n"
     ]
    },
    {
     "data": {
      "image/png": "[encoded data removed]",
      "text/plain": [
       "<matplotlib.figure.Figure at 0x22d66b0c1d0>"
      ]
     },
     "metadata": {
      "image/png": {
       "height": 319,
       "width": 355
      }
     },
     "output_type": "display_data"
    }
   ],
   "source": [
    "\"\"\"\n",
    "DON'T MODIFY ANYTHING IN THIS CELL\n",
    "\"\"\"\n",
    "%matplotlib inline\n",
    "%config InlineBackend.figure_format = 'retina'\n",
    "\n",
    "import tensorflow as tf\n",
    "import pickle\n",
    "import helper\n",
    "import random\n",
    "\n",
    "# Set batch size if not already set\n",
    "try:\n",
    "    if batch_size:\n",
    "        pass\n",
    "except NameError:\n",
    "    batch_size = 64\n",
    "\n",
    "save_model_path = './image_classification'\n",
    "n_samples = 4\n",
    "top_n_predictions = 3\n",
    "\n",
    "def test_model():\n",
    "    \"\"\"\n",
    "    Test the saved model against the test dataset\n",
    "    \"\"\"\n",
    "\n",
    "    test_features, test_labels = pickle.load(open('preprocess_test.p', mode='rb'))\n",
    "    loaded_graph = tf.Graph()\n",
    "\n",
    "    with tf.Session(graph=loaded_graph) as sess:\n",
    "        # Load model\n",
    "        loader = tf.train.import_meta_graph(save_model_path + '.meta')\n",
    "        loader.restore(sess, save_model_path)\n",
    "\n",
    "        # Get Tensors from loaded model\n",
    "        loaded_x = loaded_graph.get_tensor_by_name('x:0')\n",
    "        loaded_y = loaded_graph.get_tensor_by_name('y:0')\n",
    "        loaded_keep_prob = loaded_graph.get_tensor_by_name('keep_prob:0')\n",
    "        loaded_logits = loaded_graph.get_tensor_by_name('logits:0')\n",
    "        loaded_acc = loaded_graph.get_tensor_by_name('accuracy:0')\n",
    "        \n",
    "        # Get accuracy in batches for memory limitations\n",
    "        test_batch_acc_total = 0\n",
    "        test_batch_count = 0\n",
    "        \n",
    "        for test_feature_batch, test_label_batch in helper.batch_features_labels(test_features, test_labels, batch_size):\n",
    "            test_batch_acc_total += sess.run(\n",
    "                loaded_acc,\n",
    "                feed_dict={loaded_x: test_feature_batch, loaded_y: test_label_batch, loaded_keep_prob: 1.0})\n",
    "            test_batch_count += 1\n",
    "\n",
    "        print('Testing Accuracy: {}\\n'.format(test_batch_acc_total/test_batch_count))\n",
    "\n",
    "        # Print Random Samples\n",
    "        random_test_features, random_test_labels = tuple(zip(*random.sample(list(zip(test_features, test_labels)), n_samples)))\n",
    "        random_test_predictions = sess.run(\n",
    "            tf.nn.top_k(tf.nn.softmax(loaded_logits), top_n_predictions),\n",
    "            feed_dict={loaded_x: random_test_features, loaded_y: random_test_labels, loaded_keep_prob: 1.0})\n",
    "        helper.display_image_predictions(random_test_features, random_test_labels, random_test_predictions)\n",
    "\n",
    "\n",
    "test_model()"
   ]
  },
  {
   "cell_type": "markdown",
   "metadata": {},
   "source": [
    "## Why 50-80% Accuracy?\n",
    "You might be wondering why you can't get an accuracy any higher. First things first, 50% isn't bad for a simple CNN.  Pure guessing would get you 10% accuracy. However, you might notice people are getting scores [well above 80%](http://rodrigob.github.io/are_we_there_yet/build/classification_datasets_results.html#43494641522d3130).  That's because we haven't taught you all there is to know about neural networks. We still need to cover a few more techniques.\n",
    "## Submitting This Project\n",
    "When submitting this project, make sure to run all the cells before saving the notebook.  Save the notebook file as \"dlnd_image_classification.ipynb\" and save it as a HTML file under \"File\" -> \"Download as\".  Include the \"helper.py\" and \"problem_unittests.py\" files in your submission."
   ]
  }
 ],
 "metadata": {
  "kernelspec": {
   "display_name": "Python 3",
   "language": "python",
   "name": "python3"
  },
  "language_info": {
   "codemirror_mode": {
    "name": "ipython",
    "version": 3
   },
   "file_extension": ".py",
   "mimetype": "text/x-python",
   "name": "python",
   "nbconvert_exporter": "python",
   "pygments_lexer": "ipython3",
   "version": "3.5.3"
  }
 },
 "nbformat": 4,
 "nbformat_minor": 1
}
